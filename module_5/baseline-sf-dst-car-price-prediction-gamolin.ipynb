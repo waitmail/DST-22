{
 "cells": [
  {
   "cell_type": "markdown",
   "metadata": {
    "papermill": {
     "duration": 0.029718,
     "end_time": "2020-10-26T12:46:41.276296",
     "exception": false,
     "start_time": "2020-10-26T12:46:41.246578",
     "status": "completed"
    },
    "tags": []
   },
   "source": [
    "<img src=\"https://whatcar.vn/media/2018/09/car-lot-940x470.jpg\"/>\n",
    "\n",
    "## Прогнозирование стоимости автомобиля по характеристикам\n",
    "*Этот Ноутбук является Примером/Шаблоном (Baseline) к этому соревнованию и не служит готовым решением!*   \n",
    "Вы можете использовать его как основу для построения своего решения.\n",
    "\n",
    "\n",
    "> **baseline** создается больше как шаблон, где можно посмотреть как происходит обращение с входящими данными и что нужно получить на выходе. При этом МЛ начинка может быть достаточно простой. Это помогает быстрее приступить к самому МЛ, а не тратить ценное время на чисто инженерные задачи. \n",
    "Также baseline является хорошей опорной точкой по метрике. Если твое решение хуже baseline - ты явно делаешь что-то не то и стоит попробовать другой путь) "
   ]
  },
  {
   "cell_type": "markdown",
   "metadata": {
    "papermill": {
     "duration": 0.028027,
     "end_time": "2020-10-26T12:46:41.334278",
     "exception": false,
     "start_time": "2020-10-26T12:46:41.306251",
     "status": "completed"
    },
    "tags": []
   },
   "source": [
    "Помним, что по условию соревнования, нам нужно самостоятельно собрать обучающий датасет. В этом ноутбуке мы не будем рассматривать сбор данных. Предположим, что мы уже все собрали и просто подключили свой датасет через \"Add Data\", чтобы приступить к самому ML."
   ]
  },
  {
   "cell_type": "code",
   "execution_count": 11,
   "metadata": {},
   "outputs": [
    {
     "data": {
      "text/plain": [
       "'\\nfrom fake_useragent import UserAgent \\nfrom bs4 import BeautifulSoup    \\nimport requests  \\nimport re\\nimport time\\nimport pandas as pd\\nimport numpy as np\\nimport itertools\\nfrom joblib import Parallel, delayed\\nfrom tqdm.notebook import tqdm\\n\\n\\n\\n\\n# Функция по извлечению данных со страницы объявления в словарь data_dict\\ndef parsing_page_one_ad(url):\\n\\n    response = requests.get(url, headers={\\'User-Agent\\': UserAgent().chrome})    \\n    response.encoding =\\'utf8\\'   \\n    \\n    # Теперь создадим объект BeautifulSoup, указывая html парсер    \\n    page = BeautifulSoup(response.text, \\'html.parser\\')\\n    data_dict = {}\\n\\n    data_dict[\\'car_url\\'] = url\\n    data_dict[\\'parsing_unixtime\\'] = int(time.time())\\n\\n\\n     # в разделах script ищем вхождение \\'complectation\":{\"id\"\\'\\n    for script in page.find_all(\"script\"):\\n        if \\'complectation\":{\"id\"\\' in str(script):\\n            a = str(script)  # присваиваем a содержимое скрипта как строку\\n    # в a  ищем \\'complectation\":\\' и содержимое между {}. Отсекаем начало, оставляя только содержимое словаря\\n            data_dict[\\'complectation_dict\\'] = re.search(r\\'complectation\":{\"id.*?}\\', a)[0][15:]\\n\\n        if \\'equipment\":{\\' in str(script):\\n            a = str(script)  # присваиваем a содержимое скрипта как строку\\n        # в a  ищем \\'equipment\":\\' и содержимое между {}. Отсекаем начало, оставляя только содержимое словаря\\n            data_dict[\\'equipment_dict\\'] = re.search(r\\'equipment\":{.*?}\\', a)[0][11:]\\n\\n        if \\'{\"mileage\":\\' in str(script):\\n            a = str(script)  # присваиваем a содержимое скрипта как строку\\n        # в a  ищем \\'{\"mileage\":\\' и содержимое между {}. Отсекаем начало, оставляя только содержимое словаря\\n            data_dict[\\'mileage\\'] = re.search(r\\'\"mileage\":\\\\d*\\', a)[0][10:]\\n\\n        if \\'\"model_info\":\\' in str(script):\\n            a = str(script)  # присваиваем a содержимое скрипта как строку\\n            data_dict[\\'model_info\\'] = re.search(r\\'\"model_info\":{.*?}\\', a)[0][13:]\\n            data_dict[\\'model_name\\'] = re.search(r\\'model_info\":{\"code\":\".*?\"\\', a)[0][20:].strip(\\'\"\\')\\n\\n        if \\'super_gen\":{\\' in str(script):\\n            a = str(script)  # присваиваем a содержимое скрипта как строку\\n            data_dict[\\'super_gen\\'] = re.search(r\\'super_gen\":{.*?}\\', a)[0][11:] \\n\\n        if \\'vendor\":\"\\' in str(script):\\n            a = str(script)  # присваиваем a содержимое скрипта как строку\\n            data_dict[\\'vendor\\'] = re.search(r\\'vendor\":\".*?\"\\', a)[0][9:].strip(\\'\"\\')\\n\\n\\n    for tag in page.find_all(\\'div\\'):\\n        if tag.get(\"title\") == \"Идентификатор объявления\":\\n            data_dict[\\'sell_id\\'] = re.search(r\\'\\\\d+\\', tag.text)[0]\\n\\n\\n    for tag in page.find_all(\"meta\"):\\n        if tag.get(\"itemprop\") == \"bodyType\":\\n            data_dict[\\'bodyType\\'] = tag.get(\"content\")\\n\\n        if tag.get(\"itemprop\") == \"brand\":\\n            data_dict[\\'brand\\'] = tag.get(\"content\")\\n\\n        if tag.get(\"itemprop\") == \"color\":\\n            data_dict[\\'color\\'] = tag.get(\"content\")\\n\\n        if tag.get(\"itemprop\") == \"description\":\\n            data_dict[\\'description\\'] = tag.get(\"content\")\\n\\n        if tag.get(\"itemprop\") == \"engineDisplacement\":\\n            data_dict[\\'engineDisplacement\\'] = tag.get(\"content\")\\n\\n        if tag.get(\"itemprop\") == \"enginePower\":\\n            data_dict[\\'enginePower\\'] = tag.get(\"content\")\\n\\n        if tag.get(\"itemprop\") == \"fuelType\":\\n            data_dict[\\'fuelType\\'] = tag.get(\"content\")\\n\\n        if tag.get(\"itemprop\") == \"modelDate\":\\n            data_dict[\\'modelDate\\'] = tag.get(\"content\")\\n\\n        if tag.get(\"itemprop\") == \"name\":\\n            data_dict[\\'name\\'] = tag.get(\"content\")\\n\\n        if tag.get(\"itemprop\") == \"numberOfDoors\":\\n            data_dict[\\'numberOfDoors\\'] = tag.get(\"content\")\\n\\n        if tag.get(\"itemprop\") == \"price\":\\n            data_dict[\\'price\\'] = tag.get(\"content\")\\n\\n        if tag.get(\"itemprop\") == \"priceCurrency\":\\n            data_dict[\\'priceCurrency\\'] = tag.get(\"content\")\\n\\n        if tag.get(\"itemprop\") == \"productionDate\":\\n            data_dict[\\'productionDate\\'] = tag.get(\"content\")\\n\\n        if tag.get(\"itemprop\") == \"vehicleConfiguration\":\\n            data_dict[\\'vehicleConfiguration\\'] = tag.get(\"content\")\\n\\n        if tag.get(\"itemprop\") == \"vehicleTransmission\":\\n            data_dict[\\'vehicleTransmission\\'] = tag.get(\"content\")\\n\\n\\n    span_CardInfoRow__cell = page.find_all(\\'span\\', {\\'class\\': \\'CardInfoRow__cell\\'})\\n\\n    for i,tag in enumerate (span_CardInfoRow__cell):\\n        if tag.text == \"Владельцы\":\\n            data_dict[\\'Владельцы\\'] = span_CardInfoRow__cell[i+1].text.replace(u\\'\\xa0\\', u\\' \\') # в  конце заменяем юникодовский пробел\\n\\n        if tag.text == \"Владение\":\\n            data_dict[\\'Владение\\'] = span_CardInfoRow__cell[i+1].text.replace(u\\'\\xa0\\', u\\' \\') # в  конце заменяем юникодовский пробел    \\n\\n        if tag.text == \"ПТС\":\\n            data_dict[\\'ПТС\\'] = span_CardInfoRow__cell[i+1].text.replace(u\\'\\xa0\\', u\\' \\') # в  конце заменяем юникодовский пробел    \\n\\n        if tag.text == \"Привод\":\\n            data_dict[\\'Привод\\'] = span_CardInfoRow__cell[i+1].text.replace(u\\'\\xa0\\', u\\' \\') # в  конце заменяем юникодовский пробел \\n\\n        if tag.text == \"Руль\":\\n            data_dict[\\'Руль\\'] = span_CardInfoRow__cell[i+1].text.replace(u\\'\\xa0\\', u\\' \\') # в  конце заменяем юникодовский пробел\\n\\n        if tag.text == \"Состояние\":\\n            data_dict[\\'Состояние\\'] = span_CardInfoRow__cell[i+1].text.replace(u\\'\\xa0\\', u\\' \\') # в  конце заменяем юникодовский пробел \\n\\n        if tag.text == \"Таможня\":\\n            data_dict[\\'Таможня\\'] = span_CardInfoRow__cell[i+1].text.replace(u\\'\\xa0\\', u\\' \\') # в  конце заменяем юникодовский пробел\\n\\n    return data_dict\\n\\n    \\n# Функция по созданию списка ссылок links_list  на объявления о продаже автомобилей  \\ndef extraction_links(url):\\n    links_list =[] \\n    response = requests.get(url, headers={\\'User-Agent\\': UserAgent().chrome})  \\n    response.encoding =\\'utf8\\'\\n    page = BeautifulSoup(response.text, \\'html.parser\\') \\n    links = page.find_all(\\'a\\', class_=\\'Link ListingItemTitle-module__link\\')\\n    \\n    for link in links:\\n        links_list.append(link.get(\"href\"))\\n    return links_list\\n    \\n    \\n    \\n    \\n    \\ndf = pd.DataFrame() # инициализируем итоговый датафрейм \\n\\nurl_link_list = [] # список страниц по годам и номерам от 1 до 99\\n\\nranges = [range(2006, 2011), range(1, 100)] # указываем года и диапазон страниц, которые будем парсить \\n\\n# index[0] - year, index[1] - page \\nfor index in itertools.product(*ranges):\\n    # формируем ссылки страницы со списками объявлений\\n    на  = (f\"https://auto.ru/moskva/cars/{index[0]}-year/all/?output_type=table&page={index[1]}\")\\n    url_link_list.append(url_links) # заносим их в список\\n    \\nlinks_list = [] # список списков ссылок на объявления c одной страницы таблицы объявлений\\n\\n#for url_links in url_link_list:\\n# извлекаем в links_list список ссылок на объявления\\ntry:\\n        #links_list = extraction_links(url_links)\\n    links_list = Parallel(n_jobs = 2)(delayed(extraction_links)(url_links) for url_links in url_link_list)\\nexcept:\\n    pass \\n\\nads_dict_list = [] # список словарей содержимого объявлений\\n\\nfor links in links_list:\\n    try:\\n        ads_dict_list = Parallel(n_jobs = 2)(delayed(parsing_page_one_ad)(ad_url) for ad_url in links)\\n    except:\\n        pass\\n    \\n    for ad in ads_dict_list:\\n        try:\\n            df = df.append(ad, ignore_index=True)\\n        except:\\n            pass\\n\\ndf.to_csv(\\'_auto_ru_XXXX-XXXX.csv\\', encoding = \\'utf-8\\', index=False) # записываем содержимое датафрейма в файл\\n'"
      ]
     },
     "execution_count": 11,
     "metadata": {},
     "output_type": "execute_result"
    }
   ],
   "source": [
    "\"\"\"\n",
    "from fake_useragent import UserAgent \n",
    "from bs4 import BeautifulSoup    \n",
    "import requests  \n",
    "import re\n",
    "import time\n",
    "import pandas as pd\n",
    "import numpy as np\n",
    "import itertools\n",
    "from joblib import Parallel, delayed\n",
    "from tqdm.notebook import tqdm\n",
    "\n",
    "\n",
    "\n",
    "\n",
    "# Функция по извлечению данных со страницы объявления в словарь data_dict\n",
    "def parsing_page_one_ad(url):\n",
    "\n",
    "    response = requests.get(url, headers={'User-Agent': UserAgent().chrome})    \n",
    "    response.encoding ='utf8'   \n",
    "    \n",
    "    # Теперь создадим объект BeautifulSoup, указывая html парсер    \n",
    "    page = BeautifulSoup(response.text, 'html.parser')\n",
    "    data_dict = {}\n",
    "\n",
    "    data_dict['car_url'] = url\n",
    "    data_dict['parsing_unixtime'] = int(time.time())\n",
    "\n",
    "\n",
    "     # в разделах script ищем вхождение 'complectation\":{\"id\"'\n",
    "    for script in page.find_all(\"script\"):\n",
    "        if 'complectation\":{\"id\"' in str(script):\n",
    "            a = str(script)  # присваиваем a содержимое скрипта как строку\n",
    "    # в a  ищем 'complectation\":' и содержимое между {}. Отсекаем начало, оставляя только содержимое словаря\n",
    "            data_dict['complectation_dict'] = re.search(r'complectation\":{\"id.*?}', a)[0][15:]\n",
    "\n",
    "        if 'equipment\":{' in str(script):\n",
    "            a = str(script)  # присваиваем a содержимое скрипта как строку\n",
    "        # в a  ищем 'equipment\":' и содержимое между {}. Отсекаем начало, оставляя только содержимое словаря\n",
    "            data_dict['equipment_dict'] = re.search(r'equipment\":{.*?}', a)[0][11:]\n",
    "\n",
    "        if '{\"mileage\":' in str(script):\n",
    "            a = str(script)  # присваиваем a содержимое скрипта как строку\n",
    "        # в a  ищем '{\"mileage\":' и содержимое между {}. Отсекаем начало, оставляя только содержимое словаря\n",
    "            data_dict['mileage'] = re.search(r'\"mileage\":\\d*', a)[0][10:]\n",
    "\n",
    "        if '\"model_info\":' in str(script):\n",
    "            a = str(script)  # присваиваем a содержимое скрипта как строку\n",
    "            data_dict['model_info'] = re.search(r'\"model_info\":{.*?}', a)[0][13:]\n",
    "            data_dict['model_name'] = re.search(r'model_info\":{\"code\":\".*?\"', a)[0][20:].strip('\"')\n",
    "\n",
    "        if 'super_gen\":{' in str(script):\n",
    "            a = str(script)  # присваиваем a содержимое скрипта как строку\n",
    "            data_dict['super_gen'] = re.search(r'super_gen\":{.*?}', a)[0][11:] \n",
    "\n",
    "        if 'vendor\":\"' in str(script):\n",
    "            a = str(script)  # присваиваем a содержимое скрипта как строку\n",
    "            data_dict['vendor'] = re.search(r'vendor\":\".*?\"', a)[0][9:].strip('\"')\n",
    "\n",
    "\n",
    "    for tag in page.find_all('div'):\n",
    "        if tag.get(\"title\") == \"Идентификатор объявления\":\n",
    "            data_dict['sell_id'] = re.search(r'\\d+', tag.text)[0]\n",
    "\n",
    "\n",
    "    for tag in page.find_all(\"meta\"):\n",
    "        if tag.get(\"itemprop\") == \"bodyType\":\n",
    "            data_dict['bodyType'] = tag.get(\"content\")\n",
    "\n",
    "        if tag.get(\"itemprop\") == \"brand\":\n",
    "            data_dict['brand'] = tag.get(\"content\")\n",
    "\n",
    "        if tag.get(\"itemprop\") == \"color\":\n",
    "            data_dict['color'] = tag.get(\"content\")\n",
    "\n",
    "        if tag.get(\"itemprop\") == \"description\":\n",
    "            data_dict['description'] = tag.get(\"content\")\n",
    "\n",
    "        if tag.get(\"itemprop\") == \"engineDisplacement\":\n",
    "            data_dict['engineDisplacement'] = tag.get(\"content\")\n",
    "\n",
    "        if tag.get(\"itemprop\") == \"enginePower\":\n",
    "            data_dict['enginePower'] = tag.get(\"content\")\n",
    "\n",
    "        if tag.get(\"itemprop\") == \"fuelType\":\n",
    "            data_dict['fuelType'] = tag.get(\"content\")\n",
    "\n",
    "        if tag.get(\"itemprop\") == \"modelDate\":\n",
    "            data_dict['modelDate'] = tag.get(\"content\")\n",
    "\n",
    "        if tag.get(\"itemprop\") == \"name\":\n",
    "            data_dict['name'] = tag.get(\"content\")\n",
    "\n",
    "        if tag.get(\"itemprop\") == \"numberOfDoors\":\n",
    "            data_dict['numberOfDoors'] = tag.get(\"content\")\n",
    "\n",
    "        if tag.get(\"itemprop\") == \"price\":\n",
    "            data_dict['price'] = tag.get(\"content\")\n",
    "\n",
    "        if tag.get(\"itemprop\") == \"priceCurrency\":\n",
    "            data_dict['priceCurrency'] = tag.get(\"content\")\n",
    "\n",
    "        if tag.get(\"itemprop\") == \"productionDate\":\n",
    "            data_dict['productionDate'] = tag.get(\"content\")\n",
    "\n",
    "        if tag.get(\"itemprop\") == \"vehicleConfiguration\":\n",
    "            data_dict['vehicleConfiguration'] = tag.get(\"content\")\n",
    "\n",
    "        if tag.get(\"itemprop\") == \"vehicleTransmission\":\n",
    "            data_dict['vehicleTransmission'] = tag.get(\"content\")\n",
    "\n",
    "\n",
    "    span_CardInfoRow__cell = page.find_all('span', {'class': 'CardInfoRow__cell'})\n",
    "\n",
    "    for i,tag in enumerate (span_CardInfoRow__cell):\n",
    "        if tag.text == \"Владельцы\":\n",
    "            data_dict['Владельцы'] = span_CardInfoRow__cell[i+1].text.replace(u'\\xa0', u' ') # в  конце заменяем юникодовский пробел\n",
    "\n",
    "        if tag.text == \"Владение\":\n",
    "            data_dict['Владение'] = span_CardInfoRow__cell[i+1].text.replace(u'\\xa0', u' ') # в  конце заменяем юникодовский пробел    \n",
    "\n",
    "        if tag.text == \"ПТС\":\n",
    "            data_dict['ПТС'] = span_CardInfoRow__cell[i+1].text.replace(u'\\xa0', u' ') # в  конце заменяем юникодовский пробел    \n",
    "\n",
    "        if tag.text == \"Привод\":\n",
    "            data_dict['Привод'] = span_CardInfoRow__cell[i+1].text.replace(u'\\xa0', u' ') # в  конце заменяем юникодовский пробел \n",
    "\n",
    "        if tag.text == \"Руль\":\n",
    "            data_dict['Руль'] = span_CardInfoRow__cell[i+1].text.replace(u'\\xa0', u' ') # в  конце заменяем юникодовский пробел\n",
    "\n",
    "        if tag.text == \"Состояние\":\n",
    "            data_dict['Состояние'] = span_CardInfoRow__cell[i+1].text.replace(u'\\xa0', u' ') # в  конце заменяем юникодовский пробел \n",
    "\n",
    "        if tag.text == \"Таможня\":\n",
    "            data_dict['Таможня'] = span_CardInfoRow__cell[i+1].text.replace(u'\\xa0', u' ') # в  конце заменяем юникодовский пробел\n",
    "\n",
    "    return data_dict\n",
    "\n",
    "    \n",
    "# Функция по созданию списка ссылок links_list  на объявления о продаже автомобилей  \n",
    "def extraction_links(url):\n",
    "    links_list =[] \n",
    "    response = requests.get(url, headers={'User-Agent': UserAgent().chrome})  \n",
    "    response.encoding ='utf8'\n",
    "    page = BeautifulSoup(response.text, 'html.parser') \n",
    "    links = page.find_all('a', class_='Link ListingItemTitle-module__link')\n",
    "    \n",
    "    for link in links:\n",
    "        links_list.append(link.get(\"href\"))\n",
    "    return links_list\n",
    "    \n",
    "    \n",
    "    \n",
    "    \n",
    "    \n",
    "df = pd.DataFrame() # инициализируем итоговый датафрейм \n",
    "\n",
    "url_link_list = [] # список страниц по годам и номерам от 1 до 99\n",
    "\n",
    "ranges = [range(2006, 2011), range(1, 100)] # указываем года и диапазон страниц, которые будем парсить \n",
    "\n",
    "# index[0] - year, index[1] - page \n",
    "for index in itertools.product(*ranges):\n",
    "    # формируем ссылки страницы со списками объявлений\n",
    "    на  = (f\"https://auto.ru/moskva/cars/{index[0]}-year/all/?output_type=table&page={index[1]}\")\n",
    "    url_link_list.append(url_links) # заносим их в список\n",
    "    \n",
    "links_list = [] # список списков ссылок на объявления c одной страницы таблицы объявлений\n",
    "\n",
    "#for url_links in url_link_list:\n",
    "# извлекаем в links_list список ссылок на объявления\n",
    "try:\n",
    "        #links_list = extraction_links(url_links)\n",
    "    links_list = Parallel(n_jobs = 2)(delayed(extraction_links)(url_links) for url_links in url_link_list)\n",
    "except:\n",
    "    pass \n",
    "\n",
    "ads_dict_list = [] # список словарей содержимого объявлений\n",
    "\n",
    "for links in links_list:\n",
    "    try:\n",
    "        ads_dict_list = Parallel(n_jobs = 2)(delayed(parsing_page_one_ad)(ad_url) for ad_url in links)\n",
    "    except:\n",
    "        pass\n",
    "    \n",
    "    for ad in ads_dict_list:\n",
    "        try:\n",
    "            df = df.append(ad, ignore_index=True)\n",
    "        except:\n",
    "            pass\n",
    "\n",
    "df.to_csv('_auto_ru_XXXX-XXXX.csv', encoding = 'utf-8', index=False) # записываем содержимое датафрейма в файл\n",
    "\"\"\""
   ]
  },
  {
   "cell_type": "code",
   "execution_count": 12,
   "metadata": {},
   "outputs": [
    {
     "data": {
      "text/plain": [
       "'\\nimport os\\nimport pandas as pd\\nimport numpy as np\\n\\ndf = pd.DataFrame()\\nlist_file = os.listdir(path=\".\") # получение списка файлов в папке\\n\\nfor file in list_file:\\n    if \\'.csv\\' in file: # если у файла расширение .csv, то читаем его как DF\\n        df_temp = pd.read_csv(file)\\n        df = pd.concat([df, df_temp], ignore_index=True)\\n        \\ndf = df.drop_duplicates(subset=[\\'car_url\\']) # удаление дубликатов по URL объявления\\n\\ndf = df.replace(\\'{}\\',  None) # замена пустых словарей на NaN\\ndf[\\'mileage\\'] = df[\\'mileage\\'].apply(lambda x: int(x) if type(x) == str else x) # приведение \\'mileage\\' к числовму виду\\ndf = df.replace(np.nan,  None)\\n\\ndf.to_csv(\\'_auto_ru_23012021.csv\\', encoding = \\'utf-8\\', index=False)\\n'"
      ]
     },
     "execution_count": 12,
     "metadata": {},
     "output_type": "execute_result"
    }
   ],
   "source": [
    "\"\"\"\n",
    "import os\n",
    "import pandas as pd\n",
    "import numpy as np\n",
    "\n",
    "df = pd.DataFrame()\n",
    "list_file = os.listdir(path=\".\") # получение списка файлов в папке\n",
    "\n",
    "for file in list_file:\n",
    "    if '.csv' in file: # если у файла расширение .csv, то читаем его как DF\n",
    "        df_temp = pd.read_csv(file)\n",
    "        df = pd.concat([df, df_temp], ignore_index=True)\n",
    "        \n",
    "df = df.drop_duplicates(subset=['car_url']) # удаление дубликатов по URL объявления\n",
    "\n",
    "df = df.replace('{}',  None) # замена пустых словарей на NaN\n",
    "df['mileage'] = df['mileage'].apply(lambda x: int(x) if type(x) == str else x) # приведение 'mileage' к числовму виду\n",
    "df = df.replace(np.nan,  None)\n",
    "\n",
    "df.to_csv('_auto_ru_23012021.csv', encoding = 'utf-8', index=False)\n",
    "\"\"\""
   ]
  },
  {
   "cell_type": "code",
   "execution_count": 13,
   "metadata": {
    "_cell_guid": "b1076dfc-b9ad-4769-8c92-a6c4dae69d19",
    "_uuid": "8f2839f25d086af736a60e9eeb907d3b93b6e0e5",
    "execution": {
     "iopub.execute_input": "2020-10-26T12:46:41.400302Z",
     "iopub.status.busy": "2020-10-26T12:46:41.399317Z",
     "iopub.status.idle": "2020-10-26T12:46:42.581426Z",
     "shell.execute_reply": "2020-10-26T12:46:42.580431Z"
    },
    "papermill": {
     "duration": 1.219772,
     "end_time": "2020-10-26T12:46:42.581597",
     "exception": false,
     "start_time": "2020-10-26T12:46:41.361825",
     "status": "completed"
    },
    "tags": []
   },
   "outputs": [],
   "source": [
    "import numpy as np # linear algebra\n",
    "import pandas as pd # data processing, CSV file I/O (e.g. pd.read_csv)\n",
    "import sys\n",
    "from sklearn.model_selection import train_test_split\n",
    "from sklearn.model_selection import KFold\n",
    "from tqdm.notebook import tqdm\n",
    "from catboost import CatBoostRegressor\n",
    "from sklearn.preprocessing import LabelEncoder\n",
    "from sklearn.ensemble import RandomForestRegressor, GradientBoostingRegressor, StackingRegressor\n",
    "from sklearn.neighbors import KNeighborsRegressor\n",
    "import matplotlib.pyplot as plt\n",
    "%matplotlib inline\n",
    "import seaborn as sns"
   ]
  },
  {
   "cell_type": "code",
   "execution_count": 14,
   "metadata": {
    "_kg_hide-input": true,
    "execution": {
     "iopub.execute_input": "2020-10-26T12:46:42.646795Z",
     "iopub.status.busy": "2020-10-26T12:46:42.645765Z",
     "iopub.status.idle": "2020-10-26T12:46:42.649793Z",
     "shell.execute_reply": "2020-10-26T12:46:42.650407Z"
    },
    "papermill": {
     "duration": 0.040034,
     "end_time": "2020-10-26T12:46:42.650603",
     "exception": false,
     "start_time": "2020-10-26T12:46:42.610569",
     "status": "completed"
    },
    "tags": []
   },
   "outputs": [
    {
     "name": "stdout",
     "output_type": "stream",
     "text": [
      "Python       : 3.7.9 (default, Aug 31 2020, 17:10:11) [MSC v.1916 64 bit (AMD64)]\n",
      "Numpy        : 1.19.2\n"
     ]
    }
   ],
   "source": [
    "print('Python       :', sys.version.split('\\n')[0])\n",
    "print('Numpy        :', np.__version__)"
   ]
  },
  {
   "cell_type": "code",
   "execution_count": 15,
   "metadata": {
    "_kg_hide-input": true,
    "execution": {
     "iopub.execute_input": "2020-10-26T12:46:42.716039Z",
     "iopub.status.busy": "2020-10-26T12:46:42.715184Z",
     "iopub.status.idle": "2020-10-26T12:46:47.852433Z",
     "shell.execute_reply": "2020-10-26T12:46:47.851661Z"
    },
    "papermill": {
     "duration": 5.172536,
     "end_time": "2020-10-26T12:46:47.852593",
     "exception": false,
     "start_time": "2020-10-26T12:46:42.680057",
     "status": "completed"
    },
    "tags": []
   },
   "outputs": [
    {
     "name": "stderr",
     "output_type": "stream",
     "text": [
      "WARNING: Could not generate requirement for distribution -cikit-learn 0.22.1 (c:\\programdata\\anaconda3\\lib\\site-packages): Parse error at \"'-cikit-l'\": Expected W:(abcd...)\n"
     ]
    }
   ],
   "source": [
    "# зафиксируем версию пакетов, чтобы эксперименты были воспроизводимы:\n",
    "!pip freeze > requirements.txt"
   ]
  },
  {
   "cell_type": "code",
   "execution_count": 16,
   "metadata": {
    "execution": {
     "iopub.execute_input": "2020-10-26T12:46:47.919419Z",
     "iopub.status.busy": "2020-10-26T12:46:47.918168Z",
     "iopub.status.idle": "2020-10-26T12:46:47.922267Z",
     "shell.execute_reply": "2020-10-26T12:46:47.921365Z"
    },
    "papermill": {
     "duration": 0.039842,
     "end_time": "2020-10-26T12:46:47.922434",
     "exception": false,
     "start_time": "2020-10-26T12:46:47.882592",
     "status": "completed"
    },
    "tags": []
   },
   "outputs": [],
   "source": [
    "# всегда фиксируйте RANDOM_SEED, чтобы ваши эксперименты были воспроизводимы!\n",
    "RANDOM_SEED = 42"
   ]
  },
  {
   "cell_type": "code",
   "execution_count": 17,
   "metadata": {
    "_kg_hide-input": true
   },
   "outputs": [],
   "source": [
    "def mape(y_true, y_pred):\n",
    "    return np.mean(np.abs((y_pred-y_true)/y_true))"
   ]
  },
  {
   "cell_type": "markdown",
   "metadata": {
    "papermill": {
     "duration": 0.028837,
     "end_time": "2020-10-26T12:46:47.981435",
     "exception": false,
     "start_time": "2020-10-26T12:46:47.952598",
     "status": "completed"
    },
    "tags": []
   },
   "source": [
    "# Setup"
   ]
  },
  {
   "cell_type": "code",
   "execution_count": 18,
   "metadata": {
    "execution": {
     "iopub.execute_input": "2020-10-26T12:46:48.05046Z",
     "iopub.status.busy": "2020-10-26T12:46:48.049412Z",
     "iopub.status.idle": "2020-10-26T12:46:48.052578Z",
     "shell.execute_reply": "2020-10-26T12:46:48.051917Z"
    },
    "papermill": {
     "duration": 0.039969,
     "end_time": "2020-10-26T12:46:48.052728",
     "exception": false,
     "start_time": "2020-10-26T12:46:48.012759",
     "status": "completed"
    },
    "tags": []
   },
   "outputs": [],
   "source": [
    "VERSION    = 16\n",
    "DIR_TRAIN  = '../input/parsing-all-moscow-auto-ru-09-09-2020/' # подключил к ноутбуку внешний датасет\n",
    "#DIR_TRAIN  = '../input/auto-ru-moskva-23-01-2021/' # подключил к ноутбуку внешний датасет\n",
    "DIR_TEST   = '../input/sf-dst-car-price-prediction/'\n",
    "VAL_SIZE   = 0.20   # 20%"
   ]
  },
  {
   "cell_type": "markdown",
   "metadata": {
    "papermill": {
     "duration": 0.030254,
     "end_time": "2020-10-26T12:46:48.112586",
     "exception": false,
     "start_time": "2020-10-26T12:46:48.082332",
     "status": "completed"
    },
    "tags": []
   },
   "source": [
    "# Data"
   ]
  },
  {
   "cell_type": "code",
   "execution_count": 19,
   "metadata": {
    "execution": {
     "iopub.execute_input": "2020-10-26T12:46:48.179769Z",
     "iopub.status.busy": "2020-10-26T12:46:48.178918Z",
     "iopub.status.idle": "2020-10-26T12:46:48.924574Z",
     "shell.execute_reply": "2020-10-26T12:46:48.925184Z"
    },
    "papermill": {
     "duration": 0.783211,
     "end_time": "2020-10-26T12:46:48.925418",
     "exception": false,
     "start_time": "2020-10-26T12:46:48.142207",
     "status": "completed"
    },
    "tags": []
   },
   "outputs": [],
   "source": [
    "#!ls '../input'"
   ]
  },
  {
   "cell_type": "code",
   "execution_count": 20,
   "metadata": {
    "_cell_guid": "79c7e3d0-c299-4dcb-8224-4455121ee9b0",
    "_uuid": "d629ff2d2480ee46fbb7e2d37f6b5fab8052498a",
    "execution": {
     "iopub.execute_input": "2020-10-26T12:46:49.007668Z",
     "iopub.status.busy": "2020-10-26T12:46:49.006762Z",
     "iopub.status.idle": "2020-10-26T12:47:02.121152Z",
     "shell.execute_reply": "2020-10-26T12:47:02.120434Z"
    },
    "papermill": {
     "duration": 13.16556,
     "end_time": "2020-10-26T12:47:02.12133",
     "exception": false,
     "start_time": "2020-10-26T12:46:48.95577",
     "status": "completed"
    },
    "tags": []
   },
   "outputs": [],
   "source": [
    "train = pd.read_csv('D:/Temp/all_auto_ru_09_09_2020.csv') # датасет для обучения модели\n",
    "test = pd.read_csv('D:/Temp/test.csv')\n",
    "sample_submission = pd.read_csv('sample_submission.csv')\n",
    "\n",
    "#train = pd.read_csv(DIR_TRAIN+'auto_ru_moskva_23_01_2021.csv') # датасет для обучения модели\n",
    "#test = pd.read_csv(DIR_TEST+'test.csv')\n",
    "#sample_submission = pd.read_csv(DIR_TEST+'sample_submission.csv')"
   ]
  },
  {
   "cell_type": "code",
   "execution_count": 21,
   "metadata": {
    "execution": {
     "iopub.execute_input": "2020-10-26T12:47:02.22557Z",
     "iopub.status.busy": "2020-10-26T12:47:02.21916Z",
     "iopub.status.idle": "2020-10-26T12:47:02.245921Z",
     "shell.execute_reply": "2020-10-26T12:47:02.246559Z"
    },
    "papermill": {
     "duration": 0.09378,
     "end_time": "2020-10-26T12:47:02.246755",
     "exception": false,
     "start_time": "2020-10-26T12:47:02.152975",
     "status": "completed"
    },
    "tags": []
   },
   "outputs": [
    {
     "data": {
      "text/html": [
       "<div>\n",
       "<style scoped>\n",
       "    .dataframe tbody tr th:only-of-type {\n",
       "        vertical-align: middle;\n",
       "    }\n",
       "\n",
       "    .dataframe tbody tr th {\n",
       "        vertical-align: top;\n",
       "    }\n",
       "\n",
       "    .dataframe thead th {\n",
       "        text-align: right;\n",
       "    }\n",
       "</style>\n",
       "<table border=\"1\" class=\"dataframe\">\n",
       "  <thead>\n",
       "    <tr style=\"text-align: right;\">\n",
       "      <th></th>\n",
       "      <th>bodyType</th>\n",
       "      <th>brand</th>\n",
       "      <th>color</th>\n",
       "      <th>fuelType</th>\n",
       "      <th>modelDate</th>\n",
       "      <th>name</th>\n",
       "      <th>numberOfDoors</th>\n",
       "      <th>productionDate</th>\n",
       "      <th>vehicleConfiguration</th>\n",
       "      <th>vehicleTransmission</th>\n",
       "      <th>...</th>\n",
       "      <th>Руль</th>\n",
       "      <th>Состояние</th>\n",
       "      <th>Владельцы</th>\n",
       "      <th>ПТС</th>\n",
       "      <th>Таможня</th>\n",
       "      <th>Владение</th>\n",
       "      <th>price</th>\n",
       "      <th>start_date</th>\n",
       "      <th>hidden</th>\n",
       "      <th>model</th>\n",
       "    </tr>\n",
       "  </thead>\n",
       "  <tbody>\n",
       "    <tr>\n",
       "      <th>0</th>\n",
       "      <td>Седан</td>\n",
       "      <td>AUDI</td>\n",
       "      <td>040001</td>\n",
       "      <td>бензин</td>\n",
       "      <td>1990.0</td>\n",
       "      <td>2.8 MT (174 л.с.) 4WD</td>\n",
       "      <td>4.0</td>\n",
       "      <td>1991</td>\n",
       "      <td>SEDAN MECHANICAL 2.8</td>\n",
       "      <td>MECHANICAL</td>\n",
       "      <td>...</td>\n",
       "      <td>LEFT</td>\n",
       "      <td>NaN</td>\n",
       "      <td>3.0</td>\n",
       "      <td>ORIGINAL</td>\n",
       "      <td>True</td>\n",
       "      <td>NaN</td>\n",
       "      <td>200000.0</td>\n",
       "      <td>2019-10-03T08:09:11Z</td>\n",
       "      <td>NaN</td>\n",
       "      <td>100</td>\n",
       "    </tr>\n",
       "    <tr>\n",
       "      <th>1</th>\n",
       "      <td>Седан</td>\n",
       "      <td>AUDI</td>\n",
       "      <td>EE1D19</td>\n",
       "      <td>бензин</td>\n",
       "      <td>1982.0</td>\n",
       "      <td>1.8 MT (90 л.с.)</td>\n",
       "      <td>4.0</td>\n",
       "      <td>1986</td>\n",
       "      <td>SEDAN MECHANICAL 1.8</td>\n",
       "      <td>MECHANICAL</td>\n",
       "      <td>...</td>\n",
       "      <td>LEFT</td>\n",
       "      <td>NaN</td>\n",
       "      <td>3.0</td>\n",
       "      <td>ORIGINAL</td>\n",
       "      <td>True</td>\n",
       "      <td>NaN</td>\n",
       "      <td>60000.0</td>\n",
       "      <td>2020-09-06T06:49:40Z</td>\n",
       "      <td>NaN</td>\n",
       "      <td>100</td>\n",
       "    </tr>\n",
       "    <tr>\n",
       "      <th>2</th>\n",
       "      <td>Универсал 5 дв.</td>\n",
       "      <td>AUDI</td>\n",
       "      <td>0000CC</td>\n",
       "      <td>бензин</td>\n",
       "      <td>1988.0</td>\n",
       "      <td>2.3 MT (136 л.с.) 4WD</td>\n",
       "      <td>5.0</td>\n",
       "      <td>1989</td>\n",
       "      <td>WAGON_5_DOORS MECHANICAL 2.3</td>\n",
       "      <td>MECHANICAL</td>\n",
       "      <td>...</td>\n",
       "      <td>LEFT</td>\n",
       "      <td>NaN</td>\n",
       "      <td>3.0</td>\n",
       "      <td>ORIGINAL</td>\n",
       "      <td>True</td>\n",
       "      <td>NaN</td>\n",
       "      <td>99000.0</td>\n",
       "      <td>2020-09-02T14:04:21Z</td>\n",
       "      <td>NaN</td>\n",
       "      <td>100</td>\n",
       "    </tr>\n",
       "    <tr>\n",
       "      <th>3</th>\n",
       "      <td>Седан</td>\n",
       "      <td>AUDI</td>\n",
       "      <td>CACECB</td>\n",
       "      <td>бензин</td>\n",
       "      <td>1988.0</td>\n",
       "      <td>1.8 MT (90 л.с.)</td>\n",
       "      <td>4.0</td>\n",
       "      <td>1989</td>\n",
       "      <td>SEDAN MECHANICAL 1.8</td>\n",
       "      <td>MECHANICAL</td>\n",
       "      <td>...</td>\n",
       "      <td>LEFT</td>\n",
       "      <td>NaN</td>\n",
       "      <td>3.0</td>\n",
       "      <td>ORIGINAL</td>\n",
       "      <td>True</td>\n",
       "      <td>NaN</td>\n",
       "      <td>65000.0</td>\n",
       "      <td>2020-08-23T17:40:09Z</td>\n",
       "      <td>NaN</td>\n",
       "      <td>100</td>\n",
       "    </tr>\n",
       "    <tr>\n",
       "      <th>4</th>\n",
       "      <td>Седан</td>\n",
       "      <td>AUDI</td>\n",
       "      <td>040001</td>\n",
       "      <td>бензин</td>\n",
       "      <td>1990.0</td>\n",
       "      <td>2.0 MT (101 л.с.)</td>\n",
       "      <td>4.0</td>\n",
       "      <td>1991</td>\n",
       "      <td>SEDAN MECHANICAL 2.0</td>\n",
       "      <td>MECHANICAL</td>\n",
       "      <td>...</td>\n",
       "      <td>LEFT</td>\n",
       "      <td>NaN</td>\n",
       "      <td>3.0</td>\n",
       "      <td>DUPLICATE</td>\n",
       "      <td>True</td>\n",
       "      <td>NaN</td>\n",
       "      <td>100000.0</td>\n",
       "      <td>2020-09-08T09:22:07Z</td>\n",
       "      <td>NaN</td>\n",
       "      <td>100</td>\n",
       "    </tr>\n",
       "  </tbody>\n",
       "</table>\n",
       "<p>5 rows × 26 columns</p>\n",
       "</div>"
      ],
      "text/plain": [
       "          bodyType brand   color fuelType  modelDate                   name  \\\n",
       "0            Седан  AUDI  040001   бензин     1990.0  2.8 MT (174 л.с.) 4WD   \n",
       "1            Седан  AUDI  EE1D19   бензин     1982.0       1.8 MT (90 л.с.)   \n",
       "2  Универсал 5 дв.  AUDI  0000CC   бензин     1988.0  2.3 MT (136 л.с.) 4WD   \n",
       "3            Седан  AUDI  CACECB   бензин     1988.0       1.8 MT (90 л.с.)   \n",
       "4            Седан  AUDI  040001   бензин     1990.0      2.0 MT (101 л.с.)   \n",
       "\n",
       "   numberOfDoors  productionDate          vehicleConfiguration  \\\n",
       "0            4.0            1991          SEDAN MECHANICAL 2.8   \n",
       "1            4.0            1986          SEDAN MECHANICAL 1.8   \n",
       "2            5.0            1989  WAGON_5_DOORS MECHANICAL 2.3   \n",
       "3            4.0            1989          SEDAN MECHANICAL 1.8   \n",
       "4            4.0            1991          SEDAN MECHANICAL 2.0   \n",
       "\n",
       "  vehicleTransmission  ...  Руль  Состояние Владельцы        ПТС Таможня  \\\n",
       "0          MECHANICAL  ...  LEFT        NaN       3.0   ORIGINAL    True   \n",
       "1          MECHANICAL  ...  LEFT        NaN       3.0   ORIGINAL    True   \n",
       "2          MECHANICAL  ...  LEFT        NaN       3.0   ORIGINAL    True   \n",
       "3          MECHANICAL  ...  LEFT        NaN       3.0   ORIGINAL    True   \n",
       "4          MECHANICAL  ...  LEFT        NaN       3.0  DUPLICATE    True   \n",
       "\n",
       "  Владение     price            start_date  hidden model  \n",
       "0      NaN  200000.0  2019-10-03T08:09:11Z     NaN   100  \n",
       "1      NaN   60000.0  2020-09-06T06:49:40Z     NaN   100  \n",
       "2      NaN   99000.0  2020-09-02T14:04:21Z     NaN   100  \n",
       "3      NaN   65000.0  2020-08-23T17:40:09Z     NaN   100  \n",
       "4      NaN  100000.0  2020-09-08T09:22:07Z     NaN   100  \n",
       "\n",
       "[5 rows x 26 columns]"
      ]
     },
     "execution_count": 21,
     "metadata": {},
     "output_type": "execute_result"
    }
   ],
   "source": [
    "train.head(5)"
   ]
  },
  {
   "cell_type": "code",
   "execution_count": 22,
   "metadata": {},
   "outputs": [
    {
     "data": {
      "text/plain": [
       "89378"
      ]
     },
     "execution_count": 22,
     "metadata": {},
     "output_type": "execute_result"
    }
   ],
   "source": [
    "len(train)"
   ]
  },
  {
   "cell_type": "code",
   "execution_count": 23,
   "metadata": {},
   "outputs": [
    {
     "data": {
      "text/plain": [
       "9051"
      ]
     },
     "execution_count": 23,
     "metadata": {},
     "output_type": "execute_result"
    }
   ],
   "source": [
    "len(train[train['price']>3_000_000])"
   ]
  },
  {
   "cell_type": "code",
   "execution_count": 24,
   "metadata": {
    "execution": {
     "iopub.execute_input": "2020-10-26T12:47:02.317036Z",
     "iopub.status.busy": "2020-10-26T12:47:02.316251Z",
     "iopub.status.idle": "2020-10-26T12:47:02.50135Z",
     "shell.execute_reply": "2020-10-26T12:47:02.501985Z"
    },
    "papermill": {
     "duration": 0.22352,
     "end_time": "2020-10-26T12:47:02.502166",
     "exception": false,
     "start_time": "2020-10-26T12:47:02.278646",
     "status": "completed"
    },
    "tags": []
   },
   "outputs": [
    {
     "name": "stdout",
     "output_type": "stream",
     "text": [
      "<class 'pandas.core.frame.DataFrame'>\n",
      "RangeIndex: 89378 entries, 0 to 89377\n",
      "Data columns (total 26 columns):\n",
      " #   Column                Non-Null Count  Dtype  \n",
      "---  ------                --------------  -----  \n",
      " 0   bodyType              89377 non-null  object \n",
      " 1   brand                 89378 non-null  object \n",
      " 2   color                 89378 non-null  object \n",
      " 3   fuelType              89378 non-null  object \n",
      " 4   modelDate             89377 non-null  float64\n",
      " 5   name                  89377 non-null  object \n",
      " 6   numberOfDoors         89377 non-null  float64\n",
      " 7   productionDate        89378 non-null  int64  \n",
      " 8   vehicleConfiguration  89377 non-null  object \n",
      " 9   vehicleTransmission   89377 non-null  object \n",
      " 10  engineDisplacement    89377 non-null  object \n",
      " 11  enginePower           89377 non-null  float64\n",
      " 12  description           86124 non-null  object \n",
      " 13  mileage               89378 non-null  int64  \n",
      " 14  Комплектация          89378 non-null  object \n",
      " 15  Привод                89377 non-null  object \n",
      " 16  Руль                  89378 non-null  object \n",
      " 17  Состояние             0 non-null      float64\n",
      " 18  Владельцы             75790 non-null  float64\n",
      " 19  ПТС                   89017 non-null  object \n",
      " 20  Таможня               89378 non-null  bool   \n",
      " 21  Владение              29201 non-null  object \n",
      " 22  price                 88968 non-null  float64\n",
      " 23  start_date            89378 non-null  object \n",
      " 24  hidden                0 non-null      float64\n",
      " 25  model                 89378 non-null  object \n",
      "dtypes: bool(1), float64(7), int64(2), object(16)\n",
      "memory usage: 17.1+ MB\n"
     ]
    }
   ],
   "source": [
    "train.info()"
   ]
  },
  {
   "cell_type": "code",
   "execution_count": 25,
   "metadata": {
    "execution": {
     "iopub.execute_input": "2020-10-26T12:47:02.599966Z",
     "iopub.status.busy": "2020-10-26T12:47:02.598892Z",
     "iopub.status.idle": "2020-10-26T12:47:02.604335Z",
     "shell.execute_reply": "2020-10-26T12:47:02.60353Z"
    },
    "papermill": {
     "duration": 0.069985,
     "end_time": "2020-10-26T12:47:02.604497",
     "exception": false,
     "start_time": "2020-10-26T12:47:02.534512",
     "status": "completed"
    },
    "tags": []
   },
   "outputs": [
    {
     "data": {
      "text/html": [
       "<div>\n",
       "<style scoped>\n",
       "    .dataframe tbody tr th:only-of-type {\n",
       "        vertical-align: middle;\n",
       "    }\n",
       "\n",
       "    .dataframe tbody tr th {\n",
       "        vertical-align: top;\n",
       "    }\n",
       "\n",
       "    .dataframe thead th {\n",
       "        text-align: right;\n",
       "    }\n",
       "</style>\n",
       "<table border=\"1\" class=\"dataframe\">\n",
       "  <thead>\n",
       "    <tr style=\"text-align: right;\">\n",
       "      <th></th>\n",
       "      <th>bodyType</th>\n",
       "      <th>brand</th>\n",
       "      <th>car_url</th>\n",
       "      <th>color</th>\n",
       "      <th>complectation_dict</th>\n",
       "      <th>description</th>\n",
       "      <th>engineDisplacement</th>\n",
       "      <th>enginePower</th>\n",
       "      <th>equipment_dict</th>\n",
       "      <th>fuelType</th>\n",
       "      <th>...</th>\n",
       "      <th>vehicleConfiguration</th>\n",
       "      <th>vehicleTransmission</th>\n",
       "      <th>vendor</th>\n",
       "      <th>Владельцы</th>\n",
       "      <th>Владение</th>\n",
       "      <th>ПТС</th>\n",
       "      <th>Привод</th>\n",
       "      <th>Руль</th>\n",
       "      <th>Состояние</th>\n",
       "      <th>Таможня</th>\n",
       "    </tr>\n",
       "  </thead>\n",
       "  <tbody>\n",
       "    <tr>\n",
       "      <th>0</th>\n",
       "      <td>лифтбек</td>\n",
       "      <td>SKODA</td>\n",
       "      <td>https://auto.ru/cars/used/sale/skoda/octavia/1...</td>\n",
       "      <td>синий</td>\n",
       "      <td>NaN</td>\n",
       "      <td>Все автомобили, представленные в продаже, прох...</td>\n",
       "      <td>1.2 LTR</td>\n",
       "      <td>105 N12</td>\n",
       "      <td>{\"engine-proof\":true,\"tinted-glass\":true,\"airb...</td>\n",
       "      <td>бензин</td>\n",
       "      <td>...</td>\n",
       "      <td>LIFTBACK ROBOT 1.2</td>\n",
       "      <td>роботизированная</td>\n",
       "      <td>EUROPEAN</td>\n",
       "      <td>3 или более</td>\n",
       "      <td>NaN</td>\n",
       "      <td>Оригинал</td>\n",
       "      <td>передний</td>\n",
       "      <td>Левый</td>\n",
       "      <td>Не требует ремонта</td>\n",
       "      <td>Растаможен</td>\n",
       "    </tr>\n",
       "    <tr>\n",
       "      <th>1</th>\n",
       "      <td>лифтбек</td>\n",
       "      <td>SKODA</td>\n",
       "      <td>https://auto.ru/cars/used/sale/skoda/octavia/1...</td>\n",
       "      <td>чёрный</td>\n",
       "      <td>NaN</td>\n",
       "      <td>ЛОТ: 01217195\\nАвтопрага Север\\nДанный автомоб...</td>\n",
       "      <td>1.6 LTR</td>\n",
       "      <td>110 N12</td>\n",
       "      <td>{\"cruise-control\":true,\"asr\":true,\"esp\":true,\"...</td>\n",
       "      <td>бензин</td>\n",
       "      <td>...</td>\n",
       "      <td>LIFTBACK MECHANICAL 1.6</td>\n",
       "      <td>механическая</td>\n",
       "      <td>EUROPEAN</td>\n",
       "      <td>1 владелец</td>\n",
       "      <td>NaN</td>\n",
       "      <td>Оригинал</td>\n",
       "      <td>передний</td>\n",
       "      <td>Левый</td>\n",
       "      <td>Не требует ремонта</td>\n",
       "      <td>Растаможен</td>\n",
       "    </tr>\n",
       "    <tr>\n",
       "      <th>2</th>\n",
       "      <td>лифтбек</td>\n",
       "      <td>SKODA</td>\n",
       "      <td>https://auto.ru/cars/used/sale/skoda/superb/11...</td>\n",
       "      <td>серый</td>\n",
       "      <td>{\"id\":\"20026336\",\"name\":\"Ambition\",\"available_...</td>\n",
       "      <td>Все автомобили, представленные в продаже, прох...</td>\n",
       "      <td>1.8 LTR</td>\n",
       "      <td>152 N12</td>\n",
       "      <td>{\"cruise-control\":true,\"tinted-glass\":true,\"es...</td>\n",
       "      <td>бензин</td>\n",
       "      <td>...</td>\n",
       "      <td>LIFTBACK ROBOT 1.8</td>\n",
       "      <td>роботизированная</td>\n",
       "      <td>EUROPEAN</td>\n",
       "      <td>1 владелец</td>\n",
       "      <td>NaN</td>\n",
       "      <td>Оригинал</td>\n",
       "      <td>передний</td>\n",
       "      <td>Левый</td>\n",
       "      <td>Не требует ремонта</td>\n",
       "      <td>Растаможен</td>\n",
       "    </tr>\n",
       "    <tr>\n",
       "      <th>3</th>\n",
       "      <td>лифтбек</td>\n",
       "      <td>SKODA</td>\n",
       "      <td>https://auto.ru/cars/used/sale/skoda/octavia/1...</td>\n",
       "      <td>коричневый</td>\n",
       "      <td>{\"id\":\"20803582\",\"name\":\"Ambition\",\"available_...</td>\n",
       "      <td>КОМПЛЕКТ ЗИМНЕЙ (ЛЕТНЕЙ) РЕЗИНЫ ПО СЕЗОНУ В ПО...</td>\n",
       "      <td>1.6 LTR</td>\n",
       "      <td>110 N12</td>\n",
       "      <td>{\"cruise-control\":true,\"roller-blind-for-rear-...</td>\n",
       "      <td>бензин</td>\n",
       "      <td>...</td>\n",
       "      <td>LIFTBACK AUTOMATIC 1.6</td>\n",
       "      <td>автоматическая</td>\n",
       "      <td>EUROPEAN</td>\n",
       "      <td>1 владелец</td>\n",
       "      <td>NaN</td>\n",
       "      <td>Оригинал</td>\n",
       "      <td>передний</td>\n",
       "      <td>Левый</td>\n",
       "      <td>Не требует ремонта</td>\n",
       "      <td>Растаможен</td>\n",
       "    </tr>\n",
       "    <tr>\n",
       "      <th>4</th>\n",
       "      <td>лифтбек</td>\n",
       "      <td>SKODA</td>\n",
       "      <td>https://auto.ru/cars/used/sale/skoda/octavia/1...</td>\n",
       "      <td>белый</td>\n",
       "      <td>NaN</td>\n",
       "      <td>ЛОТ: 01220889\\nАвтопрага Север\\n\\nВы можете по...</td>\n",
       "      <td>1.8 LTR</td>\n",
       "      <td>152 N12</td>\n",
       "      <td>{\"cruise-control\":true,\"asr\":true,\"esp\":true,\"...</td>\n",
       "      <td>бензин</td>\n",
       "      <td>...</td>\n",
       "      <td>LIFTBACK AUTOMATIC 1.8</td>\n",
       "      <td>автоматическая</td>\n",
       "      <td>EUROPEAN</td>\n",
       "      <td>1 владелец</td>\n",
       "      <td>NaN</td>\n",
       "      <td>Оригинал</td>\n",
       "      <td>передний</td>\n",
       "      <td>Левый</td>\n",
       "      <td>Не требует ремонта</td>\n",
       "      <td>Растаможен</td>\n",
       "    </tr>\n",
       "  </tbody>\n",
       "</table>\n",
       "<p>5 rows × 32 columns</p>\n",
       "</div>"
      ],
      "text/plain": [
       "  bodyType  brand                                            car_url  \\\n",
       "0  лифтбек  SKODA  https://auto.ru/cars/used/sale/skoda/octavia/1...   \n",
       "1  лифтбек  SKODA  https://auto.ru/cars/used/sale/skoda/octavia/1...   \n",
       "2  лифтбек  SKODA  https://auto.ru/cars/used/sale/skoda/superb/11...   \n",
       "3  лифтбек  SKODA  https://auto.ru/cars/used/sale/skoda/octavia/1...   \n",
       "4  лифтбек  SKODA  https://auto.ru/cars/used/sale/skoda/octavia/1...   \n",
       "\n",
       "        color                                 complectation_dict  \\\n",
       "0       синий                                                NaN   \n",
       "1      чёрный                                                NaN   \n",
       "2       серый  {\"id\":\"20026336\",\"name\":\"Ambition\",\"available_...   \n",
       "3  коричневый  {\"id\":\"20803582\",\"name\":\"Ambition\",\"available_...   \n",
       "4       белый                                                NaN   \n",
       "\n",
       "                                         description engineDisplacement  \\\n",
       "0  Все автомобили, представленные в продаже, прох...            1.2 LTR   \n",
       "1  ЛОТ: 01217195\\nАвтопрага Север\\nДанный автомоб...            1.6 LTR   \n",
       "2  Все автомобили, представленные в продаже, прох...            1.8 LTR   \n",
       "3  КОМПЛЕКТ ЗИМНЕЙ (ЛЕТНЕЙ) РЕЗИНЫ ПО СЕЗОНУ В ПО...            1.6 LTR   \n",
       "4  ЛОТ: 01220889\\nАвтопрага Север\\n\\nВы можете по...            1.8 LTR   \n",
       "\n",
       "  enginePower                                     equipment_dict fuelType  \\\n",
       "0     105 N12  {\"engine-proof\":true,\"tinted-glass\":true,\"airb...   бензин   \n",
       "1     110 N12  {\"cruise-control\":true,\"asr\":true,\"esp\":true,\"...   бензин   \n",
       "2     152 N12  {\"cruise-control\":true,\"tinted-glass\":true,\"es...   бензин   \n",
       "3     110 N12  {\"cruise-control\":true,\"roller-blind-for-rear-...   бензин   \n",
       "4     152 N12  {\"cruise-control\":true,\"asr\":true,\"esp\":true,\"...   бензин   \n",
       "\n",
       "   ...     vehicleConfiguration  vehicleTransmission    vendor    Владельцы  \\\n",
       "0  ...       LIFTBACK ROBOT 1.2     роботизированная  EUROPEAN  3 или более   \n",
       "1  ...  LIFTBACK MECHANICAL 1.6         механическая  EUROPEAN   1 владелец   \n",
       "2  ...       LIFTBACK ROBOT 1.8     роботизированная  EUROPEAN   1 владелец   \n",
       "3  ...   LIFTBACK AUTOMATIC 1.6       автоматическая  EUROPEAN   1 владелец   \n",
       "4  ...   LIFTBACK AUTOMATIC 1.8       автоматическая  EUROPEAN   1 владелец   \n",
       "\n",
       "  Владение       ПТС    Привод   Руль           Состояние     Таможня  \n",
       "0      NaN  Оригинал  передний  Левый  Не требует ремонта  Растаможен  \n",
       "1      NaN  Оригинал  передний  Левый  Не требует ремонта  Растаможен  \n",
       "2      NaN  Оригинал  передний  Левый  Не требует ремонта  Растаможен  \n",
       "3      NaN  Оригинал  передний  Левый  Не требует ремонта  Растаможен  \n",
       "4      NaN  Оригинал  передний  Левый  Не требует ремонта  Растаможен  \n",
       "\n",
       "[5 rows x 32 columns]"
      ]
     },
     "execution_count": 25,
     "metadata": {},
     "output_type": "execute_result"
    }
   ],
   "source": [
    "test.head(5)"
   ]
  },
  {
   "cell_type": "code",
   "execution_count": 26,
   "metadata": {
    "execution": {
     "iopub.execute_input": "2020-10-26T12:47:02.7822Z",
     "iopub.status.busy": "2020-10-26T12:47:02.781391Z",
     "iopub.status.idle": "2020-10-26T12:47:02.797734Z",
     "shell.execute_reply": "2020-10-26T12:47:02.798395Z"
    },
    "papermill": {
     "duration": 0.160401,
     "end_time": "2020-10-26T12:47:02.798587",
     "exception": false,
     "start_time": "2020-10-26T12:47:02.638186",
     "status": "completed"
    },
    "tags": []
   },
   "outputs": [
    {
     "name": "stdout",
     "output_type": "stream",
     "text": [
      "<class 'pandas.core.frame.DataFrame'>\n",
      "RangeIndex: 34686 entries, 0 to 34685\n",
      "Data columns (total 32 columns):\n",
      " #   Column                Non-Null Count  Dtype \n",
      "---  ------                --------------  ----- \n",
      " 0   bodyType              34686 non-null  object\n",
      " 1   brand                 34686 non-null  object\n",
      " 2   car_url               34686 non-null  object\n",
      " 3   color                 34686 non-null  object\n",
      " 4   complectation_dict    6418 non-null   object\n",
      " 5   description           34686 non-null  object\n",
      " 6   engineDisplacement    34686 non-null  object\n",
      " 7   enginePower           34686 non-null  object\n",
      " 8   equipment_dict        24690 non-null  object\n",
      " 9   fuelType              34686 non-null  object\n",
      " 10  image                 34686 non-null  object\n",
      " 11  mileage               34686 non-null  int64 \n",
      " 12  modelDate             34686 non-null  int64 \n",
      " 13  model_info            34686 non-null  object\n",
      " 14  model_name            34686 non-null  object\n",
      " 15  name                  34686 non-null  object\n",
      " 16  numberOfDoors         34686 non-null  int64 \n",
      " 17  parsing_unixtime      34686 non-null  int64 \n",
      " 18  priceCurrency         34686 non-null  object\n",
      " 19  productionDate        34686 non-null  int64 \n",
      " 20  sell_id               34686 non-null  int64 \n",
      " 21  super_gen             34686 non-null  object\n",
      " 22  vehicleConfiguration  34686 non-null  object\n",
      " 23  vehicleTransmission   34686 non-null  object\n",
      " 24  vendor                34686 non-null  object\n",
      " 25  Владельцы             34686 non-null  object\n",
      " 26  Владение              11995 non-null  object\n",
      " 27  ПТС                   34685 non-null  object\n",
      " 28  Привод                34686 non-null  object\n",
      " 29  Руль                  34686 non-null  object\n",
      " 30  Состояние             34686 non-null  object\n",
      " 31  Таможня               34686 non-null  object\n",
      "dtypes: int64(6), object(26)\n",
      "memory usage: 8.5+ MB\n"
     ]
    }
   ],
   "source": [
    "test.info()"
   ]
  },
  {
   "cell_type": "code",
   "execution_count": 27,
   "metadata": {},
   "outputs": [],
   "source": [
    "test.drop(['image'], axis=1,inplace=True)"
   ]
  },
  {
   "cell_type": "markdown",
   "metadata": {
    "papermill": {
     "duration": 0.033402,
     "end_time": "2020-10-26T12:47:02.866506",
     "exception": false,
     "start_time": "2020-10-26T12:47:02.833104",
     "status": "completed"
    },
    "tags": []
   },
   "source": [
    "## Data Preprocessing"
   ]
  },
  {
   "cell_type": "code",
   "execution_count": 28,
   "metadata": {
    "execution": {
     "iopub.execute_input": "2020-10-26T12:47:02.941177Z",
     "iopub.status.busy": "2020-10-26T12:47:02.94004Z",
     "iopub.status.idle": "2020-10-26T12:47:02.94372Z",
     "shell.execute_reply": "2020-10-26T12:47:02.943059Z"
    },
    "papermill": {
     "duration": 0.042812,
     "end_time": "2020-10-26T12:47:02.943868",
     "exception": false,
     "start_time": "2020-10-26T12:47:02.901056",
     "status": "completed"
    },
    "tags": []
   },
   "outputs": [],
   "source": [
    "# ... "
   ]
  },
  {
   "cell_type": "code",
   "execution_count": 29,
   "metadata": {
    "execution": {
     "iopub.execute_input": "2020-10-26T12:47:03.025049Z",
     "iopub.status.busy": "2020-10-26T12:47:03.024167Z",
     "iopub.status.idle": "2020-10-26T12:47:03.134429Z",
     "shell.execute_reply": "2020-10-26T12:47:03.133689Z"
    },
    "papermill": {
     "duration": 0.156124,
     "end_time": "2020-10-26T12:47:03.134605",
     "exception": false,
     "start_time": "2020-10-26T12:47:02.978481",
     "status": "completed"
    },
    "tags": []
   },
   "outputs": [],
   "source": [
    "train.dropna(subset=['productionDate','mileage'], inplace=True)\n",
    "train.dropna(subset=['price'], inplace=True)"
   ]
  },
  {
   "cell_type": "code",
   "execution_count": 30,
   "metadata": {},
   "outputs": [],
   "source": [
    "# сформируем списки столбцов по группам исходя из типов признаков\n",
    "num_cols = ['mileage', 'modelDate', 'productionDate']\n",
    "#bin_cols =['Руль', 'Состояние', 'Таможня', 'ПТС'] \n",
    "bin_cols =['Руль', 'Состояние', 'ПТС'] \n",
    "category_cols = ['model_info', 'model_name', 'name', 'super_gen', 'complectation_dict', 'equipment_dict',  'bodyType', 'brand', 'color', 'fuelType', 'numberOfDoors', \n",
    "                 'priceCurrency',  'vehicleConfiguration', 'vehicleTransmission', 'vendor', 'Владельцы', 'Владение', 'Привод', 'engineDisplacement', 'enginePower']\n",
    "# 'priceCurrency' - тип валюты. В настоящее время у нас только рубли, но могут быть и др. варианты. Поэтому отнесем к категориальным данным "
   ]
  },
  {
   "cell_type": "code",
   "execution_count": 31,
   "metadata": {
    "execution": {
     "iopub.execute_input": "2020-10-26T12:47:03.218827Z",
     "iopub.status.busy": "2020-10-26T12:47:03.21765Z",
     "iopub.status.idle": "2020-10-26T12:47:03.222821Z",
     "shell.execute_reply": "2020-10-26T12:47:03.223415Z"
    },
    "papermill": {
     "duration": 0.054414,
     "end_time": "2020-10-26T12:47:03.223614",
     "exception": false,
     "start_time": "2020-10-26T12:47:03.1692",
     "status": "completed"
    },
    "tags": []
   },
   "outputs": [],
   "source": [
    "# для baseline просто возьму пару схожих признаков без полной обработки\n",
    "#columns = ['bodyType', 'brand', 'productionDate', 'engineDisplacement', 'mileage','Владельцы']\n",
    "y = train['price']\n",
    "train.drop(['price'], axis=1,inplace=True)\n",
    "df_train = train#[columns]\n",
    "df_test = test#[columns]"
   ]
  },
  {
   "cell_type": "code",
   "execution_count": null,
   "metadata": {},
   "outputs": [],
   "source": [
    "\n"
   ]
  },
  {
   "cell_type": "markdown",
   "metadata": {
    "papermill": {
     "duration": 0.033657,
     "end_time": "2020-10-26T12:47:03.29162",
     "exception": false,
     "start_time": "2020-10-26T12:47:03.257963",
     "status": "completed"
    },
    "tags": []
   },
   "source": [
    "## Label Encoding"
   ]
  },
  {
   "cell_type": "code",
   "execution_count": 32,
   "metadata": {
    "execution": {
     "iopub.execute_input": "2020-10-26T12:47:03.371409Z",
     "iopub.status.busy": "2020-10-26T12:47:03.370451Z",
     "iopub.status.idle": "2020-10-26T12:47:03.40603Z",
     "shell.execute_reply": "2020-10-26T12:47:03.405053Z"
    },
    "papermill": {
     "duration": 0.080223,
     "end_time": "2020-10-26T12:47:03.406196",
     "exception": false,
     "start_time": "2020-10-26T12:47:03.325973",
     "status": "completed"
    },
    "tags": []
   },
   "outputs": [],
   "source": [
    "# ВАЖНО! дря корректной обработки признаков объединяем трейн и тест в один датасет\n",
    "df_train['sample'] = 1 # помечаем где у нас трейн\n",
    "df_test['sample'] = 0 # помечаем где у нас тест\n",
    "\n",
    "data = df_test.append(df_train, sort=False).reset_index(drop=True) # объединяем"
   ]
  },
  {
   "cell_type": "code",
   "execution_count": 33,
   "metadata": {
    "execution": {
     "iopub.execute_input": "2020-10-26T12:47:03.489637Z",
     "iopub.status.busy": "2020-10-26T12:47:03.483022Z",
     "iopub.status.idle": "2020-10-26T12:47:03.549376Z",
     "shell.execute_reply": "2020-10-26T12:47:03.548539Z"
    },
    "papermill": {
     "duration": 0.10809,
     "end_time": "2020-10-26T12:47:03.549533",
     "exception": false,
     "start_time": "2020-10-26T12:47:03.441443",
     "status": "completed"
    },
    "tags": []
   },
   "outputs": [],
   "source": [
    "#for colum in ['bodyType', 'brand', 'engineDisplacement']:\n",
    "#    data[colum] = data[colum].astype('category').cat.codes\n",
    "for colum in category_cols:\n",
    "    data[colum] = data[colum].astype('category').cat.codes"
   ]
  },
  {
   "cell_type": "code",
   "execution_count": 34,
   "metadata": {},
   "outputs": [],
   "source": [
    "#data['Таможня'].value_counts()"
   ]
  },
  {
   "cell_type": "code",
   "execution_count": 35,
   "metadata": {},
   "outputs": [],
   "source": [
    "data[\"Состояние\"] = data[\"Состояние\"].fillna('Неизвестно')\n",
    "#data[\"Таможня\"] = data[\"Таможня\"].fillna('Растаможен')\n",
    "data[\"ПТС\"] = data[\"ПТС\"].fillna('Неизвестно')\n",
    "\n",
    "#data[bin_cols]"
   ]
  },
  {
   "cell_type": "code",
   "execution_count": 36,
   "metadata": {},
   "outputs": [
    {
     "data": {
      "text/html": [
       "<div>\n",
       "<style scoped>\n",
       "    .dataframe tbody tr th:only-of-type {\n",
       "        vertical-align: middle;\n",
       "    }\n",
       "\n",
       "    .dataframe tbody tr th {\n",
       "        vertical-align: top;\n",
       "    }\n",
       "\n",
       "    .dataframe thead th {\n",
       "        text-align: right;\n",
       "    }\n",
       "</style>\n",
       "<table border=\"1\" class=\"dataframe\">\n",
       "  <thead>\n",
       "    <tr style=\"text-align: right;\">\n",
       "      <th></th>\n",
       "      <th>bodyType</th>\n",
       "      <th>brand</th>\n",
       "      <th>car_url</th>\n",
       "      <th>color</th>\n",
       "      <th>complectation_dict</th>\n",
       "      <th>description</th>\n",
       "      <th>engineDisplacement</th>\n",
       "      <th>enginePower</th>\n",
       "      <th>equipment_dict</th>\n",
       "      <th>fuelType</th>\n",
       "      <th>...</th>\n",
       "      <th>ПТС</th>\n",
       "      <th>Привод</th>\n",
       "      <th>Руль</th>\n",
       "      <th>Состояние</th>\n",
       "      <th>Таможня</th>\n",
       "      <th>sample</th>\n",
       "      <th>Комплектация</th>\n",
       "      <th>start_date</th>\n",
       "      <th>hidden</th>\n",
       "      <th>model</th>\n",
       "    </tr>\n",
       "  </thead>\n",
       "  <tbody>\n",
       "    <tr>\n",
       "      <th>0</th>\n",
       "      <td>176</td>\n",
       "      <td>29</td>\n",
       "      <td>https://auto.ru/cars/used/sale/skoda/octavia/1...</td>\n",
       "      <td>29</td>\n",
       "      <td>-1</td>\n",
       "      <td>Все автомобили, представленные в продаже, прох...</td>\n",
       "      <td>11</td>\n",
       "      <td>401</td>\n",
       "      <td>18865</td>\n",
       "      <td>0</td>\n",
       "      <td>...</td>\n",
       "      <td>4</td>\n",
       "      <td>1</td>\n",
       "      <td>2</td>\n",
       "      <td>0</td>\n",
       "      <td>Растаможен</td>\n",
       "      <td>0</td>\n",
       "      <td>NaN</td>\n",
       "      <td>NaN</td>\n",
       "      <td>NaN</td>\n",
       "      <td>NaN</td>\n",
       "    </tr>\n",
       "    <tr>\n",
       "      <th>1</th>\n",
       "      <td>176</td>\n",
       "      <td>29</td>\n",
       "      <td>https://auto.ru/cars/used/sale/skoda/octavia/1...</td>\n",
       "      <td>31</td>\n",
       "      <td>-1</td>\n",
       "      <td>ЛОТ: 01217195\\nАвтопрага Север\\nДанный автомоб...</td>\n",
       "      <td>27</td>\n",
       "      <td>406</td>\n",
       "      <td>5438</td>\n",
       "      <td>0</td>\n",
       "      <td>...</td>\n",
       "      <td>4</td>\n",
       "      <td>1</td>\n",
       "      <td>2</td>\n",
       "      <td>0</td>\n",
       "      <td>Растаможен</td>\n",
       "      <td>0</td>\n",
       "      <td>NaN</td>\n",
       "      <td>NaN</td>\n",
       "      <td>NaN</td>\n",
       "      <td>NaN</td>\n",
       "    </tr>\n",
       "    <tr>\n",
       "      <th>2</th>\n",
       "      <td>176</td>\n",
       "      <td>29</td>\n",
       "      <td>https://auto.ru/cars/used/sale/skoda/superb/11...</td>\n",
       "      <td>28</td>\n",
       "      <td>30</td>\n",
       "      <td>Все автомобили, представленные в продаже, прох...</td>\n",
       "      <td>33</td>\n",
       "      <td>444</td>\n",
       "      <td>12212</td>\n",
       "      <td>0</td>\n",
       "      <td>...</td>\n",
       "      <td>4</td>\n",
       "      <td>1</td>\n",
       "      <td>2</td>\n",
       "      <td>0</td>\n",
       "      <td>Растаможен</td>\n",
       "      <td>0</td>\n",
       "      <td>NaN</td>\n",
       "      <td>NaN</td>\n",
       "      <td>NaN</td>\n",
       "      <td>NaN</td>\n",
       "    </tr>\n",
       "    <tr>\n",
       "      <th>3</th>\n",
       "      <td>176</td>\n",
       "      <td>29</td>\n",
       "      <td>https://auto.ru/cars/used/sale/skoda/octavia/1...</td>\n",
       "      <td>22</td>\n",
       "      <td>599</td>\n",
       "      <td>КОМПЛЕКТ ЗИМНЕЙ (ЛЕТНЕЙ) РЕЗИНЫ ПО СЕЗОНУ В ПО...</td>\n",
       "      <td>27</td>\n",
       "      <td>406</td>\n",
       "      <td>11781</td>\n",
       "      <td>0</td>\n",
       "      <td>...</td>\n",
       "      <td>4</td>\n",
       "      <td>1</td>\n",
       "      <td>2</td>\n",
       "      <td>0</td>\n",
       "      <td>Растаможен</td>\n",
       "      <td>0</td>\n",
       "      <td>NaN</td>\n",
       "      <td>NaN</td>\n",
       "      <td>NaN</td>\n",
       "      <td>NaN</td>\n",
       "    </tr>\n",
       "    <tr>\n",
       "      <th>4</th>\n",
       "      <td>176</td>\n",
       "      <td>29</td>\n",
       "      <td>https://auto.ru/cars/used/sale/skoda/octavia/1...</td>\n",
       "      <td>17</td>\n",
       "      <td>-1</td>\n",
       "      <td>ЛОТ: 01220889\\nАвтопрага Север\\n\\nВы можете по...</td>\n",
       "      <td>33</td>\n",
       "      <td>444</td>\n",
       "      <td>5433</td>\n",
       "      <td>0</td>\n",
       "      <td>...</td>\n",
       "      <td>4</td>\n",
       "      <td>1</td>\n",
       "      <td>2</td>\n",
       "      <td>0</td>\n",
       "      <td>Растаможен</td>\n",
       "      <td>0</td>\n",
       "      <td>NaN</td>\n",
       "      <td>NaN</td>\n",
       "      <td>NaN</td>\n",
       "      <td>NaN</td>\n",
       "    </tr>\n",
       "  </tbody>\n",
       "</table>\n",
       "<p>5 rows × 36 columns</p>\n",
       "</div>"
      ],
      "text/plain": [
       "   bodyType  brand                                            car_url  color  \\\n",
       "0       176     29  https://auto.ru/cars/used/sale/skoda/octavia/1...     29   \n",
       "1       176     29  https://auto.ru/cars/used/sale/skoda/octavia/1...     31   \n",
       "2       176     29  https://auto.ru/cars/used/sale/skoda/superb/11...     28   \n",
       "3       176     29  https://auto.ru/cars/used/sale/skoda/octavia/1...     22   \n",
       "4       176     29  https://auto.ru/cars/used/sale/skoda/octavia/1...     17   \n",
       "\n",
       "   complectation_dict                                        description  \\\n",
       "0                  -1  Все автомобили, представленные в продаже, прох...   \n",
       "1                  -1  ЛОТ: 01217195\\nАвтопрага Север\\nДанный автомоб...   \n",
       "2                  30  Все автомобили, представленные в продаже, прох...   \n",
       "3                 599  КОМПЛЕКТ ЗИМНЕЙ (ЛЕТНЕЙ) РЕЗИНЫ ПО СЕЗОНУ В ПО...   \n",
       "4                  -1  ЛОТ: 01220889\\nАвтопрага Север\\n\\nВы можете по...   \n",
       "\n",
       "   engineDisplacement  enginePower  equipment_dict  fuelType  ...  ПТС  \\\n",
       "0                  11          401           18865         0  ...    4   \n",
       "1                  27          406            5438         0  ...    4   \n",
       "2                  33          444           12212         0  ...    4   \n",
       "3                  27          406           11781         0  ...    4   \n",
       "4                  33          444            5433         0  ...    4   \n",
       "\n",
       "   Привод  Руль  Состояние     Таможня  sample  Комплектация  start_date  \\\n",
       "0       1     2          0  Растаможен       0           NaN         NaN   \n",
       "1       1     2          0  Растаможен       0           NaN         NaN   \n",
       "2       1     2          0  Растаможен       0           NaN         NaN   \n",
       "3       1     2          0  Растаможен       0           NaN         NaN   \n",
       "4       1     2          0  Растаможен       0           NaN         NaN   \n",
       "\n",
       "   hidden  model  \n",
       "0     NaN    NaN  \n",
       "1     NaN    NaN  \n",
       "2     NaN    NaN  \n",
       "3     NaN    NaN  \n",
       "4     NaN    NaN  \n",
       "\n",
       "[5 rows x 36 columns]"
      ]
     },
     "execution_count": 36,
     "metadata": {},
     "output_type": "execute_result"
    }
   ],
   "source": [
    "#data[\"Владельцы\"] = data[\"Владельцы\"].str.replace(u'\\xa0', '')\n",
    "#label_encoder = LabelEncoder()\n",
    "#for column in columns:\n",
    "#data['Владельцы'] = label_encoder.fit_transform(data['Владельцы'])\n",
    "label_encoder = LabelEncoder()\n",
    "\n",
    "for column in bin_cols:\n",
    "    #print(column)\n",
    "    data[column] = label_encoder.fit_transform(data[column])\n",
    "    \n",
    "# убедимся в преобразовании    \n",
    "data.head()"
   ]
  },
  {
   "cell_type": "code",
   "execution_count": 37,
   "metadata": {
    "execution": {
     "iopub.execute_input": "2020-10-26T12:47:03.6352Z",
     "iopub.status.busy": "2020-10-26T12:47:03.633973Z",
     "iopub.status.idle": "2020-10-26T12:47:03.646722Z",
     "shell.execute_reply": "2020-10-26T12:47:03.645899Z"
    },
    "papermill": {
     "duration": 0.06183,
     "end_time": "2020-10-26T12:47:03.646867",
     "exception": false,
     "start_time": "2020-10-26T12:47:03.585037",
     "status": "completed"
    },
    "tags": []
   },
   "outputs": [
    {
     "data": {
      "text/html": [
       "<div>\n",
       "<style scoped>\n",
       "    .dataframe tbody tr th:only-of-type {\n",
       "        vertical-align: middle;\n",
       "    }\n",
       "\n",
       "    .dataframe tbody tr th {\n",
       "        vertical-align: top;\n",
       "    }\n",
       "\n",
       "    .dataframe thead th {\n",
       "        text-align: right;\n",
       "    }\n",
       "</style>\n",
       "<table border=\"1\" class=\"dataframe\">\n",
       "  <thead>\n",
       "    <tr style=\"text-align: right;\">\n",
       "      <th></th>\n",
       "      <th>bodyType</th>\n",
       "      <th>brand</th>\n",
       "      <th>color</th>\n",
       "      <th>complectation_dict</th>\n",
       "      <th>engineDisplacement</th>\n",
       "      <th>enginePower</th>\n",
       "      <th>equipment_dict</th>\n",
       "      <th>fuelType</th>\n",
       "      <th>mileage</th>\n",
       "      <th>modelDate</th>\n",
       "      <th>...</th>\n",
       "      <th>vehicleConfiguration</th>\n",
       "      <th>vehicleTransmission</th>\n",
       "      <th>vendor</th>\n",
       "      <th>Владельцы</th>\n",
       "      <th>Владение</th>\n",
       "      <th>ПТС</th>\n",
       "      <th>Привод</th>\n",
       "      <th>Руль</th>\n",
       "      <th>Состояние</th>\n",
       "      <th>sample</th>\n",
       "    </tr>\n",
       "  </thead>\n",
       "  <tbody>\n",
       "    <tr>\n",
       "      <th>0</th>\n",
       "      <td>176</td>\n",
       "      <td>29</td>\n",
       "      <td>29</td>\n",
       "      <td>-1</td>\n",
       "      <td>11</td>\n",
       "      <td>401</td>\n",
       "      <td>18865</td>\n",
       "      <td>0</td>\n",
       "      <td>74000</td>\n",
       "      <td>2013.0</td>\n",
       "      <td>...</td>\n",
       "      <td>1097</td>\n",
       "      <td>7</td>\n",
       "      <td>0</td>\n",
       "      <td>5</td>\n",
       "      <td>-1</td>\n",
       "      <td>4</td>\n",
       "      <td>1</td>\n",
       "      <td>2</td>\n",
       "      <td>0</td>\n",
       "      <td>0</td>\n",
       "    </tr>\n",
       "    <tr>\n",
       "      <th>1</th>\n",
       "      <td>176</td>\n",
       "      <td>29</td>\n",
       "      <td>31</td>\n",
       "      <td>-1</td>\n",
       "      <td>27</td>\n",
       "      <td>406</td>\n",
       "      <td>5438</td>\n",
       "      <td>0</td>\n",
       "      <td>60563</td>\n",
       "      <td>2017.0</td>\n",
       "      <td>...</td>\n",
       "      <td>1081</td>\n",
       "      <td>6</td>\n",
       "      <td>0</td>\n",
       "      <td>3</td>\n",
       "      <td>-1</td>\n",
       "      <td>4</td>\n",
       "      <td>1</td>\n",
       "      <td>2</td>\n",
       "      <td>0</td>\n",
       "      <td>0</td>\n",
       "    </tr>\n",
       "    <tr>\n",
       "      <th>2</th>\n",
       "      <td>176</td>\n",
       "      <td>29</td>\n",
       "      <td>28</td>\n",
       "      <td>30</td>\n",
       "      <td>33</td>\n",
       "      <td>444</td>\n",
       "      <td>12212</td>\n",
       "      <td>0</td>\n",
       "      <td>88000</td>\n",
       "      <td>2013.0</td>\n",
       "      <td>...</td>\n",
       "      <td>1099</td>\n",
       "      <td>7</td>\n",
       "      <td>0</td>\n",
       "      <td>3</td>\n",
       "      <td>-1</td>\n",
       "      <td>4</td>\n",
       "      <td>1</td>\n",
       "      <td>2</td>\n",
       "      <td>0</td>\n",
       "      <td>0</td>\n",
       "    </tr>\n",
       "    <tr>\n",
       "      <th>3</th>\n",
       "      <td>176</td>\n",
       "      <td>29</td>\n",
       "      <td>22</td>\n",
       "      <td>599</td>\n",
       "      <td>27</td>\n",
       "      <td>406</td>\n",
       "      <td>11781</td>\n",
       "      <td>0</td>\n",
       "      <td>95000</td>\n",
       "      <td>2013.0</td>\n",
       "      <td>...</td>\n",
       "      <td>1045</td>\n",
       "      <td>4</td>\n",
       "      <td>0</td>\n",
       "      <td>3</td>\n",
       "      <td>-1</td>\n",
       "      <td>4</td>\n",
       "      <td>1</td>\n",
       "      <td>2</td>\n",
       "      <td>0</td>\n",
       "      <td>0</td>\n",
       "    </tr>\n",
       "    <tr>\n",
       "      <th>4</th>\n",
       "      <td>176</td>\n",
       "      <td>29</td>\n",
       "      <td>17</td>\n",
       "      <td>-1</td>\n",
       "      <td>33</td>\n",
       "      <td>444</td>\n",
       "      <td>5433</td>\n",
       "      <td>0</td>\n",
       "      <td>58536</td>\n",
       "      <td>2008.0</td>\n",
       "      <td>...</td>\n",
       "      <td>1046</td>\n",
       "      <td>4</td>\n",
       "      <td>0</td>\n",
       "      <td>3</td>\n",
       "      <td>-1</td>\n",
       "      <td>4</td>\n",
       "      <td>1</td>\n",
       "      <td>2</td>\n",
       "      <td>0</td>\n",
       "      <td>0</td>\n",
       "    </tr>\n",
       "    <tr>\n",
       "      <th>...</th>\n",
       "      <td>...</td>\n",
       "      <td>...</td>\n",
       "      <td>...</td>\n",
       "      <td>...</td>\n",
       "      <td>...</td>\n",
       "      <td>...</td>\n",
       "      <td>...</td>\n",
       "      <td>...</td>\n",
       "      <td>...</td>\n",
       "      <td>...</td>\n",
       "      <td>...</td>\n",
       "      <td>...</td>\n",
       "      <td>...</td>\n",
       "      <td>...</td>\n",
       "      <td>...</td>\n",
       "      <td>...</td>\n",
       "      <td>...</td>\n",
       "      <td>...</td>\n",
       "      <td>...</td>\n",
       "      <td>...</td>\n",
       "      <td>...</td>\n",
       "    </tr>\n",
       "    <tr>\n",
       "      <th>123649</th>\n",
       "      <td>57</td>\n",
       "      <td>30</td>\n",
       "      <td>2</td>\n",
       "      <td>-1</td>\n",
       "      <td>97</td>\n",
       "      <td>126</td>\n",
       "      <td>-1</td>\n",
       "      <td>3</td>\n",
       "      <td>260000</td>\n",
       "      <td>2004.0</td>\n",
       "      <td>...</td>\n",
       "      <td>1162</td>\n",
       "      <td>0</td>\n",
       "      <td>-1</td>\n",
       "      <td>2</td>\n",
       "      <td>-1</td>\n",
       "      <td>1</td>\n",
       "      <td>2</td>\n",
       "      <td>0</td>\n",
       "      <td>1</td>\n",
       "      <td>1</td>\n",
       "    </tr>\n",
       "    <tr>\n",
       "      <th>123650</th>\n",
       "      <td>57</td>\n",
       "      <td>30</td>\n",
       "      <td>9</td>\n",
       "      <td>-1</td>\n",
       "      <td>97</td>\n",
       "      <td>126</td>\n",
       "      <td>-1</td>\n",
       "      <td>3</td>\n",
       "      <td>300000</td>\n",
       "      <td>2004.0</td>\n",
       "      <td>...</td>\n",
       "      <td>1162</td>\n",
       "      <td>0</td>\n",
       "      <td>-1</td>\n",
       "      <td>2</td>\n",
       "      <td>524</td>\n",
       "      <td>1</td>\n",
       "      <td>2</td>\n",
       "      <td>0</td>\n",
       "      <td>1</td>\n",
       "      <td>1</td>\n",
       "    </tr>\n",
       "    <tr>\n",
       "      <th>123651</th>\n",
       "      <td>57</td>\n",
       "      <td>30</td>\n",
       "      <td>2</td>\n",
       "      <td>-1</td>\n",
       "      <td>72</td>\n",
       "      <td>112</td>\n",
       "      <td>-1</td>\n",
       "      <td>3</td>\n",
       "      <td>126000</td>\n",
       "      <td>2013.0</td>\n",
       "      <td>...</td>\n",
       "      <td>1152</td>\n",
       "      <td>0</td>\n",
       "      <td>-1</td>\n",
       "      <td>0</td>\n",
       "      <td>498</td>\n",
       "      <td>1</td>\n",
       "      <td>2</td>\n",
       "      <td>0</td>\n",
       "      <td>1</td>\n",
       "      <td>1</td>\n",
       "    </tr>\n",
       "    <tr>\n",
       "      <th>123652</th>\n",
       "      <td>57</td>\n",
       "      <td>30</td>\n",
       "      <td>7</td>\n",
       "      <td>-1</td>\n",
       "      <td>72</td>\n",
       "      <td>112</td>\n",
       "      <td>-1</td>\n",
       "      <td>3</td>\n",
       "      <td>84000</td>\n",
       "      <td>2013.0</td>\n",
       "      <td>...</td>\n",
       "      <td>1152</td>\n",
       "      <td>0</td>\n",
       "      <td>-1</td>\n",
       "      <td>2</td>\n",
       "      <td>520</td>\n",
       "      <td>1</td>\n",
       "      <td>2</td>\n",
       "      <td>0</td>\n",
       "      <td>1</td>\n",
       "      <td>1</td>\n",
       "    </tr>\n",
       "    <tr>\n",
       "      <th>123653</th>\n",
       "      <td>57</td>\n",
       "      <td>30</td>\n",
       "      <td>12</td>\n",
       "      <td>-1</td>\n",
       "      <td>72</td>\n",
       "      <td>112</td>\n",
       "      <td>-1</td>\n",
       "      <td>3</td>\n",
       "      <td>144000</td>\n",
       "      <td>2013.0</td>\n",
       "      <td>...</td>\n",
       "      <td>1152</td>\n",
       "      <td>0</td>\n",
       "      <td>-1</td>\n",
       "      <td>1</td>\n",
       "      <td>540</td>\n",
       "      <td>1</td>\n",
       "      <td>2</td>\n",
       "      <td>0</td>\n",
       "      <td>1</td>\n",
       "      <td>1</td>\n",
       "    </tr>\n",
       "  </tbody>\n",
       "</table>\n",
       "<p>123654 rows × 27 columns</p>\n",
       "</div>"
      ],
      "text/plain": [
       "        bodyType  brand  color  complectation_dict  engineDisplacement  \\\n",
       "0            176     29     29                  -1                  11   \n",
       "1            176     29     31                  -1                  27   \n",
       "2            176     29     28                  30                  33   \n",
       "3            176     29     22                 599                  27   \n",
       "4            176     29     17                  -1                  33   \n",
       "...          ...    ...    ...                 ...                 ...   \n",
       "123649        57     30      2                  -1                  97   \n",
       "123650        57     30      9                  -1                  97   \n",
       "123651        57     30      2                  -1                  72   \n",
       "123652        57     30      7                  -1                  72   \n",
       "123653        57     30     12                  -1                  72   \n",
       "\n",
       "        enginePower  equipment_dict  fuelType  mileage  modelDate  ...  \\\n",
       "0               401           18865         0    74000     2013.0  ...   \n",
       "1               406            5438         0    60563     2017.0  ...   \n",
       "2               444           12212         0    88000     2013.0  ...   \n",
       "3               406           11781         0    95000     2013.0  ...   \n",
       "4               444            5433         0    58536     2008.0  ...   \n",
       "...             ...             ...       ...      ...        ...  ...   \n",
       "123649          126              -1         3   260000     2004.0  ...   \n",
       "123650          126              -1         3   300000     2004.0  ...   \n",
       "123651          112              -1         3   126000     2013.0  ...   \n",
       "123652          112              -1         3    84000     2013.0  ...   \n",
       "123653          112              -1         3   144000     2013.0  ...   \n",
       "\n",
       "        vehicleConfiguration  vehicleTransmission  vendor  Владельцы  \\\n",
       "0                       1097                    7       0          5   \n",
       "1                       1081                    6       0          3   \n",
       "2                       1099                    7       0          3   \n",
       "3                       1045                    4       0          3   \n",
       "4                       1046                    4       0          3   \n",
       "...                      ...                  ...     ...        ...   \n",
       "123649                  1162                    0      -1          2   \n",
       "123650                  1162                    0      -1          2   \n",
       "123651                  1152                    0      -1          0   \n",
       "123652                  1152                    0      -1          2   \n",
       "123653                  1152                    0      -1          1   \n",
       "\n",
       "        Владение  ПТС  Привод  Руль  Состояние  sample  \n",
       "0             -1    4       1     2          0       0  \n",
       "1             -1    4       1     2          0       0  \n",
       "2             -1    4       1     2          0       0  \n",
       "3             -1    4       1     2          0       0  \n",
       "4             -1    4       1     2          0       0  \n",
       "...          ...  ...     ...   ...        ...     ...  \n",
       "123649        -1    1       2     0          1       1  \n",
       "123650       524    1       2     0          1       1  \n",
       "123651       498    1       2     0          1       1  \n",
       "123652       520    1       2     0          1       1  \n",
       "123653       540    1       2     0          1       1  \n",
       "\n",
       "[123654 rows x 27 columns]"
      ]
     },
     "execution_count": 37,
     "metadata": {},
     "output_type": "execute_result"
    }
   ],
   "source": [
    "#Удалим столбцы не несущие в себе параметры автомобиля, и не влиящие на предсказание цены, а так же те которые не успел обработать  \n",
    "data.drop(['car_url', 'parsing_unixtime', 'sell_id','Комплектация','Таможня','hidden','start_date','model'], axis=1,inplace=True)\n",
    "# В связи с отсутствие времени на обработку текста, также удалим 'description'\n",
    "data.drop(['description'], axis=1,inplace=True)\n",
    "data"
   ]
  },
  {
   "cell_type": "code",
   "execution_count": 38,
   "metadata": {},
   "outputs": [],
   "source": [
    "cols ={\"complectation_dict\",'equipment_dict', 'Владение'}\n",
    "for col in cols:\n",
    "    data[f'{col}_isNAN'] = pd.isna(data[col]).astype('uint8')"
   ]
  },
  {
   "cell_type": "code",
   "execution_count": 39,
   "metadata": {
    "execution": {
     "iopub.execute_input": "2020-10-26T12:47:03.727044Z",
     "iopub.status.busy": "2020-10-26T12:47:03.725742Z",
     "iopub.status.idle": "2020-10-26T12:47:03.753844Z",
     "shell.execute_reply": "2020-10-26T12:47:03.753001Z"
    },
    "papermill": {
     "duration": 0.071275,
     "end_time": "2020-10-26T12:47:03.754",
     "exception": false,
     "start_time": "2020-10-26T12:47:03.682725",
     "status": "completed"
    },
    "tags": []
   },
   "outputs": [],
   "source": [
    "X = data.query('sample == 1').drop(['sample'], axis=1)\n",
    "X_sub = data.query('sample == 0').drop(['sample'], axis=1)"
   ]
  },
  {
   "cell_type": "markdown",
   "metadata": {
    "papermill": {
     "duration": 0.035737,
     "end_time": "2020-10-26T12:47:03.826552",
     "exception": false,
     "start_time": "2020-10-26T12:47:03.790815",
     "status": "completed"
    },
    "tags": []
   },
   "source": [
    "## Train Split"
   ]
  },
  {
   "cell_type": "code",
   "execution_count": 40,
   "metadata": {
    "execution": {
     "iopub.execute_input": "2020-10-26T12:47:03.90948Z",
     "iopub.status.busy": "2020-10-26T12:47:03.908518Z",
     "iopub.status.idle": "2020-10-26T12:47:03.923409Z",
     "shell.execute_reply": "2020-10-26T12:47:03.922602Z"
    },
    "papermill": {
     "duration": 0.059208,
     "end_time": "2020-10-26T12:47:03.923564",
     "exception": false,
     "start_time": "2020-10-26T12:47:03.864356",
     "status": "completed"
    },
    "tags": []
   },
   "outputs": [],
   "source": [
    "X_train, X_test, y_train, y_test = train_test_split(X, y, test_size=VAL_SIZE, shuffle=True, random_state=RANDOM_SEED)"
   ]
  },
  {
   "cell_type": "markdown",
   "metadata": {},
   "source": [
    "# Model 1: Создадим \"наивную\" модель \n",
    "Эта модель будет предсказывать среднюю цену по модели двигателя (engineDisplacement). \n",
    "C ней будем сравнивать другие модели.\n",
    "\n",
    "\n"
   ]
  },
  {
   "cell_type": "code",
   "execution_count": 41,
   "metadata": {},
   "outputs": [],
   "source": [
    "tmp_train = X_train.copy()\n",
    "tmp_train['price'] = y_train"
   ]
  },
  {
   "cell_type": "code",
   "execution_count": 42,
   "metadata": {},
   "outputs": [
    {
     "name": "stdout",
     "output_type": "stream",
     "text": [
      "Точность наивной модели по метрике MAPE: 117.95%\n"
     ]
    }
   ],
   "source": [
    "# Находим median по экземплярам engineDisplacement в трейне и размечаем тест\n",
    "predict = X_test['engineDisplacement'].map(tmp_train.groupby('engineDisplacement')['price'].median())\n",
    "\n",
    "#оцениваем точность\n",
    "print(f\"Точность наивной модели по метрике MAPE: {(mape(y_test, predict.values))*100:0.2f}%\")"
   ]
  },
  {
   "cell_type": "markdown",
   "metadata": {
    "papermill": {
     "duration": 0.037164,
     "end_time": "2020-10-26T12:47:03.997616",
     "exception": false,
     "start_time": "2020-10-26T12:47:03.960452",
     "status": "completed"
    },
    "tags": []
   },
   "source": [
    "# # Model 2 : CatBoost\n",
    "![](https://pbs.twimg.com/media/DP-jUCyXcAArRTo.png:large)   \n",
    "\n",
    "\n",
    "У нас в данных практически все признаки категориальные. Специально для работы с такими данными была создана очень удобная библиотека CatBoost от Яндекса. [https://catboost.ai](http://)     \n",
    "На данный момент **CatBoost является одной из лучших библиотек для табличных данных!**\n",
    "\n",
    "#### Полезные видео о CatBoost (на русском):\n",
    "* [Доклад про CatBoost](https://youtu.be/9ZrfErvm97M)\n",
    "* [Свежий Туториал от команды CatBoost (практическая часть)](https://youtu.be/wQt4kgAOgV0) "
   ]
  },
  {
   "cell_type": "markdown",
   "metadata": {
    "papermill": {
     "duration": 0.035833,
     "end_time": "2020-10-26T12:47:04.149539",
     "exception": false,
     "start_time": "2020-10-26T12:47:04.113706",
     "status": "completed"
    },
    "tags": []
   },
   "source": [
    "## Fit"
   ]
  },
  {
   "cell_type": "code",
   "execution_count": 43,
   "metadata": {
    "execution": {
     "iopub.execute_input": "2020-10-26T12:47:04.256865Z",
     "iopub.status.busy": "2020-10-26T12:47:04.248328Z",
     "iopub.status.idle": "2020-10-26T12:48:12.17834Z",
     "shell.execute_reply": "2020-10-26T12:48:12.17762Z"
    },
    "papermill": {
     "duration": 67.991521,
     "end_time": "2020-10-26T12:48:12.178488",
     "exception": false,
     "start_time": "2020-10-26T12:47:04.186967",
     "status": "completed"
    },
    "tags": []
   },
   "outputs": [],
   "source": [
    "model = CatBoostRegressor(iterations = 5000,\n",
    "                          random_seed = RANDOM_SEED,\n",
    "                          eval_metric='MAPE',\n",
    "                          custom_metric=['R2', 'MAE'],\n",
    "                          silent=True,\n",
    "                         )\n",
    "model.fit(X_train, y_train,\n",
    "         #cat_features=cat_features_ids,\n",
    "         eval_set=(X_test, y_test),\n",
    "         verbose_eval=0,\n",
    "         use_best_model=True,\n",
    "         #plot=True\n",
    "         )\n",
    "\n",
    "model.save_model('catboost_single_model_baseline.model')"
   ]
  },
  {
   "cell_type": "code",
   "execution_count": 44,
   "metadata": {},
   "outputs": [
    {
     "name": "stdout",
     "output_type": "stream",
     "text": [
      "Точность модели по метрике MAPE: 15.11%\n"
     ]
    }
   ],
   "source": [
    "# оцениваем точность\n",
    "predict = model.predict(X_test)\n",
    "print(f\"Точность модели по метрике MAPE: {(mape(y_test, predict))*100:0.2f}%\")"
   ]
  },
  {
   "cell_type": "markdown",
   "metadata": {
    "papermill": {
     "duration": 0.088891,
     "end_time": "2020-10-26T12:48:12.562943",
     "exception": false,
     "start_time": "2020-10-26T12:48:12.474052",
     "status": "completed"
    },
    "tags": []
   },
   "source": [
    "Вот так просто со старта, даже не трогая сами данные и не подбирая настройки catboosta, получаем модель с уровнем ошибки в 18%!"
   ]
  },
  {
   "cell_type": "markdown",
   "metadata": {},
   "source": [
    "### Log Traget\n",
    "Попробуем взять таргет в логорифм - это позволит уменьшить влияние выбросов на обучение модели (используем для этого np.log и np.exp).    \n",
    "В принциепе мы можем использовать любое приобразование на целевую переменную. Например деление на курс доллара, евро или гречки :) в дату сбора данных, смотрим дату парсинга в тесте в **parsing_unixtime**"
   ]
  },
  {
   "cell_type": "code",
   "execution_count": 45,
   "metadata": {},
   "outputs": [
    {
     "data": {
      "text/plain": [
       "53199    13.060488\n",
       "75086    14.762874\n",
       "43113    12.762827\n",
       "69668    12.785491\n",
       "70499    11.918391\n",
       "           ...    \n",
       "6291     14.508657\n",
       "55136    12.468437\n",
       "77178    13.217674\n",
       "865      12.641097\n",
       "15861    14.403297\n",
       "Name: price, Length: 71174, dtype: float64"
      ]
     },
     "execution_count": 45,
     "metadata": {},
     "output_type": "execute_result"
    }
   ],
   "source": [
    "np.log(y_train)"
   ]
  },
  {
   "cell_type": "code",
   "execution_count": 46,
   "metadata": {},
   "outputs": [],
   "source": [
    "# Поиск наилучших параметров для CatBoostRegressor\n",
    "cbr = CatBoostRegressor()\n",
    "\n",
    "grid = {'learning_rate': [round(x,3) for x in np.linspace(start = 0.025, stop = 0.4, num = 40)],\n",
    "        'depth': [int(x) for x in np.linspace(start = 5, stop = 10, num = 5)],\n",
    "        'l2_leaf_reg': [int(x) for x in np.linspace(start = 1, stop = 5, num = 5)]}\n",
    "\n",
    "#grid_search_result = cbr.grid_search(grid, \n",
    "#                                       X=X_train, \n",
    "#                                       y=y_train, \n",
    "#                                       plot=False)\n",
    "#print(grid_search_result['params'])\n",
    "\n",
    "# {'depth': 10,'l2_leaf_reg': 2, 'learning_rate': 0.381} bestTest = 543125.899    bestIteration = 331"
   ]
  },
  {
   "cell_type": "code",
   "execution_count": 47,
   "metadata": {},
   "outputs": [
    {
     "data": {
      "text/plain": [
       "<catboost.core.CatBoostRegressor at 0xcb6ff08>"
      ]
     },
     "execution_count": 47,
     "metadata": {},
     "output_type": "execute_result"
    }
   ],
   "source": [
    "model = CatBoostRegressor(iterations = 330,\n",
    "                          learning_rate = 0.381,\n",
    "                          random_seed = RANDOM_SEED,\n",
    "                          eval_metric='MAPE',\n",
    "                          custom_metric=['R2', 'MAE'],\n",
    "                          depth = 10,\n",
    "                          l2_leaf_reg = 2)\n",
    "\n",
    "\n",
    "model.fit(X_train, np.log(y_train),\n",
    "         #cat_features=cat_features_ids,\n",
    "         eval_set=(X_test, np.log(y_test)),\n",
    "         verbose_eval=0,\n",
    "         use_best_model=True,\n",
    "         #plot=True\n",
    "         )\n",
    "\n",
    "#model.save_model('catboost_single_model_2_baseline.model')"
   ]
  },
  {
   "cell_type": "code",
   "execution_count": 48,
   "metadata": {},
   "outputs": [],
   "source": [
    "predict_test = np.exp(model.predict(X_test))\n",
    "#predict_submission = np.round((np.exp(model.predict(X_sub))-1)/1000) *1000\n",
    "predict_submission = np.exp(model.predict(X_sub))"
   ]
  },
  {
   "cell_type": "code",
   "execution_count": 49,
   "metadata": {},
   "outputs": [
    {
     "name": "stdout",
     "output_type": "stream",
     "text": [
      "Точность модели по метрике MAPE: 12.98%\n"
     ]
    }
   ],
   "source": [
    "print(f\"Точность модели по метрике MAPE: {(mape(y_test, predict_test))*100:0.2f}%\")"
   ]
  },
  {
   "cell_type": "markdown",
   "metadata": {},
   "source": [
    "Как видим точность возросла до 13%, а что будет на ЛБ?"
   ]
  },
  {
   "cell_type": "markdown",
   "metadata": {
    "papermill": {
     "duration": 0.085876,
     "end_time": "2020-10-26T12:48:12.734207",
     "exception": false,
     "start_time": "2020-10-26T12:48:12.648331",
     "status": "completed"
    },
    "tags": []
   },
   "source": [
    "# Submission"
   ]
  },
  {
   "cell_type": "code",
   "execution_count": 50,
   "metadata": {
    "execution": {
     "iopub.execute_input": "2020-10-26T12:48:13.227584Z",
     "iopub.status.busy": "2020-10-26T12:48:13.226285Z",
     "iopub.status.idle": "2020-10-26T12:48:13.762529Z",
     "shell.execute_reply": "2020-10-26T12:48:13.763259Z"
    },
    "papermill": {
     "duration": 0.628302,
     "end_time": "2020-10-26T12:48:13.763488",
     "exception": false,
     "start_time": "2020-10-26T12:48:13.135186",
     "status": "completed"
    },
    "tags": []
   },
   "outputs": [
    {
     "data": {
      "text/html": [
       "<div>\n",
       "<style scoped>\n",
       "    .dataframe tbody tr th:only-of-type {\n",
       "        vertical-align: middle;\n",
       "    }\n",
       "\n",
       "    .dataframe tbody tr th {\n",
       "        vertical-align: top;\n",
       "    }\n",
       "\n",
       "    .dataframe thead th {\n",
       "        text-align: right;\n",
       "    }\n",
       "</style>\n",
       "<table border=\"1\" class=\"dataframe\">\n",
       "  <thead>\n",
       "    <tr style=\"text-align: right;\">\n",
       "      <th></th>\n",
       "      <th>sell_id</th>\n",
       "      <th>price</th>\n",
       "    </tr>\n",
       "  </thead>\n",
       "  <tbody>\n",
       "    <tr>\n",
       "      <th>0</th>\n",
       "      <td>1100575026</td>\n",
       "      <td>1.780288e+06</td>\n",
       "    </tr>\n",
       "    <tr>\n",
       "      <th>1</th>\n",
       "      <td>1100549428</td>\n",
       "      <td>2.220909e+06</td>\n",
       "    </tr>\n",
       "    <tr>\n",
       "      <th>2</th>\n",
       "      <td>1100658222</td>\n",
       "      <td>2.197047e+06</td>\n",
       "    </tr>\n",
       "    <tr>\n",
       "      <th>3</th>\n",
       "      <td>1100937408</td>\n",
       "      <td>1.822631e+06</td>\n",
       "    </tr>\n",
       "    <tr>\n",
       "      <th>4</th>\n",
       "      <td>1101037972</td>\n",
       "      <td>1.878359e+06</td>\n",
       "    </tr>\n",
       "    <tr>\n",
       "      <th>5</th>\n",
       "      <td>1100912634</td>\n",
       "      <td>1.853629e+06</td>\n",
       "    </tr>\n",
       "    <tr>\n",
       "      <th>6</th>\n",
       "      <td>1101228730</td>\n",
       "      <td>1.609548e+06</td>\n",
       "    </tr>\n",
       "    <tr>\n",
       "      <th>7</th>\n",
       "      <td>1100165896</td>\n",
       "      <td>1.322105e+06</td>\n",
       "    </tr>\n",
       "    <tr>\n",
       "      <th>8</th>\n",
       "      <td>1100768262</td>\n",
       "      <td>3.678947e+06</td>\n",
       "    </tr>\n",
       "    <tr>\n",
       "      <th>9</th>\n",
       "      <td>1101218501</td>\n",
       "      <td>3.208966e+06</td>\n",
       "    </tr>\n",
       "  </tbody>\n",
       "</table>\n",
       "</div>"
      ],
      "text/plain": [
       "      sell_id         price\n",
       "0  1100575026  1.780288e+06\n",
       "1  1100549428  2.220909e+06\n",
       "2  1100658222  2.197047e+06\n",
       "3  1100937408  1.822631e+06\n",
       "4  1101037972  1.878359e+06\n",
       "5  1100912634  1.853629e+06\n",
       "6  1101228730  1.609548e+06\n",
       "7  1100165896  1.322105e+06\n",
       "8  1100768262  3.678947e+06\n",
       "9  1101218501  3.208966e+06"
      ]
     },
     "execution_count": 50,
     "metadata": {},
     "output_type": "execute_result"
    }
   ],
   "source": [
    "sample_submission['price'] = predict_submission\n",
    "sample_submission.to_csv(f'submission_2_v{VERSION}.csv', index=False)\n",
    "#sample_submission.to_csv('submission.csv', index=False)\n",
    "sample_submission.head(10)"
   ]
  },
  {
   "cell_type": "markdown",
   "metadata": {
    "papermill": {
     "duration": 0.083769,
     "end_time": "2020-10-26T12:48:13.930562",
     "exception": false,
     "start_time": "2020-10-26T12:48:13.846793",
     "status": "completed"
    },
    "tags": []
   },
   "source": [
    "В итоге получили **MAPE 27%** на ЛБ!\n",
    "\n",
    "Большая разница в ошибке может указывать на то что тест и трейн имеют различия по выборке или то что данные в трейне могли уже устареть и их нужно обновлять."
   ]
  },
  {
   "cell_type": "markdown",
   "metadata": {
    "papermill": {
     "duration": 0.087712,
     "end_time": "2020-10-26T12:48:14.104388",
     "exception": false,
     "start_time": "2020-10-26T12:48:14.016676",
     "status": "completed"
    },
    "tags": []
   },
   "source": [
    "# What's next?\n",
    "Или что еще можно сделать, чтоб улучшить результат:\n",
    "\n",
    "* Спарсить свежие данные \n",
    "* Посмотреть, что можно извлечь из признаков или как еще можно обработать признаки\n",
    "* Сгенерировать новые признаки\n",
    "* Попробовать подобрать параметры модели\n",
    "* Попробовать другие алгоритмы и библиотеки ML\n",
    "* Сделать Ансамбль моделей, Blending, Stacking"
   ]
  },
  {
   "cell_type": "markdown",
   "metadata": {},
   "source": [
    "Подробный чек лист: https://docs.google.com/spreadsheets/d/1I_ErM3U0Cs7Rs1obyZbIEGtVn-H47pHNCi4xdDgUmXY/edit?usp=sharing"
   ]
  },
  {
   "cell_type": "code",
   "execution_count": null,
   "metadata": {
    "papermill": {
     "duration": 0.082055,
     "end_time": "2020-10-26T12:48:14.270602",
     "exception": false,
     "start_time": "2020-10-26T12:48:14.188547",
     "status": "completed"
    },
    "tags": []
   },
   "outputs": [],
   "source": []
  },
  {
   "cell_type": "code",
   "execution_count": null,
   "metadata": {
    "papermill": {
     "duration": 0.08168,
     "end_time": "2020-10-26T12:48:14.435554",
     "exception": false,
     "start_time": "2020-10-26T12:48:14.353874",
     "status": "completed"
    },
    "tags": []
   },
   "outputs": [],
   "source": []
  },
  {
   "cell_type": "code",
   "execution_count": null,
   "metadata": {
    "papermill": {
     "duration": 0.080788,
     "end_time": "2020-10-26T12:48:14.596978",
     "exception": false,
     "start_time": "2020-10-26T12:48:14.51619",
     "status": "completed"
    },
    "tags": []
   },
   "outputs": [],
   "source": []
  }
 ],
 "metadata": {
  "kernelspec": {
   "display_name": "Python 3",
   "language": "python",
   "name": "python3"
  },
  "language_info": {
   "codemirror_mode": {
    "name": "ipython",
    "version": 3
   },
   "file_extension": ".py",
   "mimetype": "text/x-python",
   "name": "python",
   "nbconvert_exporter": "python",
   "pygments_lexer": "ipython3",
   "version": "3.7.9"
  }
 },
 "nbformat": 4,
 "nbformat_minor": 4
}
