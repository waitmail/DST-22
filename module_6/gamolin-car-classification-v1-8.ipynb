{
 "cells": [
  {
   "cell_type": "markdown",
   "metadata": {
    "papermill": {
     "duration": 0.025788,
     "end_time": "2021-03-04T16:35:29.93355",
     "exception": false,
     "start_time": "2021-03-04T16:35:29.907762",
     "status": "completed"
    },
    "tags": []
   },
   "source": [
    "> Это пример решения задачи с использованием Keras. Вы можете использовать этот кернер для дальнейших исследований и экспериментов.\n",
    "# Классификация изображений\n",
    "\n",
    "### Основная идея этого решения: взять предобученую на ImageNet сеть Xception и дообучить под нашу задачу. \n",
    "По ходу решения мы будем давать вам рекомендации, которые помогут улучшить качество модели. \n",
    "\n",
    "\n",
    "Удачи и Поехали!"
   ]
  },
  {
   "cell_type": "code",
   "execution_count": null,
   "metadata": {
    "_cell_guid": "b1076dfc-b9ad-4769-8c92-a6c4dae69d19",
    "_kg_hide-input": true,
    "_uuid": "8f2839f25d086af736a60e9eeb907d3b93b6e0e5",
    "papermill": {
     "duration": 1.257135,
     "end_time": "2021-03-04T16:35:31.216439",
     "exception": false,
     "start_time": "2021-03-04T16:35:29.959304",
     "status": "completed"
    },
    "tags": []
   },
   "outputs": [],
   "source": [
    "!nvidia-smi"
   ]
  },
  {
   "cell_type": "code",
   "execution_count": null,
   "metadata": {
    "papermill": {
     "duration": 7.677352,
     "end_time": "2021-03-04T16:35:38.920457",
     "exception": false,
     "start_time": "2021-03-04T16:35:31.243105",
     "status": "completed"
    },
    "tags": []
   },
   "outputs": [],
   "source": [
    "!pip install -q efficientnet"
   ]
  },
  {
   "cell_type": "code",
   "execution_count": null,
   "metadata": {
    "_cell_guid": "79c7e3d0-c299-4dcb-8224-4455121ee9b0",
    "_kg_hide-input": true,
    "_uuid": "d629ff2d2480ee46fbb7e2d37f6b5fab8052498a",
    "papermill": {
     "duration": 5.290345,
     "end_time": "2021-03-04T16:35:44.236236",
     "exception": false,
     "start_time": "2021-03-04T16:35:38.945891",
     "status": "completed"
    },
    "tags": []
   },
   "outputs": [],
   "source": [
    "import numpy as np\n",
    "import pandas as pd\n",
    "import matplotlib.pyplot as plt\n",
    "import seaborn as sns\n",
    "import pickle\n",
    "import zipfile\n",
    "import csv\n",
    "import sys\n",
    "import os\n",
    "\n",
    "\n",
    "import tensorflow as tf\n",
    "from tensorflow.keras.preprocessing import image\n",
    "from tensorflow.keras.preprocessing.image import ImageDataGenerator\n",
    "from tensorflow.keras.callbacks import LearningRateScheduler, ModelCheckpoint\n",
    "from tensorflow.keras.callbacks import Callback\n",
    "from tensorflow.keras.regularizers import l2\n",
    "from tensorflow.keras import optimizers\n",
    "from tensorflow.keras.models import Model\n",
    "from keras.models import Sequential\n",
    "from tensorflow.keras.applications.xception import Xception\n",
    "from tensorflow.keras.layers import *\n",
    "\n",
    "\n",
    "import efficientnet.tfkeras as efn\n",
    "\n",
    "from sklearn.model_selection import train_test_split, StratifiedKFold\n",
    "\n",
    "import PIL\n",
    "from PIL import ImageOps, ImageFilter\n",
    "#увеличим дефолтный размер графиков\n",
    "from pylab import rcParams\n",
    "rcParams['figure.figsize'] = 10, 5\n",
    "#графики в svg выглядят более четкими\n",
    "%config InlineBackend.figure_format = 'svg' \n",
    "%matplotlib inline\n",
    "\n",
    "print(os.listdir(\"../input\"))\n",
    "print('Python       :', sys.version.split('\\n')[0])\n",
    "print('Numpy        :', np.__version__)\n",
    "print('Tensorflow   :', tf.__version__)\n",
    "print('Keras        :', tf.keras.__version__)"
   ]
  },
  {
   "cell_type": "markdown",
   "metadata": {
    "papermill": {
     "duration": 0.026183,
     "end_time": "2021-03-04T16:35:44.289106",
     "exception": false,
     "start_time": "2021-03-04T16:35:44.262923",
     "status": "completed"
    },
    "tags": []
   },
   "source": [
    "**Работаем с Tensorflow v2**"
   ]
  },
  {
   "cell_type": "code",
   "execution_count": null,
   "metadata": {
    "_kg_hide-input": true,
    "papermill": {
     "duration": 2.064499,
     "end_time": "2021-03-04T16:35:46.395307",
     "exception": false,
     "start_time": "2021-03-04T16:35:44.330808",
     "status": "completed"
    },
    "tags": []
   },
   "outputs": [],
   "source": [
    "!pip freeze > requirements.txt"
   ]
  },
  {
   "cell_type": "markdown",
   "metadata": {
    "papermill": {
     "duration": 0.042667,
     "end_time": "2021-03-04T16:35:46.486815",
     "exception": false,
     "start_time": "2021-03-04T16:35:46.444148",
     "status": "completed"
    },
    "tags": []
   },
   "source": [
    "# Основные настройки"
   ]
  },
  {
   "cell_type": "code",
   "execution_count": null,
   "metadata": {
    "papermill": {
     "duration": 0.053464,
     "end_time": "2021-03-04T16:35:46.583718",
     "exception": false,
     "start_time": "2021-03-04T16:35:46.530254",
     "status": "completed"
    },
    "tags": []
   },
   "outputs": [],
   "source": [
    "# В setup выносим основные настройки: так удобнее их перебирать в дальнейшем.\n",
    "\n",
    "EPOCHS               = 10  # эпох на обучение\n",
    "BATCH_SIZE           = 16 # уменьшаем batch если сеть большая, иначе не влезет в память на GPU\n",
    "LR                   = 1e-4\n",
    "VAL_SPLIT            = 0.20 # сколько данных выделяем на тест = 15%\n",
    "\n",
    "CLASS_NUM            = 10  # количество классов в нашей задаче\n",
    "IMG_SIZE             = 248 # какого размера подаем изображения в сеть\n",
    "IMG_CHANNELS         = 3   # у RGB 3 канала\n",
    "input_shape          = (IMG_SIZE, IMG_SIZE, IMG_CHANNELS)\n",
    "\n",
    "DATA_PATH = '../input/'\n",
    "PATH = \"../working/car/\" # рабочая директория"
   ]
  },
  {
   "cell_type": "code",
   "execution_count": null,
   "metadata": {
    "_kg_hide-input": true,
    "papermill": {
     "duration": 0.052477,
     "end_time": "2021-03-04T16:35:46.678081",
     "exception": false,
     "start_time": "2021-03-04T16:35:46.625604",
     "status": "completed"
    },
    "tags": []
   },
   "outputs": [],
   "source": [
    "# Устаналиваем конкретное значение random seed для воспроизводимости\n",
    "os.makedirs(PATH,exist_ok=False)\n",
    "\n",
    "RANDOM_SEED = 42\n",
    "np.random.seed(RANDOM_SEED)  \n",
    "PYTHONHASHSEED = 0"
   ]
  },
  {
   "cell_type": "markdown",
   "metadata": {
    "papermill": {
     "duration": 0.04235,
     "end_time": "2021-03-04T16:35:46.762366",
     "exception": false,
     "start_time": "2021-03-04T16:35:46.720016",
     "status": "completed"
    },
    "tags": []
   },
   "source": [
    "# EDA / Анализ данных"
   ]
  },
  {
   "cell_type": "code",
   "execution_count": null,
   "metadata": {
    "papermill": {
     "duration": 0.114568,
     "end_time": "2021-03-04T16:35:46.918893",
     "exception": false,
     "start_time": "2021-03-04T16:35:46.804325",
     "status": "completed"
    },
    "tags": []
   },
   "outputs": [],
   "source": [
    "train_df = pd.read_csv(DATA_PATH+\"train.csv\")\n",
    "sample_submission = pd.read_csv(DATA_PATH+\"sample-submission.csv\")\n",
    "train_df.head()"
   ]
  },
  {
   "cell_type": "code",
   "execution_count": null,
   "metadata": {
    "papermill": {
     "duration": 0.069682,
     "end_time": "2021-03-04T16:35:47.047266",
     "exception": false,
     "start_time": "2021-03-04T16:35:46.977584",
     "status": "completed"
    },
    "tags": []
   },
   "outputs": [],
   "source": [
    "train_df.info()"
   ]
  },
  {
   "cell_type": "code",
   "execution_count": null,
   "metadata": {
    "papermill": {
     "duration": 0.05814,
     "end_time": "2021-03-04T16:35:47.148166",
     "exception": false,
     "start_time": "2021-03-04T16:35:47.090026",
     "status": "completed"
    },
    "tags": []
   },
   "outputs": [],
   "source": [
    "train_df.Category.value_counts()\n",
    "# распределение классов достаточно равномерное - это хорошо"
   ]
  },
  {
   "cell_type": "code",
   "execution_count": null,
   "metadata": {
    "papermill": {
     "duration": 24.540644,
     "end_time": "2021-03-04T16:36:11.735401",
     "exception": false,
     "start_time": "2021-03-04T16:35:47.194757",
     "status": "completed"
    },
    "tags": []
   },
   "outputs": [],
   "source": [
    "print('Распаковываем картинки')\n",
    "# Will unzip the files so that you can see them..\n",
    "for data_zip in ['train.zip', 'test.zip']:\n",
    "    with zipfile.ZipFile(\"../input/\"+data_zip,\"r\") as z:\n",
    "        z.extractall(PATH)\n",
    "        \n",
    "print(os.listdir(PATH))"
   ]
  },
  {
   "cell_type": "code",
   "execution_count": null,
   "metadata": {
    "_kg_hide-input": true,
    "papermill": {
     "duration": 0.826765,
     "end_time": "2021-03-04T16:36:12.591168",
     "exception": false,
     "start_time": "2021-03-04T16:36:11.764403",
     "status": "completed"
    },
    "tags": []
   },
   "outputs": [],
   "source": [
    "print('Пример картинок (random sample)')\n",
    "plt.figure(figsize=(12,8))\n",
    "\n",
    "random_image = train_df.sample(n=9)\n",
    "random_image_paths = random_image['Id'].values\n",
    "random_image_cat = random_image['Category'].values\n",
    "\n",
    "for index, path in enumerate(random_image_paths):\n",
    "    im = PIL.Image.open(PATH+f'train/{random_image_cat[index]}/{path}')\n",
    "    plt.subplot(3,3, index+1)\n",
    "    plt.imshow(im)\n",
    "    plt.title('Class: '+str(random_image_cat[index]))\n",
    "    plt.axis('off')\n",
    "plt.show()"
   ]
  },
  {
   "cell_type": "markdown",
   "metadata": {
    "papermill": {
     "duration": 0.039569,
     "end_time": "2021-03-04T16:36:12.670868",
     "exception": false,
     "start_time": "2021-03-04T16:36:12.631299",
     "status": "completed"
    },
    "tags": []
   },
   "source": [
    "Посмотрим на примеры картинок и их размеры чтоб понимать как их лучше обработать и сжимать."
   ]
  },
  {
   "cell_type": "code",
   "execution_count": null,
   "metadata": {
    "papermill": {
     "duration": 0.243707,
     "end_time": "2021-03-04T16:36:12.954681",
     "exception": false,
     "start_time": "2021-03-04T16:36:12.710974",
     "status": "completed"
    },
    "tags": []
   },
   "outputs": [],
   "source": [
    "image = PIL.Image.open(PATH+'/train/0/100380.jpg')\n",
    "imgplot = plt.imshow(image)\n",
    "plt.show()\n",
    "image.size"
   ]
  },
  {
   "cell_type": "markdown",
   "metadata": {
    "papermill": {
     "duration": 0.045727,
     "end_time": "2021-03-04T16:36:13.045866",
     "exception": false,
     "start_time": "2021-03-04T16:36:13.000139",
     "status": "completed"
    },
    "tags": []
   },
   "source": [
    "### Уже догадываетесь, что означают классы?"
   ]
  },
  {
   "cell_type": "markdown",
   "metadata": {
    "papermill": {
     "duration": 0.0469,
     "end_time": "2021-03-04T16:36:13.138156",
     "exception": false,
     "start_time": "2021-03-04T16:36:13.091256",
     "status": "completed"
    },
    "tags": []
   },
   "source": [
    "# Подготовка данных"
   ]
  },
  {
   "cell_type": "markdown",
   "metadata": {
    "papermill": {
     "duration": 0.045093,
     "end_time": "2021-03-04T16:36:13.22945",
     "exception": false,
     "start_time": "2021-03-04T16:36:13.184357",
     "status": "completed"
    },
    "tags": []
   },
   "source": [
    "### Аугментация данных"
   ]
  },
  {
   "cell_type": "code",
   "execution_count": null,
   "metadata": {
    "papermill": {
     "duration": 0.053647,
     "end_time": "2021-03-04T16:36:13.327427",
     "exception": false,
     "start_time": "2021-03-04T16:36:13.27378",
     "status": "completed"
    },
    "tags": []
   },
   "outputs": [],
   "source": [
    "# Вы помните, что аугментация данных важна, когда мы работаем с небольшим датасетом. Это как раз наш случай.\n",
    "# Чтобы лучше понять работу параметров, попробуйте их изменить. К какому результату это приведет?\n",
    "# Официальная документация: https://keras.io/preprocessing/image/\n",
    "\n",
    "train_datagen = ImageDataGenerator(\n",
    "    rescale=1. / 255,\n",
    "    rotation_range = 5,\n",
    "    width_shift_range=0.1,\n",
    "    height_shift_range=0.1,\n",
    "    validation_split=VAL_SPLIT, # set validation split\n",
    "    horizontal_flip=False)\n",
    "\n",
    "test_datagen = ImageDataGenerator(rescale=1. / 255)\n",
    "\n",
    "\n",
    "#Рекомендация Подключите более продвинутые библиотеки аугментации изображений (например: albumentations или imgaug, для них есть специальные \"обертки\" под Keras, например: https://github.com/mjkvaak/ImageDataAugmentor)"
   ]
  },
  {
   "cell_type": "markdown",
   "metadata": {
    "papermill": {
     "duration": 0.044569,
     "end_time": "2021-03-04T16:36:13.424358",
     "exception": false,
     "start_time": "2021-03-04T16:36:13.379789",
     "status": "completed"
    },
    "tags": []
   },
   "source": [
    "### Генерация данных"
   ]
  },
  {
   "cell_type": "code",
   "execution_count": null,
   "metadata": {
    "papermill": {
     "duration": 1.065943,
     "end_time": "2021-03-04T16:36:14.535248",
     "exception": false,
     "start_time": "2021-03-04T16:36:13.469305",
     "status": "completed"
    },
    "tags": []
   },
   "outputs": [],
   "source": [
    "# Завернем наши данные в генератор:\n",
    "\n",
    "train_generator = train_datagen.flow_from_directory(\n",
    "    PATH+'train/',      # директория где расположены папки с картинками \n",
    "    target_size=(IMG_SIZE, IMG_SIZE),\n",
    "    batch_size=BATCH_SIZE,\n",
    "    class_mode='categorical',\n",
    "    shuffle=True, seed=RANDOM_SEED,\n",
    "    subset='training') # set as training data\n",
    "\n",
    "test_generator = train_datagen.flow_from_directory(\n",
    "    PATH+'train/',\n",
    "    target_size=(IMG_SIZE, IMG_SIZE),\n",
    "    batch_size=BATCH_SIZE,\n",
    "    class_mode='categorical',\n",
    "    shuffle=True, seed=RANDOM_SEED,\n",
    "    subset='validation') # set as validation data\n",
    "\n",
    "test_sub_generator = test_datagen.flow_from_dataframe( \n",
    "    dataframe=sample_submission,\n",
    "    directory=PATH+'test_upload/',\n",
    "    x_col=\"Id\",\n",
    "    y_col=None,\n",
    "    shuffle=False,\n",
    "    class_mode=None,\n",
    "    seed=RANDOM_SEED,\n",
    "    target_size=(IMG_SIZE, IMG_SIZE),\n",
    "    batch_size=BATCH_SIZE,)\n",
    "\n",
    "# Обратите внимание, что для сабмита мы используем другой источник test_datagen.flow_from_dataframe. Как вы думаете, почему?"
   ]
  },
  {
   "cell_type": "markdown",
   "metadata": {
    "papermill": {
     "duration": 0.057346,
     "end_time": "2021-03-04T16:36:14.642872",
     "exception": false,
     "start_time": "2021-03-04T16:36:14.585526",
     "status": "completed"
    },
    "tags": []
   },
   "source": [
    "# Построение модели"
   ]
  },
  {
   "cell_type": "markdown",
   "metadata": {
    "papermill": {
     "duration": 0.091482,
     "end_time": "2021-03-04T16:36:16.922289",
     "exception": false,
     "start_time": "2021-03-04T16:36:16.830807",
     "status": "completed"
    },
    "tags": []
   },
   "source": [
    "### Загружаем предобученную сеть EfficientNetB6:"
   ]
  },
  {
   "cell_type": "code",
   "execution_count": null,
   "metadata": {
    "papermill": {
     "duration": 5.063229,
     "end_time": "2021-03-04T16:36:22.031725",
     "exception": false,
     "start_time": "2021-03-04T16:36:16.968496",
     "status": "completed"
    },
    "tags": []
   },
   "outputs": [],
   "source": [
    "base_model = Xception(weights='imagenet', include_top=False, input_shape = input_shape)"
   ]
  },
  {
   "cell_type": "code",
   "execution_count": null,
   "metadata": {
    "_kg_hide-output": true,
    "papermill": {
     "duration": 0.223183,
     "end_time": "2021-03-04T16:36:22.307463",
     "exception": false,
     "start_time": "2021-03-04T16:36:22.08428",
     "status": "completed"
    },
    "tags": []
   },
   "outputs": [],
   "source": [
    "base_model.summary()\n",
    "# Рекомендация: Попробуйте и другие архитектуры сетей"
   ]
  },
  {
   "cell_type": "code",
   "execution_count": null,
   "metadata": {
    "papermill": {
     "duration": 0.456828,
     "end_time": "2021-03-04T16:36:22.899811",
     "exception": false,
     "start_time": "2021-03-04T16:36:22.442983",
     "status": "completed"
    },
    "tags": []
   },
   "outputs": [],
   "source": [
    "# Устанавливаем новую \"голову\" (head)\n",
    "\"\"\"\n",
    "x = base_model.output\n",
    "x = GlobalAveragePooling2D()(x)\n",
    "# let's add a fully-connected layer\n",
    "x = Dense(256, activation='relu')(x)\n",
    "x = Dropout(0.25)(x)\n",
    "# and a logistic layer -- let's say we have 10 classes\n",
    "predictions = Dense(CLASS_NUM, activation='softmax')(x)\n",
    "\n",
    "# this is the model we will train\n",
    "model = Model(inputs=base_model.input, outputs=predictions)\n",
    "model.compile(loss=\"categorical_crossentropy\", optimizer=optimizers.Adam(lr=LR), metrics=[\"accuracy\"])\"\"\"\n",
    "\n",
    "#from tensorflow.keras.layers import Layer\n",
    "from keras.models import Sequential\n",
    "\n",
    "model=Sequential()\n",
    "model.add(base_model)\n",
    "model.add(GlobalAveragePooling2D(),)\n",
    "model.add(Dense(256, activation='relu'))\n",
    "model.add(BatchNormalization()) \n",
    "Dropout(0.2)\n",
    "model.add(Dense(CLASS_NUM, activation='softmax'))\n",
    "\n",
    "model.compile(loss=\"categorical_crossentropy\", optimizer=optimizers.Adam(lr=LR), metrics=[\"accuracy\"])"
   ]
  },
  {
   "cell_type": "code",
   "execution_count": null,
   "metadata": {
    "_kg_hide-input": false,
    "_kg_hide-output": true,
    "papermill": {
     "duration": 0.07158,
     "end_time": "2021-03-04T16:36:23.022962",
     "exception": false,
     "start_time": "2021-03-04T16:36:22.951382",
     "status": "completed"
    },
    "tags": []
   },
   "outputs": [],
   "source": [
    "model.summary()\n",
    "# Рекомендация: Попробуйте добавить Batch Normalization"
   ]
  },
  {
   "cell_type": "markdown",
   "metadata": {
    "papermill": {
     "duration": 0.050676,
     "end_time": "2021-03-04T16:36:23.125584",
     "exception": false,
     "start_time": "2021-03-04T16:36:23.074908",
     "status": "completed"
    },
    "tags": []
   },
   "source": [
    "## Обучение модели"
   ]
  },
  {
   "cell_type": "markdown",
   "metadata": {
    "papermill": {
     "duration": 0.051467,
     "end_time": "2021-03-04T16:36:23.228106",
     "exception": false,
     "start_time": "2021-03-04T16:36:23.176639",
     "status": "completed"
    },
    "tags": []
   },
   "source": [
    "Добавим ModelCheckpoint чтоб сохранять прогресс обучения модели и можно было потом подгрузить и дообучить модель."
   ]
  },
  {
   "cell_type": "code",
   "execution_count": null,
   "metadata": {
    "papermill": {
     "duration": 0.060321,
     "end_time": "2021-03-04T16:36:23.341021",
     "exception": false,
     "start_time": "2021-03-04T16:36:23.2807",
     "status": "completed"
    },
    "tags": []
   },
   "outputs": [],
   "source": [
    "checkpoint = ModelCheckpoint('best_model.hdf5' , monitor = ['val_accuracy'] , verbose = 1  , mode = 'max')\n",
    "callbacks_list = [checkpoint]\n",
    "\n",
    "# Рекомендация 1. Добавьте другие функции из https://keras.io/callbacks/\n",
    "# Рекомендация 2. Используйте разные техники управления Learning Rate\n",
    "# https://towardsdatascience.com/finding-good-learning-rate-and-the-one-cycle-policy-7159fe1db5d6 (eng)\n",
    "# http://teleported.in/posts/cyclic-learning-rate/ (eng)"
   ]
  },
  {
   "cell_type": "markdown",
   "metadata": {
    "papermill": {
     "duration": 0.051564,
     "end_time": "2021-03-04T16:36:23.470238",
     "exception": false,
     "start_time": "2021-03-04T16:36:23.418674",
     "status": "completed"
    },
    "tags": []
   },
   "source": [
    "Обучаем:"
   ]
  },
  {
   "cell_type": "code",
   "execution_count": null,
   "metadata": {
    "papermill": {
     "duration": 3366.32074,
     "end_time": "2021-03-04T17:32:29.842924",
     "exception": false,
     "start_time": "2021-03-04T16:36:23.522184",
     "status": "completed"
    },
    "tags": []
   },
   "outputs": [],
   "source": [
    "history = model.fit_generator(\n",
    "        train_generator,\n",
    "        steps_per_epoch = len(train_generator),\n",
    "        validation_data = test_generator, \n",
    "        validation_steps = len(test_generator),\n",
    "        epochs = EPOCHS,\n",
    "        callbacks = callbacks_list\n",
    ")\n",
    "\n",
    "# Рекомендация: попробуйте применить transfer learning с fine-tuning"
   ]
  },
  {
   "cell_type": "code",
   "execution_count": null,
   "metadata": {
    "papermill": {
     "duration": 3.00988,
     "end_time": "2021-03-04T17:32:34.86922",
     "exception": false,
     "start_time": "2021-03-04T17:32:31.85934",
     "status": "completed"
    },
    "tags": []
   },
   "outputs": [],
   "source": [
    "# сохраним итоговую сеть и подгрузим лучшую итерацию в обучении (best_model)\n",
    "model.save('../working/model_last.hdf5')\n",
    "model.load_weights('best_model.hdf5')"
   ]
  },
  {
   "cell_type": "code",
   "execution_count": null,
   "metadata": {
    "_kg_hide-input": true,
    "papermill": {
     "duration": 56.0679,
     "end_time": "2021-03-04T17:33:33.287951",
     "exception": false,
     "start_time": "2021-03-04T17:32:37.220051",
     "status": "completed"
    },
    "tags": []
   },
   "outputs": [],
   "source": [
    "scores = model.evaluate_generator(test_generator, steps=len(test_generator), verbose=1)\n",
    "print(\"Accuracy: %.2f%%\" % (scores[1]*100))"
   ]
  },
  {
   "cell_type": "markdown",
   "metadata": {
    "papermill": {
     "duration": 2.140339,
     "end_time": "2021-03-04T17:33:37.657697",
     "exception": false,
     "start_time": "2021-03-04T17:33:35.517358",
     "status": "completed"
    },
    "tags": []
   },
   "source": [
    "было: 91.28\n",
    "Стало: 96.26\n"
   ]
  },
  {
   "cell_type": "markdown",
   "metadata": {
    "papermill": {
     "duration": 2.113488,
     "end_time": "2021-03-04T17:33:41.879677",
     "exception": false,
     "start_time": "2021-03-04T17:33:39.766189",
     "status": "completed"
    },
    "tags": []
   },
   "source": [
    "В Итоге точность нашей модели составила 93%. \n",
    "Учитывая что классов 10 - это Очень хороший результат!     \n",
    "Посмотрим графики обучения:"
   ]
  },
  {
   "cell_type": "code",
   "execution_count": null,
   "metadata": {
    "_kg_hide-input": true,
    "papermill": {
     "duration": 2.372896,
     "end_time": "2021-03-04T17:33:46.665617",
     "exception": false,
     "start_time": "2021-03-04T17:33:44.292721",
     "status": "completed"
    },
    "tags": []
   },
   "outputs": [],
   "source": [
    "acc = history.history['accuracy']\n",
    "val_acc = history.history['val_accuracy']\n",
    "loss = history.history['loss']\n",
    "val_loss = history.history['val_loss']\n",
    " \n",
    "epochs = range(len(acc))\n",
    " \n",
    "plt.plot(epochs, acc, 'b', label='Training acc')\n",
    "plt.plot(epochs, val_acc, 'r', label='Validation acc')\n",
    "plt.title('Training and validation accuracy')\n",
    "plt.legend()\n",
    " \n",
    "plt.figure()\n",
    " \n",
    "plt.plot(epochs, loss, 'b', label='Training loss')\n",
    "plt.plot(epochs, val_loss, 'r', label='Validation loss')\n",
    "plt.title('Training and validation loss')\n",
    "plt.legend()\n",
    " \n",
    "plt.show()"
   ]
  },
  {
   "cell_type": "markdown",
   "metadata": {
    "papermill": {
     "duration": 2.108529,
     "end_time": "2021-03-04T17:33:50.84513",
     "exception": false,
     "start_time": "2021-03-04T17:33:48.736601",
     "status": "completed"
    },
    "tags": []
   },
   "source": [
    "# Предсказание на тестовых данных"
   ]
  },
  {
   "cell_type": "code",
   "execution_count": null,
   "metadata": {
    "papermill": {
     "duration": 2.854602,
     "end_time": "2021-03-04T17:33:55.812772",
     "exception": false,
     "start_time": "2021-03-04T17:33:52.95817",
     "status": "completed"
    },
    "tags": []
   },
   "outputs": [],
   "source": [
    "test_sub_generator.samples"
   ]
  },
  {
   "cell_type": "code",
   "execution_count": null,
   "metadata": {
    "papermill": {
     "duration": 44.412819,
     "end_time": "2021-03-04T17:34:42.358097",
     "exception": false,
     "start_time": "2021-03-04T17:33:57.945278",
     "status": "completed"
    },
    "tags": []
   },
   "outputs": [],
   "source": [
    "test_sub_generator.reset()\n",
    "predictions = model.predict_generator(test_sub_generator, steps=len(test_sub_generator), verbose=1) \n",
    "predictions = np.argmax(predictions, axis=-1) #multiple categories\n",
    "label_map = (train_generator.class_indices)\n",
    "label_map = dict((v,k) for k,v in label_map.items()) #flip k,v\n",
    "predictions = [label_map[k] for k in predictions]"
   ]
  },
  {
   "cell_type": "code",
   "execution_count": null,
   "metadata": {
    "papermill": {
     "duration": 2.337696,
     "end_time": "2021-03-04T17:34:46.876213",
     "exception": false,
     "start_time": "2021-03-04T17:34:44.538517",
     "status": "completed"
    },
    "tags": []
   },
   "outputs": [],
   "source": [
    "filenames_with_dir=test_sub_generator.filenames\n",
    "submission = pd.DataFrame({'Id':filenames_with_dir, 'Category':predictions}, columns=['Id', 'Category'])\n",
    "submission['Id'] = submission['Id'].replace('test_upload/','')\n",
    "submission.to_csv('submission.csv', index=False)\n",
    "print('Save submit')\n",
    "\n",
    "# Рекомендация: попробуйте добавить Test Time Augmentation (TTA)\n",
    "# https://towardsdatascience.com/test-time-augmentation-tta-and-how-to-perform-it-with-keras-4ac19b67fb4d"
   ]
  },
  {
   "cell_type": "code",
   "execution_count": null,
   "metadata": {
    "papermill": {
     "duration": 2.188447,
     "end_time": "2021-03-04T17:34:51.537378",
     "exception": false,
     "start_time": "2021-03-04T17:34:49.348931",
     "status": "completed"
    },
    "tags": []
   },
   "outputs": [],
   "source": [
    "submission.head()"
   ]
  },
  {
   "cell_type": "markdown",
   "metadata": {
    "papermill": {
     "duration": 2.160244,
     "end_time": "2021-03-04T17:34:55.905751",
     "exception": false,
     "start_time": "2021-03-04T17:34:53.745507",
     "status": "completed"
    },
    "tags": []
   },
   "source": [
    "## TTA"
   ]
  },
  {
   "cell_type": "code",
   "execution_count": null,
   "metadata": {
    "papermill": {
     "duration": 3.132148,
     "end_time": "2021-03-04T17:35:01.269354",
     "exception": false,
     "start_time": "2021-03-04T17:34:58.137206",
     "status": "completed"
    },
    "tags": []
   },
   "outputs": [],
   "source": [
    "model.load_weights('best_model.hdf5')"
   ]
  },
  {
   "cell_type": "code",
   "execution_count": null,
   "metadata": {
    "papermill": {
     "duration": 2.218195,
     "end_time": "2021-03-04T17:35:05.693031",
     "exception": false,
     "start_time": "2021-03-04T17:35:03.474836",
     "status": "completed"
    },
    "tags": []
   },
   "outputs": [],
   "source": [
    "test_datagen = ImageDataGenerator(rescale=1. / 255,\n",
    "                                 rotation_range = 90,\n",
    "                                    shear_range=0.2,\n",
    "                                    zoom_range=[0.75,1.25],\n",
    "                                    brightness_range=[0.5, 1.5],\n",
    "                                    width_shift_range=0.1,\n",
    "                                    height_shift_range=0.1,)"
   ]
  },
  {
   "cell_type": "code",
   "execution_count": null,
   "metadata": {
    "papermill": {
     "duration": 2.451289,
     "end_time": "2021-03-04T17:35:10.325153",
     "exception": false,
     "start_time": "2021-03-04T17:35:07.873864",
     "status": "completed"
    },
    "tags": []
   },
   "outputs": [],
   "source": [
    "test_generator = train_datagen.flow_from_directory(\n",
    "    PATH+'train/',\n",
    "    target_size=(IMG_SIZE, IMG_SIZE),\n",
    "    batch_size=BATCH_SIZE,\n",
    "    class_mode='categorical',\n",
    "    shuffle=True, seed=RANDOM_SEED,\n",
    "    subset='validation') # set as validation data"
   ]
  },
  {
   "cell_type": "code",
   "execution_count": null,
   "metadata": {
    "papermill": {
     "duration": 3.009642,
     "end_time": "2021-03-04T17:35:15.751589",
     "exception": false,
     "start_time": "2021-03-04T17:35:12.741947",
     "status": "completed"
    },
    "tags": []
   },
   "outputs": [],
   "source": [
    "x,y = test_generator.next()\n",
    "print('Пример картинок из test_generator')\n",
    "plt.figure(figsize=(12,8))\n",
    "\n",
    "for i in range(0,6):\n",
    "    image = x[i]\n",
    "    plt.subplot(3,3, i+1)\n",
    "    plt.imshow(image)\n",
    "plt.show()"
   ]
  },
  {
   "cell_type": "code",
   "execution_count": null,
   "metadata": {
    "papermill": {
     "duration": 555.932088,
     "end_time": "2021-03-04T17:44:33.905782",
     "exception": false,
     "start_time": "2021-03-04T17:35:17.973694",
     "status": "completed"
    },
    "tags": []
   },
   "outputs": [],
   "source": [
    "tta_steps = 10\n",
    "predictions = []\n",
    "\n",
    "for i in range(tta_steps):\n",
    "    preds = model.predict_generator(test_generator, verbose=1) \n",
    "    predictions.append(preds)\n",
    "\n",
    "pred = np.mean(predictions, axis=0)"
   ]
  },
  {
   "cell_type": "code",
   "execution_count": null,
   "metadata": {
    "papermill": {
     "duration": 3.186534,
     "end_time": "2021-03-04T17:44:39.897789",
     "exception": false,
     "start_time": "2021-03-04T17:44:36.711255",
     "status": "completed"
    },
    "tags": []
   },
   "outputs": [],
   "source": [
    "predictions = np.argmax(pred, axis=-1) #multiple categories\n",
    "label_map = (train_generator.class_indices)\n",
    "label_map = dict((v,k) for k,v in label_map.items()) #flip k,v\n",
    "predictions = [label_map[k] for k in predictions]"
   ]
  },
  {
   "cell_type": "code",
   "execution_count": null,
   "metadata": {
    "papermill": {
     "duration": 2.8097,
     "end_time": "2021-03-04T17:44:45.550906",
     "exception": false,
     "start_time": "2021-03-04T17:44:42.741206",
     "status": "completed"
    },
    "tags": []
   },
   "outputs": [],
   "source": [
    "#scores = model.evaluate_generator(test_generator, steps=len(test_generator), verbose=1)\n",
    "print(\"Accuracy: %.2f%%\" % (scores[1]*100))"
   ]
  },
  {
   "cell_type": "code",
   "execution_count": null,
   "metadata": {
    "_kg_hide-input": true,
    "papermill": {
     "duration": 3.498823,
     "end_time": "2021-03-04T17:44:51.734981",
     "exception": false,
     "start_time": "2021-03-04T17:44:48.236158",
     "status": "completed"
    },
    "tags": []
   },
   "outputs": [],
   "source": [
    "# Clean PATH\n",
    "import shutil\n",
    "shutil.rmtree(PATH)"
   ]
  },
  {
   "cell_type": "markdown",
   "metadata": {
    "papermill": {
     "duration": 2.682523,
     "end_time": "2021-03-04T17:44:57.434633",
     "exception": false,
     "start_time": "2021-03-04T17:44:54.75211",
     "status": "completed"
    },
    "tags": []
   },
   "source": [
    "## Интересно, к какому классу модель отнесет вот эти автомобили?"
   ]
  },
  {
   "cell_type": "markdown",
   "metadata": {
    "papermill": {
     "duration": 2.684312,
     "end_time": "2021-03-04T17:45:02.815914",
     "exception": false,
     "start_time": "2021-03-04T17:45:00.131602",
     "status": "completed"
    },
    "tags": []
   },
   "source": [
    "# Что можно сделать, чтобы улучшить результат:"
   ]
  },
  {
   "cell_type": "markdown",
   "metadata": {
    "papermill": {
     "duration": 2.745548,
     "end_time": "2021-03-04T17:45:08.517888",
     "exception": false,
     "start_time": "2021-03-04T17:45:05.77234",
     "status": "completed"
    },
    "tags": []
   },
   "source": [
    "* Примените transfer learning с fine-tuning\n",
    "* Настройте LR, optimizer, loss\n",
    "* Подберите другие переменные (размер картинки, батч и т.д.)\n",
    "* Попробуйте и другие архитектуры сетей (а не только Xception) или их ансамбли. Примеры SOTA на ImageNet  \n",
    "* \n",
    "* Добавьте Batch Normalization и поэкспериментируйте с архитектурой “головы”\n",
    "* Примените другие функции callback Keras https://keras.io/callbacks/ \n",
    "* Добавьте TTA (Test Time Augmentation)\n",
    "* Дополнительно*: Используйте разные техники управления Learning Rate (https://towardsdatascience.com/finding-good-learning-rate-and-the-one-cycle-policy-7159fe1db5d6 (eng) http://teleported.in/posts/cyclic-learning-rate/ (eng))\n",
    "* Дополнительно*: Добавьте более продвинутые библиотеки аугментации изображений (например, Albumentations )\n",
    "\n",
    "### Удачи в соревновании!"
   ]
  },
  {
   "cell_type": "code",
   "execution_count": null,
   "metadata": {
    "papermill": {
     "duration": 2.738088,
     "end_time": "2021-03-04T17:45:14.408875",
     "exception": false,
     "start_time": "2021-03-04T17:45:11.670787",
     "status": "completed"
    },
    "tags": []
   },
   "outputs": [],
   "source": []
  }
 ],
 "metadata": {
  "kernelspec": {
   "display_name": "Python 3",
   "language": "python",
   "name": "python3"
  },
  "language_info": {
   "codemirror_mode": {
    "name": "ipython",
    "version": 3
   },
   "file_extension": ".py",
   "mimetype": "text/x-python",
   "name": "python",
   "nbconvert_exporter": "python",
   "pygments_lexer": "ipython3",
   "version": "3.7.9"
  }
 },
 "nbformat": 4,
 "nbformat_minor": 4
}
