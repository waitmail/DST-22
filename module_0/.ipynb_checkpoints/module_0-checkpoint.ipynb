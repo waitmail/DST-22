{
 "cells": [
  {
   "cell_type": "code",
   "execution_count": 1,
   "metadata": {},
   "outputs": [
    {
     "name": "stdout",
     "output_type": "stream",
     "text": [
      "Алгоритм угадывает число в среднем за 5 попыток\n"
     ]
    },
    {
     "data": {
      "text/plain": [
       "5"
      ]
     },
     "execution_count": 1,
     "metadata": {},
     "output_type": "execute_result"
    }
   ],
   "source": [
    "import random\n",
    "import numpy as np\n",
    "\n",
    "def game_core_v2(number):\n",
    "    '''Сначала устанавливаем любое random число, а потом делим интервал пополам в зависимости от того, \n",
    "        больше оно или меньше нужного. \n",
    "        Функция принимает загаданное число и возвращает число попыток'''    \n",
    "    count = 0        \n",
    "    start = 1\n",
    "    finish = 100    \n",
    "    predict = np.random.randint(1,101) #          \n",
    "    while number != predict:         \n",
    "        count +=1        \n",
    "        if number > predict:             \n",
    "            start = predict + 1 # так как граница уже проверена увеличиваем ее          \n",
    "        elif number < predict:                         \n",
    "            finish = predict - 1 # так как граница проверена уменьшаем ее\n",
    "        predict = (start+finish)//2 #Для ускорения делим интервал пополам\n",
    "        \n",
    "    return(count) # выход из цикла, если угадали\n",
    "\n",
    "def score_game(game_core):\n",
    "    #Запускаем игру 1000 раз, чтобы узнать, как быстро игра угадывает число\n",
    "    count_ls = []\n",
    "    np.random.seed(1)  # фиксируем RANDOM SEED, чтобы ваш эксперимент был воспроизводим!\n",
    "    random_array = np.random.randint(1,101, size=(100))\n",
    "    for number in random_array:\n",
    "        count_ls.append(game_core_v2(number))\n",
    "    score = int(np.mean(count_ls))\n",
    "    print(f'Алгоритм угадывает число в среднем за {score} попыток')\n",
    "    return(score)\n",
    "\n",
    "score_game(game_core_v2)"
   ]
  }
 ],
 "metadata": {
  "kernelspec": {
   "display_name": "Python 3",
   "language": "python",
   "name": "python3"
  },
  "language_info": {
   "codemirror_mode": {
    "name": "ipython",
    "version": 3
   },
   "file_extension": ".py",
   "mimetype": "text/x-python",
   "name": "python",
   "nbconvert_exporter": "python",
   "pygments_lexer": "ipython3",
   "version": "3.7.6"
  }
 },
 "nbformat": 4,
 "nbformat_minor": 4
}
