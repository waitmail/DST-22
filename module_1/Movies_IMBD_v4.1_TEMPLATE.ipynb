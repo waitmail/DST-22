{
 "cells": [
  {
   "cell_type": "code",
   "execution_count": 128,
   "metadata": {
    "_cell_guid": "b1076dfc-b9ad-4769-8c92-a6c4dae69d19",
    "_uuid": "8f2839f25d086af736a60e9eeb907d3b93b6e0e5",
    "colab": {},
    "colab_type": "code",
    "id": "U2D2gTdJVp90"
   },
   "outputs": [],
   "source": [
    "import numpy as np\n",
    "import pandas as pd\n",
    "import seaborn as sns\n",
    "import matplotlib.pyplot as plt\n",
    "from collections import Counter"
   ]
  },
  {
   "cell_type": "code",
   "execution_count": 129,
   "metadata": {
    "_cell_guid": "79c7e3d0-c299-4dcb-8224-4455121ee9b0",
    "_uuid": "d629ff2d2480ee46fbb7e2d37f6b5fab8052498a",
    "colab": {},
    "colab_type": "code",
    "id": "oyGfxL3eVp9-"
   },
   "outputs": [
    {
     "data": {
      "text/html": [
       "<div>\n",
       "<style scoped>\n",
       "    .dataframe tbody tr th:only-of-type {\n",
       "        vertical-align: middle;\n",
       "    }\n",
       "\n",
       "    .dataframe tbody tr th {\n",
       "        vertical-align: top;\n",
       "    }\n",
       "\n",
       "    .dataframe thead th {\n",
       "        text-align: right;\n",
       "    }\n",
       "</style>\n",
       "<table border=\"1\" class=\"dataframe\">\n",
       "  <thead>\n",
       "    <tr style=\"text-align: right;\">\n",
       "      <th></th>\n",
       "      <th>imdb_id</th>\n",
       "      <th>budget</th>\n",
       "      <th>revenue</th>\n",
       "      <th>original_title</th>\n",
       "      <th>cast</th>\n",
       "      <th>director</th>\n",
       "      <th>tagline</th>\n",
       "      <th>overview</th>\n",
       "      <th>runtime</th>\n",
       "      <th>genres</th>\n",
       "      <th>production_companies</th>\n",
       "      <th>release_date</th>\n",
       "      <th>vote_average</th>\n",
       "      <th>release_year</th>\n",
       "    </tr>\n",
       "  </thead>\n",
       "  <tbody>\n",
       "    <tr>\n",
       "      <th>677</th>\n",
       "      <td>tt0482606</td>\n",
       "      <td>9000000</td>\n",
       "      <td>82391145</td>\n",
       "      <td>The Strangers</td>\n",
       "      <td>Liv Tyler|Scott Speedman|Alex Fisher|Peter Cla...</td>\n",
       "      <td>Bryan Bertino</td>\n",
       "      <td>Lock the door. Pretend you're safe.</td>\n",
       "      <td>After returning from a wedding reception, a co...</td>\n",
       "      <td>90</td>\n",
       "      <td>Thriller|Horror|Mystery</td>\n",
       "      <td>Rogue Pictures|Vertigo Entertainment</td>\n",
       "      <td>5/29/2008</td>\n",
       "      <td>5.9</td>\n",
       "      <td>2008</td>\n",
       "    </tr>\n",
       "    <tr>\n",
       "      <th>936</th>\n",
       "      <td>tt0253556</td>\n",
       "      <td>60000000</td>\n",
       "      <td>43061982</td>\n",
       "      <td>Reign of Fire</td>\n",
       "      <td>Christian Bale|Matthew McConaughey|Izabella Sc...</td>\n",
       "      <td>Rob Bowman</td>\n",
       "      <td>Fight Fire With Fire</td>\n",
       "      <td>In post-apocalyptic England, an American volun...</td>\n",
       "      <td>101</td>\n",
       "      <td>Action|Fantasy|Science Fiction|Thriller</td>\n",
       "      <td>The Zanuck Company|Spyglass Entertainment|Worl...</td>\n",
       "      <td>7/12/2002</td>\n",
       "      <td>5.9</td>\n",
       "      <td>2002</td>\n",
       "    </tr>\n",
       "    <tr>\n",
       "      <th>1063</th>\n",
       "      <td>tt1623288</td>\n",
       "      <td>60000000</td>\n",
       "      <td>107139399</td>\n",
       "      <td>ParaNorman</td>\n",
       "      <td>Kodi Smit-McPhee|Tucker Albrizzi|Jodelle Ferla...</td>\n",
       "      <td>Sam Fell|Chris Butler</td>\n",
       "      <td>It's all fun and games until someone raises th...</td>\n",
       "      <td>In the town of Blithe Hollow, Norman Babcock i...</td>\n",
       "      <td>90</td>\n",
       "      <td>Family|Animation|Adventure|Comedy</td>\n",
       "      <td>Focus Features|Laika Entertainment</td>\n",
       "      <td>8/3/2012</td>\n",
       "      <td>6.6</td>\n",
       "      <td>2012</td>\n",
       "    </tr>\n",
       "    <tr>\n",
       "      <th>1309</th>\n",
       "      <td>tt2167202</td>\n",
       "      <td>18000000</td>\n",
       "      <td>10501938</td>\n",
       "      <td>Getaway</td>\n",
       "      <td>Ethan Hawke|Selena Gomez|Jon Voight|Paul Freem...</td>\n",
       "      <td>Courtney Solomon</td>\n",
       "      <td>Get in. Get out. Getaway.</td>\n",
       "      <td>Former race car driver Brent Magna (Hawke) is ...</td>\n",
       "      <td>90</td>\n",
       "      <td>Action|Crime</td>\n",
       "      <td>Dark Castle Entertainment|Signature Pictures|A...</td>\n",
       "      <td>8/29/2013</td>\n",
       "      <td>5.0</td>\n",
       "      <td>2013</td>\n",
       "    </tr>\n",
       "    <tr>\n",
       "      <th>647</th>\n",
       "      <td>tt0910936</td>\n",
       "      <td>27000000</td>\n",
       "      <td>101624843</td>\n",
       "      <td>Pineapple Express</td>\n",
       "      <td>Seth Rogen|James Franco|Danny McBride|Gary Col...</td>\n",
       "      <td>David Gordon Green</td>\n",
       "      <td>Put this in your pipe and smoke it.</td>\n",
       "      <td>A stoner and his dealer are forced to go on th...</td>\n",
       "      <td>111</td>\n",
       "      <td>Action|Comedy</td>\n",
       "      <td>Columbia Pictures|Apatow Productions</td>\n",
       "      <td>8/6/2008</td>\n",
       "      <td>6.6</td>\n",
       "      <td>2008</td>\n",
       "    </tr>\n",
       "  </tbody>\n",
       "</table>\n",
       "</div>"
      ],
      "text/plain": [
       "        imdb_id    budget    revenue     original_title  \\\n",
       "677   tt0482606   9000000   82391145      The Strangers   \n",
       "936   tt0253556  60000000   43061982      Reign of Fire   \n",
       "1063  tt1623288  60000000  107139399         ParaNorman   \n",
       "1309  tt2167202  18000000   10501938            Getaway   \n",
       "647   tt0910936  27000000  101624843  Pineapple Express   \n",
       "\n",
       "                                                   cast  \\\n",
       "677   Liv Tyler|Scott Speedman|Alex Fisher|Peter Cla...   \n",
       "936   Christian Bale|Matthew McConaughey|Izabella Sc...   \n",
       "1063  Kodi Smit-McPhee|Tucker Albrizzi|Jodelle Ferla...   \n",
       "1309  Ethan Hawke|Selena Gomez|Jon Voight|Paul Freem...   \n",
       "647   Seth Rogen|James Franco|Danny McBride|Gary Col...   \n",
       "\n",
       "                   director  \\\n",
       "677           Bryan Bertino   \n",
       "936              Rob Bowman   \n",
       "1063  Sam Fell|Chris Butler   \n",
       "1309       Courtney Solomon   \n",
       "647      David Gordon Green   \n",
       "\n",
       "                                                tagline  \\\n",
       "677                 Lock the door. Pretend you're safe.   \n",
       "936                                Fight Fire With Fire   \n",
       "1063  It's all fun and games until someone raises th...   \n",
       "1309                          Get in. Get out. Getaway.   \n",
       "647                 Put this in your pipe and smoke it.   \n",
       "\n",
       "                                               overview  runtime  \\\n",
       "677   After returning from a wedding reception, a co...       90   \n",
       "936   In post-apocalyptic England, an American volun...      101   \n",
       "1063  In the town of Blithe Hollow, Norman Babcock i...       90   \n",
       "1309  Former race car driver Brent Magna (Hawke) is ...       90   \n",
       "647   A stoner and his dealer are forced to go on th...      111   \n",
       "\n",
       "                                       genres  \\\n",
       "677                   Thriller|Horror|Mystery   \n",
       "936   Action|Fantasy|Science Fiction|Thriller   \n",
       "1063        Family|Animation|Adventure|Comedy   \n",
       "1309                             Action|Crime   \n",
       "647                             Action|Comedy   \n",
       "\n",
       "                                   production_companies release_date  \\\n",
       "677                Rogue Pictures|Vertigo Entertainment    5/29/2008   \n",
       "936   The Zanuck Company|Spyglass Entertainment|Worl...    7/12/2002   \n",
       "1063                 Focus Features|Laika Entertainment     8/3/2012   \n",
       "1309  Dark Castle Entertainment|Signature Pictures|A...    8/29/2013   \n",
       "647                Columbia Pictures|Apatow Productions     8/6/2008   \n",
       "\n",
       "      vote_average  release_year  \n",
       "677            5.9          2008  \n",
       "936            5.9          2002  \n",
       "1063           6.6          2012  \n",
       "1309           5.0          2013  \n",
       "647            6.6          2008  "
      ]
     },
     "execution_count": 129,
     "metadata": {},
     "output_type": "execute_result"
    }
   ],
   "source": [
    "data = pd.read_csv('movie_bd_v5.csv')\n",
    "data.sample(5)"
   ]
  },
  {
   "cell_type": "code",
   "execution_count": 134,
   "metadata": {
    "colab": {},
    "colab_type": "code",
    "id": "CoYUnagMVp-C"
   },
   "outputs": [
    {
     "data": {
      "text/html": [
       "<div>\n",
       "<style scoped>\n",
       "    .dataframe tbody tr th:only-of-type {\n",
       "        vertical-align: middle;\n",
       "    }\n",
       "\n",
       "    .dataframe tbody tr th {\n",
       "        vertical-align: top;\n",
       "    }\n",
       "\n",
       "    .dataframe thead th {\n",
       "        text-align: right;\n",
       "    }\n",
       "</style>\n",
       "<table border=\"1\" class=\"dataframe\">\n",
       "  <thead>\n",
       "    <tr style=\"text-align: right;\">\n",
       "      <th></th>\n",
       "      <th>budget</th>\n",
       "      <th>revenue</th>\n",
       "      <th>runtime</th>\n",
       "      <th>vote_average</th>\n",
       "      <th>release_year</th>\n",
       "      <th>profit</th>\n",
       "    </tr>\n",
       "  </thead>\n",
       "  <tbody>\n",
       "    <tr>\n",
       "      <th>count</th>\n",
       "      <td>1.889000e+03</td>\n",
       "      <td>1.889000e+03</td>\n",
       "      <td>1889.000000</td>\n",
       "      <td>1889.000000</td>\n",
       "      <td>1889.000000</td>\n",
       "      <td>1.889000e+03</td>\n",
       "    </tr>\n",
       "    <tr>\n",
       "      <th>mean</th>\n",
       "      <td>5.431083e+07</td>\n",
       "      <td>1.553653e+08</td>\n",
       "      <td>109.658549</td>\n",
       "      <td>6.140762</td>\n",
       "      <td>2007.860773</td>\n",
       "      <td>1.010545e+08</td>\n",
       "    </tr>\n",
       "    <tr>\n",
       "      <th>std</th>\n",
       "      <td>4.858721e+07</td>\n",
       "      <td>2.146698e+08</td>\n",
       "      <td>18.017041</td>\n",
       "      <td>0.764763</td>\n",
       "      <td>4.468841</td>\n",
       "      <td>1.830733e+08</td>\n",
       "    </tr>\n",
       "    <tr>\n",
       "      <th>min</th>\n",
       "      <td>5.000000e+06</td>\n",
       "      <td>2.033165e+06</td>\n",
       "      <td>63.000000</td>\n",
       "      <td>3.300000</td>\n",
       "      <td>2000.000000</td>\n",
       "      <td>-1.657101e+08</td>\n",
       "    </tr>\n",
       "    <tr>\n",
       "      <th>25%</th>\n",
       "      <td>2.000000e+07</td>\n",
       "      <td>3.456058e+07</td>\n",
       "      <td>97.000000</td>\n",
       "      <td>5.600000</td>\n",
       "      <td>2004.000000</td>\n",
       "      <td>5.000000e+06</td>\n",
       "    </tr>\n",
       "    <tr>\n",
       "      <th>50%</th>\n",
       "      <td>3.800000e+07</td>\n",
       "      <td>8.361541e+07</td>\n",
       "      <td>107.000000</td>\n",
       "      <td>6.100000</td>\n",
       "      <td>2008.000000</td>\n",
       "      <td>4.400041e+07</td>\n",
       "    </tr>\n",
       "    <tr>\n",
       "      <th>75%</th>\n",
       "      <td>7.200000e+07</td>\n",
       "      <td>1.782626e+08</td>\n",
       "      <td>120.000000</td>\n",
       "      <td>6.600000</td>\n",
       "      <td>2012.000000</td>\n",
       "      <td>1.201842e+08</td>\n",
       "    </tr>\n",
       "    <tr>\n",
       "      <th>max</th>\n",
       "      <td>3.800000e+08</td>\n",
       "      <td>2.781506e+09</td>\n",
       "      <td>214.000000</td>\n",
       "      <td>8.100000</td>\n",
       "      <td>2015.000000</td>\n",
       "      <td>2.544506e+09</td>\n",
       "    </tr>\n",
       "  </tbody>\n",
       "</table>\n",
       "</div>"
      ],
      "text/plain": [
       "             budget       revenue      runtime  vote_average  release_year  \\\n",
       "count  1.889000e+03  1.889000e+03  1889.000000   1889.000000   1889.000000   \n",
       "mean   5.431083e+07  1.553653e+08   109.658549      6.140762   2007.860773   \n",
       "std    4.858721e+07  2.146698e+08    18.017041      0.764763      4.468841   \n",
       "min    5.000000e+06  2.033165e+06    63.000000      3.300000   2000.000000   \n",
       "25%    2.000000e+07  3.456058e+07    97.000000      5.600000   2004.000000   \n",
       "50%    3.800000e+07  8.361541e+07   107.000000      6.100000   2008.000000   \n",
       "75%    7.200000e+07  1.782626e+08   120.000000      6.600000   2012.000000   \n",
       "max    3.800000e+08  2.781506e+09   214.000000      8.100000   2015.000000   \n",
       "\n",
       "             profit  \n",
       "count  1.889000e+03  \n",
       "mean   1.010545e+08  \n",
       "std    1.830733e+08  \n",
       "min   -1.657101e+08  \n",
       "25%    5.000000e+06  \n",
       "50%    4.400041e+07  \n",
       "75%    1.201842e+08  \n",
       "max    2.544506e+09  "
      ]
     },
     "execution_count": 134,
     "metadata": {},
     "output_type": "execute_result"
    }
   ],
   "source": [
    "data.describe()"
   ]
  },
  {
   "cell_type": "markdown",
   "metadata": {
    "colab_type": "text",
    "id": "DTIt7ezGVp-G"
   },
   "source": [
    "# Предобработка"
   ]
  },
  {
   "cell_type": "code",
   "execution_count": 135,
   "metadata": {
    "colab": {},
    "colab_type": "code",
    "id": "jNb40DwKVp-H"
   },
   "outputs": [],
   "source": [
    "answers = {} # создадим словарь для ответов\n",
    "\n",
    "# тут другие ваши предобработки колонок например:\n",
    "\n",
    "#the time given in the dataset is in string format.\n",
    "#So we need to change this in datetime format\n",
    "# ...\n",
    "# добавим в датасет колонку profit это прибыль = сборы - бюджет\n",
    "data['profit'] = data.revenue - data.budget"
   ]
  },
  {
   "cell_type": "markdown",
   "metadata": {
    "colab_type": "text",
    "id": "YxZaH-nPVp-L"
   },
   "source": [
    "# 1. У какого фильма из списка самый большой бюджет?"
   ]
  },
  {
   "cell_type": "markdown",
   "metadata": {
    "colab_type": "text",
    "id": "Nd-G5gX6Vp-M"
   },
   "source": [
    "Использовать варианты ответов в коде решения запрещено.    \n",
    "Вы думаете и в жизни у вас будут варианты ответов?)"
   ]
  },
  {
   "cell_type": "code",
   "execution_count": 136,
   "metadata": {
    "colab": {},
    "colab_type": "code",
    "id": "uVnXAY5RVp-O"
   },
   "outputs": [],
   "source": [
    "# в словарь вставляем номер вопроса и ваш ответ на него\n",
    "# Пример: \n",
    "answers['1'] = '2. Spider-Man 3 (tt0413300)'\n",
    "# запишите свой вариант ответа\n",
    "answers['1'] = '5. Pirates of the Caribbean: On Stranger Tides (tt1298650)'\n",
    "# если ответили верно, можете добавить комментарий со значком \"+\""
   ]
  },
  {
   "cell_type": "code",
   "execution_count": 137,
   "metadata": {
    "colab": {},
    "colab_type": "code",
    "id": "dZwb3m28Vp-S"
   },
   "outputs": [
    {
     "data": {
      "text/plain": [
       "723    Pirates of the Caribbean: On Stranger Tides\n",
       "Name: original_title, dtype: object"
      ]
     },
     "execution_count": 137,
     "metadata": {},
     "output_type": "execute_result"
    }
   ],
   "source": [
    "# тут пишем ваш код для решения данного вопроса:\n",
    "data[data.budget == data.budget.max()].original_title"
   ]
  },
  {
   "cell_type": "markdown",
   "metadata": {
    "colab_type": "text",
    "id": "K7L3nbRXVp-X"
   },
   "source": [
    "ВАРИАНТ 2"
   ]
  },
  {
   "cell_type": "code",
   "execution_count": 5,
   "metadata": {
    "colab": {},
    "colab_type": "code",
    "id": "OGaoQI7rVp-X"
   },
   "outputs": [],
   "source": [
    "# можно добавлять разные варианты решения"
   ]
  },
  {
   "cell_type": "markdown",
   "metadata": {
    "colab_type": "text",
    "id": "FNRbbI3vVp-c"
   },
   "source": [
    "# 2. Какой из фильмов самый длительный (в минутах)?"
   ]
  },
  {
   "cell_type": "code",
   "execution_count": 138,
   "metadata": {
    "colab": {},
    "colab_type": "code",
    "id": "vHAoEXNTVp-d"
   },
   "outputs": [],
   "source": [
    "# думаю логику работы с этим словарем вы уже поняли, \n",
    "# по этому не буду больше его дублировать\n",
    "answers['2'] = '2. Gods and Generals (tt0279111)'\n",
    "#+"
   ]
  },
  {
   "cell_type": "code",
   "execution_count": 139,
   "metadata": {
    "colab": {},
    "colab_type": "code",
    "id": "ot-VX2XrVp-g"
   },
   "outputs": [
    {
     "data": {
      "text/plain": [
       "1157    Gods and Generals\n",
       "Name: original_title, dtype: object"
      ]
     },
     "execution_count": 139,
     "metadata": {},
     "output_type": "execute_result"
    }
   ],
   "source": [
    "data[data.runtime == data.runtime.max()].original_title"
   ]
  },
  {
   "cell_type": "markdown",
   "metadata": {
    "colab_type": "text",
    "id": "bapLlpW8Vp-k"
   },
   "source": [
    "# 3. Какой из фильмов самый короткий (в минутах)?\n",
    "\n",
    "\n",
    "\n"
   ]
  },
  {
   "cell_type": "code",
   "execution_count": 140,
   "metadata": {
    "colab": {},
    "colab_type": "code",
    "id": "YBxaSHuAVp-l"
   },
   "outputs": [
    {
     "data": {
      "text/plain": [
       "768    Winnie the Pooh\n",
       "Name: original_title, dtype: object"
      ]
     },
     "execution_count": 140,
     "metadata": {},
     "output_type": "execute_result"
    }
   ],
   "source": [
    "answers['3'] = '3. Winnie the Pooh (tt1449283)'\n",
    "#+\n",
    "data[data.runtime == data.runtime.min()].original_title"
   ]
  },
  {
   "cell_type": "markdown",
   "metadata": {
    "colab_type": "text",
    "id": "TfQbxbfNVp-p"
   },
   "source": [
    "# 4. Какова средняя длительность фильмов?\n"
   ]
  },
  {
   "cell_type": "code",
   "execution_count": 141,
   "metadata": {
    "colab": {},
    "colab_type": "code",
    "id": "5K6dKZYVVp-q"
   },
   "outputs": [
    {
     "data": {
      "text/plain": [
       "110"
      ]
     },
     "execution_count": 141,
     "metadata": {},
     "output_type": "execute_result"
    }
   ],
   "source": [
    "answers['4'] = '2. 110'\n",
    "#+\n",
    "round(data.runtime.mean())"
   ]
  },
  {
   "cell_type": "markdown",
   "metadata": {
    "colab_type": "text",
    "id": "r5TvbnT_Vp-u"
   },
   "source": [
    "# 5. Каково медианное значение длительности фильмов? "
   ]
  },
  {
   "cell_type": "code",
   "execution_count": 142,
   "metadata": {
    "colab": {},
    "colab_type": "code",
    "id": "iBROplKnVp-v"
   },
   "outputs": [
    {
     "data": {
      "text/plain": [
       "107"
      ]
     },
     "execution_count": 142,
     "metadata": {},
     "output_type": "execute_result"
    }
   ],
   "source": [
    "answers['5'] = '1. 107'\n",
    "#+\n",
    "round(data['runtime'].median())"
   ]
  },
  {
   "cell_type": "markdown",
   "metadata": {
    "colab_type": "text",
    "id": "39P-deDSVp-y"
   },
   "source": [
    "# 6. Какой самый прибыльный фильм?\n",
    "#### Внимание! Здесь и далее под «прибылью» или «убытками» понимается разность между сборами и бюджетом фильма. (прибыль = сборы - бюджет) в нашем датасете это будет (profit = revenue - budget) "
   ]
  },
  {
   "cell_type": "code",
   "execution_count": 143,
   "metadata": {
    "colab": {},
    "colab_type": "code",
    "id": "UYZh4T9WVp-y"
   },
   "outputs": [
    {
     "data": {
      "text/plain": [
       "239    Avatar\n",
       "Name: original_title, dtype: object"
      ]
     },
     "execution_count": 143,
     "metadata": {},
     "output_type": "execute_result"
    }
   ],
   "source": [
    "# лучше код получения столбца profit вынести в Предобработку что в начале\n",
    "answers['6'] = '5. Avatar (tt0499549)'\n",
    "#+\n",
    "data[data.profit == data.profit.max()].original_title"
   ]
  },
  {
   "cell_type": "markdown",
   "metadata": {
    "colab_type": "text",
    "id": "M99JmIX4Vp-2"
   },
   "source": [
    "# 7. Какой фильм самый убыточный? "
   ]
  },
  {
   "cell_type": "code",
   "execution_count": 144,
   "metadata": {
    "colab": {},
    "colab_type": "code",
    "id": "w-D2m4XPVp-3"
   },
   "outputs": [
    {
     "data": {
      "text/plain": [
       "1245    The Lone Ranger\n",
       "Name: original_title, dtype: object"
      ]
     },
     "execution_count": 144,
     "metadata": {},
     "output_type": "execute_result"
    }
   ],
   "source": [
    "answers['7'] = '5. The Lone Ranger (tt1210819)'\n",
    "#+\n",
    "data[data.profit == data.profit.min()].original_title"
   ]
  },
  {
   "cell_type": "markdown",
   "metadata": {
    "colab_type": "text",
    "id": "wEOM5ERVVp-6"
   },
   "source": [
    "# 8. У скольких фильмов из датасета объем сборов оказался выше бюджета?"
   ]
  },
  {
   "cell_type": "code",
   "execution_count": 145,
   "metadata": {
    "colab": {},
    "colab_type": "code",
    "id": "y00_7HD6Vp-7"
   },
   "outputs": [
    {
     "data": {
      "text/plain": [
       "1478"
      ]
     },
     "execution_count": 145,
     "metadata": {},
     "output_type": "execute_result"
    }
   ],
   "source": [
    "answers['8'] = '1. 1478'\n",
    "#+\n",
    "len(data[data.profit > 0])"
   ]
  },
  {
   "cell_type": "markdown",
   "metadata": {
    "colab_type": "text",
    "id": "xhpspA9KVp_A"
   },
   "source": [
    "# 9. Какой фильм оказался самым кассовым в 2008 году?"
   ]
  },
  {
   "cell_type": "code",
   "execution_count": 146,
   "metadata": {
    "colab": {},
    "colab_type": "code",
    "id": "MoUyQr9RVp_B"
   },
   "outputs": [
    {
     "data": {
      "text/plain": [
       "599    The Dark Knight\n",
       "Name: original_title, dtype: object"
      ]
     },
     "execution_count": 146,
     "metadata": {},
     "output_type": "execute_result"
    }
   ],
   "source": [
    "answers['9'] = '4. The Dark Knight (tt0468569)'\n",
    "#+\n",
    "data[data.revenue == data[(data.release_year == 2008)].revenue.max()].original_title"
   ]
  },
  {
   "cell_type": "markdown",
   "metadata": {
    "colab_type": "text",
    "id": "Zi4hDKidVp_F"
   },
   "source": [
    "# 10. Самый убыточный фильм за период с 2012 по 2014 г. (включительно)?\n"
   ]
  },
  {
   "cell_type": "code",
   "execution_count": 147,
   "metadata": {
    "colab": {},
    "colab_type": "code",
    "id": "XqyRmufJVp_F"
   },
   "outputs": [
    {
     "data": {
      "text/plain": [
       "1245    The Lone Ranger\n",
       "Name: original_title, dtype: object"
      ]
     },
     "execution_count": 147,
     "metadata": {},
     "output_type": "execute_result"
    }
   ],
   "source": [
    "answers['10'] = '5. The Lone Ranger (tt1210819)'\n",
    "#+\n",
    "data[data.profit == data[(data.release_year >= 2008) & (data.release_year <= 2014)].profit.min()].original_title"
   ]
  },
  {
   "cell_type": "markdown",
   "metadata": {
    "colab_type": "text",
    "id": "EA7Sa9dkVp_I"
   },
   "source": [
    "# 11. Какого жанра фильмов больше всего?"
   ]
  },
  {
   "cell_type": "code",
   "execution_count": 185,
   "metadata": {
    "colab": {},
    "colab_type": "code",
    "id": "zsJAwJ8QVp_J"
   },
   "outputs": [
    {
     "data": {
      "text/plain": [
       "'Drama'"
      ]
     },
     "execution_count": 185,
     "metadata": {},
     "output_type": "execute_result"
    }
   ],
   "source": [
    "# эту задачу тоже можно решать разными подходами, попробуй реализовать разные варианты\n",
    "# если будешь добавлять функцию - выноси ее в предобработку что в начале\n",
    "answers['11'] = '3. Drama'\n",
    "#+\n",
    "df_genres = data.genres.str.split('|',expand=True).stack().value_counts()\n",
    "df_genres.index[0]"
   ]
  },
  {
   "cell_type": "markdown",
   "metadata": {
    "colab_type": "text",
    "id": "Ax6g2C8SVp_M"
   },
   "source": [
    "ВАРИАНТ 2"
   ]
  },
  {
   "cell_type": "code",
   "execution_count": 0,
   "metadata": {
    "colab": {},
    "colab_type": "code",
    "id": "otO3SbrSVp_N"
   },
   "outputs": [],
   "source": []
  },
  {
   "cell_type": "markdown",
   "metadata": {
    "colab_type": "text",
    "id": "T9_bPWpkVp_Q"
   },
   "source": [
    "# 12. Фильмы какого жанра чаще всего становятся прибыльными? "
   ]
  },
  {
   "cell_type": "code",
   "execution_count": 183,
   "metadata": {
    "colab": {},
    "colab_type": "code",
    "id": "Tmt8MaK1Vp_R"
   },
   "outputs": [
    {
     "data": {
      "text/plain": [
       "'Drama'"
      ]
     },
     "execution_count": 183,
     "metadata": {},
     "output_type": "execute_result"
    }
   ],
   "source": [
    "answers['12'] = '1. Drama'\n",
    "#+\n",
    "#Отбираем только прибыльные фильмы \n",
    "df_pr=data[data.profit>0]\n",
    "#Получаем все жанры, подсчитываем результат\n",
    "s_genres=df_pr.genres.str.split('|',expand=True).stack().value_counts()\n",
    "#выводим результат\n",
    "s_genres.index[0]"
   ]
  },
  {
   "cell_type": "markdown",
   "metadata": {
    "colab_type": "text",
    "id": "0F23bgsDVp_U"
   },
   "source": [
    "# 13. У какого режиссера самые большие суммарные кассовые сбооры?"
   ]
  },
  {
   "cell_type": "code",
   "execution_count": 186,
   "metadata": {
    "colab": {},
    "colab_type": "code",
    "id": "K6Z3J8ygVp_X"
   },
   "outputs": [
    {
     "data": {
      "text/plain": [
       "{'Peter Jackson': 6490593685}"
      ]
     },
     "execution_count": 186,
     "metadata": {},
     "output_type": "execute_result"
    }
   ],
   "source": [
    "answers['13'] = '5. Peter Jackson'\n",
    "#+\n",
    "#Получаем список всех режиссеров\n",
    "s_director = data['director'].str.split('|',expand=True).stack().unique()\n",
    "#Создаем промежуточный словарь\n",
    "a_dict = {}\n",
    "\n",
    "#Накапливеам суммы сборов по каждому режиссеру\n",
    "for director in s_director:\n",
    "    if(director not in a_dict):        \n",
    "        a_dict[director] = data[data['director'].str.contains(director,False)]['revenue'].agg('sum')        \n",
    "    else:\n",
    "        sum = a_dict[director] \n",
    "        a_dict[director] = sum+data[data['director'].str.contains(director,False)]['revenue'].agg('sum')\n",
    "\n",
    "#Выбираем максимумальный сбор\n",
    "max_val = max(a_dict.values())\n",
    "max_value = max(a_dict.values())\n",
    "final_dict = {k: v for k, v in a_dict.items() if v == max_value}\n",
    "#Выводим результат\n",
    "final_dict"
   ]
  },
  {
   "cell_type": "code",
   "execution_count": 187,
   "metadata": {},
   "outputs": [
    {
     "data": {
      "text/html": [
       "<div>\n",
       "<style scoped>\n",
       "    .dataframe tbody tr th:only-of-type {\n",
       "        vertical-align: middle;\n",
       "    }\n",
       "\n",
       "    .dataframe tbody tr th {\n",
       "        vertical-align: top;\n",
       "    }\n",
       "\n",
       "    .dataframe thead th {\n",
       "        text-align: right;\n",
       "    }\n",
       "</style>\n",
       "<table border=\"1\" class=\"dataframe\">\n",
       "  <thead>\n",
       "    <tr style=\"text-align: right;\">\n",
       "      <th></th>\n",
       "      <th>revenue</th>\n",
       "    </tr>\n",
       "    <tr>\n",
       "      <th>director</th>\n",
       "      <th></th>\n",
       "    </tr>\n",
       "  </thead>\n",
       "  <tbody>\n",
       "    <tr>\n",
       "      <th>Peter Jackson</th>\n",
       "      <td>6490593685</td>\n",
       "    </tr>\n",
       "  </tbody>\n",
       "</table>\n",
       "</div>"
      ],
      "text/plain": [
       "                  revenue\n",
       "director                 \n",
       "Peter Jackson  6490593685"
      ]
     },
     "execution_count": 187,
     "metadata": {},
     "output_type": "execute_result"
    }
   ],
   "source": [
    "#13 вариант 2\n",
    "# Получаем всех режисеров\n",
    "s_director = data['director'].str.split('|',expand=True).stack().unique()\n",
    "#Создаем результирующий датафрейм\n",
    "new_df = pd.DataFrame(columns = ['director', 'revenue'])\n",
    "s = []  # Пустой список\n",
    "\n",
    "#Накапливеам суммы сборов по каждому режиссеру\n",
    "for director in s_director:\n",
    "    new_df.loc[len(new_df),'director'] = director \n",
    "    new_df.loc[len(new_df)-1,'revenue']  = data[data['director'].str.contains(director,False)]['revenue'].agg('sum')   \n",
    "           \n",
    "#Группируемся по режиссеру         \n",
    "new_df.groupby('director').agg('sum').sort_values('revenue',ascending=False).head(1)"
   ]
  },
  {
   "cell_type": "markdown",
   "metadata": {
    "colab_type": "text",
    "id": "PsYC9FgRVp_a"
   },
   "source": [
    "# 14. Какой режисер снял больше всего фильмов в стиле Action?"
   ]
  },
  {
   "cell_type": "code",
   "execution_count": 151,
   "metadata": {
    "colab": {},
    "colab_type": "code",
    "id": "wd2M-wHeVp_b"
   },
   "outputs": [
    {
     "data": {
      "text/plain": [
       "'Robert Rodriguez'"
      ]
     },
     "execution_count": 151,
     "metadata": {},
     "output_type": "execute_result"
    }
   ],
   "source": [
    "answers['14'] = '5. Peter Jackson'\n",
    "#+\n",
    "#установим отбор только для фильмов Action\n",
    "df_action = data[data['genres'].str.contains('Action',False)]\n",
    "#выберем всех режисеров и посчитаем их\n",
    "df_action['director'].str.split('|',expand=True).stack().value_counts().index[0]"
   ]
  },
  {
   "cell_type": "markdown",
   "metadata": {
    "colab_type": "text",
    "id": "PQ0KciD7Vp_f"
   },
   "source": [
    "# 15. Фильмы с каким актером принесли самые высокие кассовые сборы в 2012 году? "
   ]
  },
  {
   "cell_type": "code",
   "execution_count": 152,
   "metadata": {
    "colab": {},
    "colab_type": "code",
    "id": "aga62oeKVp_g"
   },
   "outputs": [
    {
     "data": {
      "text/html": [
       "<div>\n",
       "<style scoped>\n",
       "    .dataframe tbody tr th:only-of-type {\n",
       "        vertical-align: middle;\n",
       "    }\n",
       "\n",
       "    .dataframe tbody tr th {\n",
       "        vertical-align: top;\n",
       "    }\n",
       "\n",
       "    .dataframe thead th {\n",
       "        text-align: right;\n",
       "    }\n",
       "</style>\n",
       "<table border=\"1\" class=\"dataframe\">\n",
       "  <thead>\n",
       "    <tr style=\"text-align: right;\">\n",
       "      <th></th>\n",
       "      <th>revenue</th>\n",
       "    </tr>\n",
       "    <tr>\n",
       "      <th>cast</th>\n",
       "      <th></th>\n",
       "    </tr>\n",
       "  </thead>\n",
       "  <tbody>\n",
       "    <tr>\n",
       "      <th>Chris Hemsworth</th>\n",
       "      <td>2027450773</td>\n",
       "    </tr>\n",
       "  </tbody>\n",
       "</table>\n",
       "</div>"
      ],
      "text/plain": [
       "                    revenue\n",
       "cast                       \n",
       "Chris Hemsworth  2027450773"
      ]
     },
     "execution_count": 152,
     "metadata": {},
     "output_type": "execute_result"
    }
   ],
   "source": [
    "answers['15'] = '3. Chris Hemsworth'\n",
    "#+\n",
    "#установим отбор по фильмам за 2012 год\n",
    "df_2012_release_year = data[(data.release_year == 2012)]\n",
    "# выберем всех актеров в этих фильмах\n",
    "list_cast = data['cast'].str.split('|',expand=True).stack().unique()\n",
    "#создадим DataFrame в который будем аккумулировать результат\n",
    "new_df = pd.DataFrame(columns = ['cast', 'revenue'])\n",
    "\n",
    "for cast in list_cast:\n",
    "    new_df.loc[len(new_df),'cast'] = cast \n",
    "    new_df.loc[len(new_df)-1,'revenue']  = df_2012_release_year[df_2012_release_year['cast'].str.contains(cast,False)]['revenue'].agg('sum') \n",
    "                \n",
    "new_df.groupby('cast').agg('sum').sort_values('revenue',ascending=False).head(1)"
   ]
  },
  {
   "cell_type": "markdown",
   "metadata": {
    "colab_type": "text",
    "id": "mWHyyL7QVp_j"
   },
   "source": [
    "# 16. Какой актер снялся в большем количестве высокобюджетных фильмов?"
   ]
  },
  {
   "cell_type": "code",
   "execution_count": 153,
   "metadata": {
    "colab": {},
    "colab_type": "code",
    "id": "qQtmHKTFVp_k"
   },
   "outputs": [
    {
     "data": {
      "text/html": [
       "<div>\n",
       "<style scoped>\n",
       "    .dataframe tbody tr th:only-of-type {\n",
       "        vertical-align: middle;\n",
       "    }\n",
       "\n",
       "    .dataframe tbody tr th {\n",
       "        vertical-align: top;\n",
       "    }\n",
       "\n",
       "    .dataframe thead th {\n",
       "        text-align: right;\n",
       "    }\n",
       "</style>\n",
       "<table border=\"1\" class=\"dataframe\">\n",
       "  <thead>\n",
       "    <tr style=\"text-align: right;\">\n",
       "      <th></th>\n",
       "      <th>cast</th>\n",
       "      <th>count</th>\n",
       "    </tr>\n",
       "  </thead>\n",
       "  <tbody>\n",
       "    <tr>\n",
       "      <th>34</th>\n",
       "      <td>Matt Damon</td>\n",
       "      <td>18</td>\n",
       "    </tr>\n",
       "  </tbody>\n",
       "</table>\n",
       "</div>"
      ],
      "text/plain": [
       "          cast count\n",
       "34  Matt Damon    18"
      ]
     },
     "execution_count": 153,
     "metadata": {},
     "output_type": "execute_result"
    }
   ],
   "source": [
    "answers['16'] = '3. Matt Damon'\n",
    "#+\n",
    "#посчитаем средний бюджет в датасете\n",
    "mean_budget = data['budget'].mean()\n",
    "#отберем фильмы которые являются высокобюджетными \n",
    "df_large_mean_budget = data[data['budget'] > mean_budget]\n",
    "# выберем всех актеров\n",
    "list_cast = df_large_mean_budget['cast'].str.split('|',expand=True).stack().unique()\n",
    "#создадим DataFrame в который будем аккумулировать результат\n",
    "df_result = pd.DataFrame(columns = ['cast', 'count'])\n",
    "\n",
    "for cast in list_cast:\n",
    "    df_result.loc[len(df_result),'cast'] = cast \n",
    "    df_result.loc[len(df_result)-1,'count']  = df_large_mean_budget[df_large_mean_budget['cast'].str.contains(cast,False)]['imdb_id'].agg('count')\n",
    "    \n",
    "df_result.sort_values('count',ascending=False).head(1)"
   ]
  },
  {
   "cell_type": "markdown",
   "metadata": {
    "colab_type": "text",
    "id": "NIh6AaW5Vp_n"
   },
   "source": [
    "# 17. В фильмах какого жанра больше всего снимался Nicolas Cage? "
   ]
  },
  {
   "cell_type": "code",
   "execution_count": 154,
   "metadata": {
    "colab": {},
    "colab_type": "code",
    "id": "H74SJDIBVp_n"
   },
   "outputs": [
    {
     "data": {
      "text/plain": [
       "'Action'"
      ]
     },
     "execution_count": 154,
     "metadata": {},
     "output_type": "execute_result"
    }
   ],
   "source": [
    "answers['17'] = '2. Action'\n",
    "#+\n",
    "#отбираем все фильмы в которых снимался Nicolas Cage\n",
    "df_nicolas_cage = data[data['cast'].str.contains('Nicolas Cage',False)]\n",
    "#отбираем эти фильмы по жанрам \n",
    "s_genres = df_nicolas_cage['genres'].str.split('|',expand=True).stack()\n",
    "#Подсчитываем результат\n",
    "s_genres.value_counts().index[0]"
   ]
  },
  {
   "cell_type": "markdown",
   "metadata": {
    "colab_type": "text",
    "id": "RqOmPRfWVp_q"
   },
   "source": [
    "# 18. Самый убыточный фильм от Paramount Pictures"
   ]
  },
  {
   "cell_type": "code",
   "execution_count": 155,
   "metadata": {
    "colab": {},
    "colab_type": "code",
    "id": "9E_B0Y96Vp_r"
   },
   "outputs": [
    {
     "data": {
      "text/plain": [
       "925    K-19: The Widowmaker\n",
       "Name: original_title, dtype: object"
      ]
     },
     "execution_count": 155,
     "metadata": {},
     "output_type": "execute_result"
    }
   ],
   "source": [
    "answers['18'] = '1. K-19: The Widowmaker (tt0267626)'\n",
    "#+\n",
    "#Отберем убыточные фильмы студии Paramount Pictures\n",
    "df_paramount_pictures = data[(data.profit < 0) & (data['production_companies'].str.contains('Paramount Pictures',False))]\n",
    "#Сотрируем результат\n",
    "df_paramount_pictures.sort_values('profit').head(1).original_title"
   ]
  },
  {
   "cell_type": "markdown",
   "metadata": {
    "colab_type": "text",
    "id": "vS8Ur6ddVp_u"
   },
   "source": [
    "# 19. Какой год стал самым успешным по суммарным кассовым сборам?"
   ]
  },
  {
   "cell_type": "code",
   "execution_count": 156,
   "metadata": {
    "colab": {},
    "colab_type": "code",
    "id": "Dnbt4GdIVp_v"
   },
   "outputs": [
    {
     "data": {
      "text/plain": [
       "release_year\n",
       "2015    25449202382\n",
       "Name: revenue, dtype: int64"
      ]
     },
     "execution_count": 156,
     "metadata": {},
     "output_type": "execute_result"
    }
   ],
   "source": [
    "answers['19'] = '5. 2015'\n",
    "#+\n",
    "data.groupby('release_year')['revenue'].sum().sort_values(ascending=False).head(1)"
   ]
  },
  {
   "cell_type": "markdown",
   "metadata": {
    "colab_type": "text",
    "id": "JAzJh4QAVp_z"
   },
   "source": [
    "# 20. Какой самый прибыльный год для студии Warner Bros?"
   ]
  },
  {
   "cell_type": "code",
   "execution_count": 157,
   "metadata": {
    "colab": {},
    "colab_type": "code",
    "id": "wgVu02DEVp_0"
   },
   "outputs": [
    {
     "data": {
      "text/plain": [
       "release_year\n",
       "2014    2295464519\n",
       "Name: profit, dtype: int64"
      ]
     },
     "execution_count": 157,
     "metadata": {},
     "output_type": "execute_result"
    }
   ],
   "source": [
    "answers['20'] = '1. 2014'\n",
    "#+\n",
    "#Отбираем фильмы студии Warner Bros\n",
    "df_warner_bros = data[(data['production_companies'].str.contains('Warner Bros',False))]\n",
    "#Группируемся по году получаем сумму и сортируем результат \n",
    "df_warner_bros.groupby('release_year')['profit'].sum().sort_values(ascending=False).head(1)"
   ]
  },
  {
   "cell_type": "markdown",
   "metadata": {
    "colab_type": "text",
    "id": "8Im1S2HRVp_4"
   },
   "source": [
    "# 21. В каком месяце за все годы суммарно вышло больше всего фильмов?"
   ]
  },
  {
   "cell_type": "code",
   "execution_count": 176,
   "metadata": {
    "colab": {},
    "colab_type": "code",
    "id": "lev6TH7gVp_4"
   },
   "outputs": [
    {
     "data": {
      "text/plain": [
       "month_year\n",
       "9    227\n",
       "Name: imdb_id, dtype: int64"
      ]
     },
     "execution_count": 176,
     "metadata": {},
     "output_type": "execute_result"
    }
   ],
   "source": [
    "answers['21'] = '4. Сентябрь'\n",
    "#+\n",
    "#Преобразовываем колонку в datetime \n",
    "data['release_date']=pd.to_datetime(data['release_date'])\n",
    "#Копируем исходный датафрейм\n",
    "df2 = data.copy(deep=True)\n",
    "#Создаем колонку месяц и заполняем ее значениями\n",
    "df2['month_year'] = df2.release_date.dt.month\n",
    "#Группируемся по созданной колонке и пдсчитываем и сотрируем резутльтат \n",
    "df2.groupby('month_year')['imdb_id'].count().sort_values(ascending=False).head(1)"
   ]
  },
  {
   "cell_type": "markdown",
   "metadata": {
    "colab_type": "text",
    "id": "uAJsZ_NeVp_7"
   },
   "source": [
    "# 22. Сколько суммарно вышло фильмов летом? (за июнь, июль, август)"
   ]
  },
  {
   "cell_type": "code",
   "execution_count": 178,
   "metadata": {
    "colab": {},
    "colab_type": "code",
    "id": "Aa-hEREoVp_8"
   },
   "outputs": [
    {
     "data": {
      "text/plain": [
       "month_year    450\n",
       "dtype: int64"
      ]
     },
     "execution_count": 178,
     "metadata": {},
     "output_type": "execute_result"
    }
   ],
   "source": [
    "answers['22'] = '2. 450'\n",
    "#+\n",
    "df2[(df2['month_year'] >= 6) & (df2['month_year'] <= 8)].count().sort_values(ascending=False).head(1)"
   ]
  },
  {
   "cell_type": "markdown",
   "metadata": {
    "colab_type": "text",
    "id": "G94ppOY1VqAA"
   },
   "source": [
    "# 23. Для какого режиссера зима – самое продуктивное время года? "
   ]
  },
  {
   "cell_type": "code",
   "execution_count": 188,
   "metadata": {
    "colab": {},
    "colab_type": "code",
    "id": "RhNTsamuVqAB"
   },
   "outputs": [
    {
     "data": {
      "text/plain": [
       "'Peter Jackson'"
      ]
     },
     "execution_count": 188,
     "metadata": {},
     "output_type": "execute_result"
    }
   ],
   "source": [
    "answers['23'] = '5. Peter Jackson'\n",
    "#+\n",
    "#Преобразовываем колонку к типу датавремя\n",
    "data['release_date']=pd.to_datetime(data['release_date'])\n",
    "#Создаем новый датафрейм копией из основного \n",
    "df_month = data.copy(deep=True)\n",
    "#Создаем колонку месяц и заполняем ее значениями\n",
    "df_month['month_year'] = df_month.release_date.dt.month\n",
    "#Создаем новый датафрейм отбором по зиминим месяцам из промежуточного \n",
    "df_winter_month = df_month[(df_month['month_year'] == 1) | (df_month['month_year'] == 12) | (df_month['month_year'] == 2)]\n",
    "#Выводим результат\n",
    "df_winter_month['director'].str.split('|',expand=True).stack().value_counts().index[0]"
   ]
  },
  {
   "cell_type": "markdown",
   "metadata": {
    "colab_type": "text",
    "id": "RBo0JVjVVqAF"
   },
   "source": [
    "# 24. Какая студия дает самые длинные названия своим фильмам по количеству символов?"
   ]
  },
  {
   "cell_type": "code",
   "execution_count": 180,
   "metadata": {
    "colab": {},
    "colab_type": "code",
    "id": "QRGS8L0iVqAG"
   },
   "outputs": [
    {
     "data": {
      "text/plain": [
       "production_companies\n",
       "Four By Two Productions    83.0\n",
       "Name: length, dtype: float64"
      ]
     },
     "execution_count": 180,
     "metadata": {},
     "output_type": "execute_result"
    }
   ],
   "source": [
    "answers['24'] = '5. Four By Two Productions'\n",
    "#+\n",
    "#Получаем серию содержащую все студии\n",
    "s_companies = data['production_companies'].str.split('|',expand=True).stack().unique()\n",
    "#Создаем новый датафрейм\n",
    "df_result = pd.DataFrame(columns = ['production_companies', 'length'])\n",
    "\n",
    "#Перебираем все студии и помещаем информацию о длине названий в новый датафрейм \n",
    "for company in s_companies:\n",
    "    df_company = data[data['production_companies'].str.contains(company,False)]['original_title']\n",
    "    for original_title in df_company:          \n",
    "        df_result.loc[len(df_result),'production_companies'] = company \n",
    "        df_result.loc[len(df_result)-1,'length']  = len(original_title)\n",
    "        \n",
    "#Преобразовываем тип колонки к числовому\n",
    "df_result['length'] = df_result['length'].apply(pd.to_numeric)\n",
    "\n",
    "#Группируемся по студии считаем срежнее значение, сортируем и выводим результат\n",
    "df_result.groupby('production_companies')['length'].mean().sort_values(axis=0,ascending=False).head(1)"
   ]
  },
  {
   "cell_type": "markdown",
   "metadata": {
    "colab_type": "text",
    "id": "9G0hbvR7VqAK"
   },
   "source": [
    "# 25. Описание фильмов какой студии в среднем самые длинные по количеству слов?"
   ]
  },
  {
   "cell_type": "code",
   "execution_count": 181,
   "metadata": {
    "colab": {},
    "colab_type": "code",
    "id": "Ge2GsLNxVqAK"
   },
   "outputs": [
    {
     "data": {
      "text/plain": [
       "production_companies\n",
       "Midnight Picture Show    175.0\n",
       "Name: length, dtype: float64"
      ]
     },
     "execution_count": 181,
     "metadata": {},
     "output_type": "execute_result"
    }
   ],
   "source": [
    "answers['25'] = '3. Midnight Picture Show'\n",
    "#+\n",
    "#Получаем серию содержащую все студии\n",
    "s_companies = data['production_companies'].str.split('|',expand=True).stack().unique()\n",
    "#Создаем новый датафрейм\n",
    "df_result = pd.DataFrame(columns = ['production_companies', 'length'])\n",
    "df_result['length'] = df_result['length'].astype('int')\n",
    "\n",
    "#Перебираем все студии и помещаем информацию о количестве слов\n",
    "for company in s_companies:\n",
    "    df_company = data[data['production_companies'].str.contains(company,False)]['overview']\n",
    "    for overview in df_company:  \n",
    "        index = len(df_result)\n",
    "        df_result.loc[index,'production_companies'] = company         \n",
    "        df_result.loc[index,'length']  = len(overview.split(' '))\n",
    "    \n",
    "#Преобразовываем тип колонки к числовому\n",
    "df_result['length'] = df_result['length'].apply(pd.to_numeric)\n",
    "\n",
    "#Группируемся по студии считаем срежнее значение, сортируем и выводим результат\n",
    "df_result.groupby('production_companies')['length'].mean().sort_values(ascending=False).head(1)"
   ]
  },
  {
   "cell_type": "markdown",
   "metadata": {
    "colab_type": "text",
    "id": "FJ1AFt90VqAP"
   },
   "source": [
    "# 26. Какие фильмы входят в 1 процент лучших по рейтингу? \n",
    "по vote_average"
   ]
  },
  {
   "cell_type": "code",
   "execution_count": 173,
   "metadata": {
    "colab": {},
    "colab_type": "code",
    "id": "8qmJVq4CVqAQ"
   },
   "outputs": [
    {
     "data": {
      "text/plain": [
       "{'Inside Out, The Dark Knight, 12 Years a Slave': 3}"
      ]
     },
     "execution_count": 173,
     "metadata": {},
     "output_type": "execute_result"
    }
   ],
   "source": [
    "answers['26'] = '1. Inside Out, The Dark Knight, 12 Years a Slave'\n",
    "#+\n",
    "#Получаем датафрейм с 1% необходимых фильмов\n",
    "df_0_99 = data[data['vote_average']>data.quantile(0.99, numeric_only=True)['vote_average']]\n",
    "\n",
    "#Создаем словарь с вариантами ответов\n",
    "best_films_dict = { 'Inside Out, The Dark Knight, 12 Years a Slave' : 1\n",
    "                   ,'BloodRayne, The Adventures of Rocky & Bullwinkle' : 2\n",
    "                   ,'Batman Begins, The Lord of the Rings: The Return of the King, Upside Down' : 3\n",
    "                   ,'300, Lucky Number Slevin, Kill Bill: Vol. 1' : 4\n",
    "                   ,'Upside Down, Inside Out, Iron Man' : 5\n",
    "                  }\n",
    "\n",
    "#Создаем словарь для посчитанных вхождений\n",
    "v_dict = {}\n",
    "\n",
    "#Создаем функцию которая посчитает количество вхождений \n",
    "def get_count(original_titles):\n",
    "        result = 0\n",
    "        s_original_titles = original_titles.split(',')\n",
    "        for original_title in  s_original_titles:\n",
    "            result += df_0_99[(df_0_99['original_title'].str.contains(original_title.strip(),False))]['imdb_id'].count()\n",
    "        return result\n",
    "       \n",
    "#Перебирая заданные варианты подсчитываем вхождения\n",
    "for k,v in best_films_dict.items():            \n",
    "    v_dict[k] = get_count(k)        \n",
    "    \n",
    "#Сортируем словарь с подсчитанными вхождениями\n",
    "max_val = max(v_dict.values())\n",
    "max_value = max(v_dict.values())\n",
    "final_dict = {k: v for k, v in v_dict.items() if v == max_value}\n",
    "#Выводим результат\n",
    "final_dict"
   ]
  },
  {
   "cell_type": "markdown",
   "metadata": {
    "colab_type": "text",
    "id": "MdXsUXbCVqAV"
   },
   "source": [
    "# 27. Какие актеры чаще всего снимаются в одном фильме вместе?\n"
   ]
  },
  {
   "cell_type": "code",
   "execution_count": 166,
   "metadata": {},
   "outputs": [
    {
     "name": "stdout",
     "output_type": "stream",
     "text": [
      "6 6 5 5 8\n"
     ]
    }
   ],
   "source": [
    "answers['27'] ='5. Daniel Radcliffe & Rupert Grint'\n",
    "#+\n",
    "#Johnny Depp & Helena Bonham Carter\n",
    "#Ben Stiller & Owen Wilson\n",
    "#Vin Diesel & Paul Walker\n",
    "#Adam Sandler & Kevin James\n",
    "#Daniel Radcliffe & Rupert Grint\n",
    "\n",
    "result1 = data[(data['cast'].str.contains('Johnny Depp',False)) & (data['cast'].str.contains('Helena Bonham Carter',False))]['imdb_id'].count()\n",
    "result2 = data[(data['cast'].str.contains('Ben Stiller',False)) & (data['cast'].str.contains('Owen Wilson',False))]['imdb_id'].count()\n",
    "result3 = data[(data['cast'].str.contains('Vin Diesel',False)) & (data['cast'].str.contains('Paul Walker',False))]['imdb_id'].count()\n",
    "result4 = data[(data['cast'].str.contains('Adam Sandler',False)) & (data['cast'].str.contains('Kevin James',False))]['imdb_id'].count()\n",
    "result5 = data[(data['cast'].str.contains('Daniel Radcliffe',False)) & (data['cast'].str.contains('Rupert Grint',False))]['imdb_id'].count()\n",
    "\n",
    "\n",
    "print(result1,result2,result3,result4,result5)"
   ]
  },
  {
   "cell_type": "markdown",
   "metadata": {
    "colab_type": "text",
    "id": "4ymnxEVoVqAW"
   },
   "source": [
    "ВАРИАНТ 2"
   ]
  },
  {
   "cell_type": "code",
   "execution_count": 97,
   "metadata": {},
   "outputs": [
    {
     "data": {
      "text/plain": [
       "{'Daniel Radcliffe & Rupert Grint': 8}"
      ]
     },
     "execution_count": 97,
     "metadata": {},
     "output_type": "execute_result"
    }
   ],
   "source": [
    "#Создаем словарь с возможными вариантами\n",
    "a_dict = {'Johnny Depp & Helena Bonham Carter': 1, 'Ben Stiller & Owen Wilson': 2,'Vin Diesel & Paul Walker': 3\n",
    ",'Adam Sandler & Kevin James': 4, 'Daniel Radcliffe & Rupert Grint': 5}\n",
    "\n",
    "#Создаем словарь для посчитанных вхождений\n",
    "v_dict = {}\n",
    "\n",
    "#Создаем функцию которая посчитает количество вхождений \n",
    "def get_count(actors):\n",
    "        s_actors = actors.split('&')        \n",
    "        return data[(data['cast'].str.contains(s_actors[0].strip(),False)) & (data['cast'].str.contains(s_actors[1].strip(),False))]['imdb_id'].count()\n",
    "\n",
    "#Перебирая заданные варианты подсчитываем вхождения\n",
    "for k in a_dict.items():\n",
    "    v_dict[k] = get_count(k)\n",
    "\n",
    "#Сортируем словарь с подсчитанными вхождениями\n",
    "max_val = max(v_dict.values())\n",
    "max_value = max(v_dict.values())\n",
    "final_dict = {k: v for k, v in v_dict.items() if v == max_value}\n",
    "#Выводим результат\n",
    "final_dict"
   ]
  },
  {
   "cell_type": "markdown",
   "metadata": {
    "colab_type": "text",
    "id": "U0nONFnGVqAX"
   },
   "source": [
    "# Submission"
   ]
  },
  {
   "cell_type": "code",
   "execution_count": 174,
   "metadata": {
    "colab": {},
    "colab_type": "code",
    "id": "IfcaRO9-VqAX",
    "outputId": "0f132912-32bb-4196-c98c-abfbc4ad5a5f"
   },
   "outputs": [
    {
     "data": {
      "text/plain": [
       "{'1': '5. Pirates of the Caribbean: On Stranger Tides (tt1298650)',\n",
       " '2': '2. Gods and Generals (tt0279111)',\n",
       " '3': '3. Winnie the Pooh (tt1449283)',\n",
       " '4': '2. 110',\n",
       " '5': '1. 107',\n",
       " '6': '5. Avatar (tt0499549)',\n",
       " '7': '5. The Lone Ranger (tt1210819)',\n",
       " '8': '1. 1478',\n",
       " '9': '4. The Dark Knight (tt0468569)',\n",
       " '10': '5. The Lone Ranger (tt1210819)',\n",
       " '11': '3. Drama',\n",
       " '12': '1. Drama',\n",
       " '13': '5. Peter Jackson',\n",
       " '14': '5. Peter Jackson',\n",
       " '15': '3. Chris Hemsworth',\n",
       " '16': '3. Matt Damon',\n",
       " '17': '2. Action',\n",
       " '18': '1. K-19: The Widowmaker (tt0267626)',\n",
       " '19': '5. 2015',\n",
       " '20': '1. 2014',\n",
       " '21': '4. Сентябрь',\n",
       " '22': '2. 450',\n",
       " '23': '5. Peter Jackson',\n",
       " '24': '5. Four By Two Productions',\n",
       " '25': '3. Midnight Picture Show',\n",
       " '26': '1. Inside Out, The Dark Knight, 12 Years a Slave',\n",
       " '27': '5. Daniel Radcliffe & Rupert Grint'}"
      ]
     },
     "execution_count": 174,
     "metadata": {},
     "output_type": "execute_result"
    }
   ],
   "source": [
    "# в конце можно посмотреть свои ответы к каждому вопросу\n",
    "answers"
   ]
  },
  {
   "cell_type": "code",
   "execution_count": 168,
   "metadata": {
    "colab": {},
    "colab_type": "code",
    "id": "SiRmHPl8VqAd"
   },
   "outputs": [
    {
     "data": {
      "text/plain": [
       "27"
      ]
     },
     "execution_count": 168,
     "metadata": {},
     "output_type": "execute_result"
    }
   ],
   "source": [
    "# и убедиться что ни чего не пропустил)\n",
    "len(answers)"
   ]
  },
  {
   "cell_type": "code",
   "execution_count": 0,
   "metadata": {
    "colab": {},
    "colab_type": "code",
    "id": "uCfuTkRbVqAg"
   },
   "outputs": [],
   "source": []
  },
  {
   "cell_type": "code",
   "execution_count": 0,
   "metadata": {
    "colab": {},
    "colab_type": "code",
    "id": "Vwx3NrkSVqAl"
   },
   "outputs": [],
   "source": []
  }
 ],
 "metadata": {
  "colab": {
   "name": "Copy of [SF-DST] Movies IMBD v4.1 TEMPLATE.ipynb",
   "provenance": []
  },
  "kernelspec": {
   "display_name": "Python 3",
   "language": "python",
   "name": "python3"
  },
  "language_info": {
   "codemirror_mode": {
    "name": "ipython",
    "version": 3
   },
   "file_extension": ".py",
   "mimetype": "text/x-python",
   "name": "python",
   "nbconvert_exporter": "python",
   "pygments_lexer": "ipython3",
   "version": "3.7.6"
  }
 },
 "nbformat": 4,
 "nbformat_minor": 1
}
